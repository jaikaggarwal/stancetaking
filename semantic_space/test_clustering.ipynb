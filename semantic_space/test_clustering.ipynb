{
 "cells": [
  {
   "cell_type": "code",
   "execution_count": 1,
   "metadata": {},
   "outputs": [],
   "source": [
    "import matplotlib.pyplot as plt\n",
    "import numpy as np\n",
    "from scipy.stats import binned_statistic_dd\n",
    "import pandas as pd\n",
    "from itertools import product\n",
    "import os\n",
    "import sys\n",
    "from scipy.spatial.distance import pdist\n",
    "from sklearn.manifold import MDS\n",
    "from scipy.stats import spearmanr\n",
    "from scipy.spatial.distance import cdist\n",
    "from sklearn.metrics.pairwise import cosine_similarity\n",
    "sys.path.append(\"../data_extraction/\")\n",
    "from utils import flatten_logic, Serialization\n",
    "from functools import reduce\n",
    "from tqdm import tqdm\n",
    "from mpl_toolkits.mplot3d import Axes3D\n",
    "from multiprocessing import Pool\n",
    "from collections import Counter\n",
    "from nltk.stem import WordNetLemmatizer\n",
    "from nltk.corpus import wordnet \n",
    "tqdm.pandas()"
   ]
  },
  {
   "cell_type": "code",
   "execution_count": 2,
   "metadata": {},
   "outputs": [],
   "source": [
    "FEATURE_COLUMNS = ['Valence', 'Arousal', 'Dominance', 'Politeness', 'Formality']\n",
    "NUM_QUANTILES = 4\n",
    "lemmatizer = WordNetLemmatizer()"
   ]
  },
  {
   "cell_type": "code",
   "execution_count": 3,
   "metadata": {},
   "outputs": [],
   "source": [
    "def get_bins(data, num_bins):\n",
    "    \"\"\"Return the bin index that each data point in data falls into, given the space\n",
    "    is subdivided to have num_bins equally sized bins.\n",
    "\n",
    "    A bin number of i means that the corresponding value is between bin_edges[i-1], bin_edges[i]\n",
    "\n",
    "    Returns both the bin index as a unique integer, as well as in terms of a 5d\n",
    "    array corresponding to each dimension.\n",
    "    \"\"\"\n",
    "    # Initialize uniformly-sized bins\n",
    "    bin_edges = []\n",
    "    for feature in FEATURE_COLUMNS:\n",
    "        bin_edges.append(np.quantile(data[feature], np.linspace(0, 1, num_bins + 1)))\n",
    "    bin_edges = np.array(bin_edges)\n",
    "    bin_edges[:, 0] = 0\n",
    "    bin_edges[:, -1] = 1\n",
    "\n",
    "    data = data.to_numpy()\n",
    "    \n",
    "    stats, edges, unraveled_binnumber = binned_statistic_dd(data, np.arange(len(data)),\n",
    "                                                            statistic=\"mean\",\n",
    "                                                            bins=bin_edges,\n",
    "                                                            expand_binnumbers=True)\n",
    "\n",
    "    # Return the bin IDs\n",
    "    return unraveled_binnumber.transpose()"
   ]
  },
  {
   "cell_type": "code",
   "execution_count": 4,
   "metadata": {},
   "outputs": [],
   "source": [
    "# ROOT_DIR = \"/ais/hal9000/datasets/reddit/stance_pipeline/dec_6_full_run/full_features/\"\n",
    "# files = sorted(os.listdir(ROOT_DIR))\n",
    "# dfs = []\n",
    "# for file in tqdm(files):\n",
    "#     df = pd.read_csv(ROOT_DIR + file)\n",
    "#     dfs.append(df)\n",
    "# df = pd.concat(dfs)\n",
    "# del dfs\n",
    "# df = df.set_index(\"id\")\n",
    "# print(\"Getting marker\")\n",
    "# df['rel_marker'] = df['rel_marker'].progress_apply(lambda x: eval(x)[0])\n",
    "# print(\"Rescaling Politeness\")\n",
    "# df['Politeness'] = (df[\"Politeness\"] - df['Politeness'].min())/(df['Politeness'].max() - df['Politeness'].min())\n",
    "\n",
    "# def get_bin_names(arr):\n",
    "#     features = np.array(list(\"VADPF\"))\n",
    "#     added = np.char.add(features, arr.astype(str))\n",
    "#     names = np.sum(added.astype(object), axis=1)\n",
    "#     return names\n",
    "\n",
    "# print(\"Extracting Bins\")\n",
    "# ubins = get_bins(df[FEATURE_COLUMNS], NUM_QUANTILES)\n",
    "# print(\"Getting bin names\")\n",
    "# df['bin'] = get_bin_names(ubins)\n",
    "# print(\"Describing bin\")\n",
    "# df['bin'].describe()"
   ]
  },
  {
   "cell_type": "code",
   "execution_count": 6,
   "metadata": {},
   "outputs": [
    {
     "name": "stdout",
     "output_type": "stream",
     "text": [
      "Getting mean data\n",
      "Saving mean data\n",
      "Saving entire dataset\n"
     ]
    }
   ],
   "source": [
    "print(\"Getting mean data\")\n",
    "x = df.groupby(\"bin\").mean()[FEATURE_COLUMNS]\n",
    "print(\"Saving mean data\")\n",
    "Serialization.save_obj(x, f\"semantic_situation_mean_values_{NUM_QUANTILES}_full_data\")\n",
    "print(\"Saving entire dataset\")\n",
    "Serialization.save_obj(df[['subreddit', 'rel_marker', 'bin', 'Valence', 'Arousal', 'Dominance', 'Politeness', 'Formality']], f\"stance_pipeline_full_data_{NUM_QUANTILES}_quantiles_full_data\")\n"
   ]
  },
  {
   "cell_type": "code",
   "execution_count": 5,
   "metadata": {},
   "outputs": [],
   "source": [
    "df = Serialization.load_obj(f\"stance_pipeline_full_data_{NUM_QUANTILES}_quantiles_full_data\")\n",
    "x = df.groupby(\"bin\").mean()[FEATURE_COLUMNS]\n",
    "# df['rel_marker'] = df['rel_marker'].progress_apply(lambda x: marker_to_adjusted_lemma[x])"
   ]
  },
  {
   "cell_type": "code",
   "execution_count": 6,
   "metadata": {},
   "outputs": [],
   "source": [
    "# Get all unique markers\n",
    "# Takes about 1 min 12 s\n",
    "all_markers = sorted(df['rel_marker'].unique())\n",
    "all_markers = [marker for marker in all_markers if marker not in [\"'d\", \"10x\"]]\n",
    "df = df[df['rel_marker'].isin(all_markers)]\n",
    "# Combine the subreddit and marker and aggregate\n",
    "df['sub_marker'] = df[\"subreddit\"] + \"_\" + df['rel_marker']\n",
    "agg = df.groupby([\"bin\", \"sub_marker\"]).count()"
   ]
  },
  {
   "cell_type": "code",
   "execution_count": 7,
   "metadata": {},
   "outputs": [
    {
     "data": {
      "text/plain": [
       "102304"
      ]
     },
     "execution_count": 7,
     "metadata": {},
     "output_type": "execute_result"
    }
   ],
   "source": [
    "# Get all unique communities and bins\n",
    "# Takes 12 seconds\n",
    "comms = df['subreddit'].unique()\n",
    "markers = df['rel_marker'].unique()\n",
    "bins = df['bin'].unique()\n",
    "com_markers = list(product(comms, markers))\n",
    "com_markers = [\"_\".join(pair) for pair in com_markers]\n",
    "len(com_markers)"
   ]
  },
  {
   "cell_type": "code",
   "execution_count": 8,
   "metadata": {},
   "outputs": [
    {
     "data": {
      "text/html": [
       "<div>\n",
       "<style scoped>\n",
       "    .dataframe tbody tr th:only-of-type {\n",
       "        vertical-align: middle;\n",
       "    }\n",
       "\n",
       "    .dataframe tbody tr th {\n",
       "        vertical-align: top;\n",
       "    }\n",
       "\n",
       "    .dataframe thead th {\n",
       "        text-align: right;\n",
       "    }\n",
       "</style>\n",
       "<table border=\"1\" class=\"dataframe\">\n",
       "  <thead>\n",
       "    <tr style=\"text-align: right;\">\n",
       "      <th>bin</th>\n",
       "      <th>V1A1D1P1F1</th>\n",
       "      <th>V1A1D1P1F2</th>\n",
       "      <th>V1A1D1P1F3</th>\n",
       "      <th>V1A1D1P1F4</th>\n",
       "      <th>V1A1D1P2F1</th>\n",
       "      <th>V1A1D1P2F2</th>\n",
       "      <th>V1A1D1P2F3</th>\n",
       "      <th>V1A1D1P2F4</th>\n",
       "      <th>V1A1D1P3F1</th>\n",
       "      <th>V1A1D1P3F2</th>\n",
       "      <th>...</th>\n",
       "      <th>V4A4D4P2F3</th>\n",
       "      <th>V4A4D4P2F4</th>\n",
       "      <th>V4A4D4P3F1</th>\n",
       "      <th>V4A4D4P3F2</th>\n",
       "      <th>V4A4D4P3F3</th>\n",
       "      <th>V4A4D4P3F4</th>\n",
       "      <th>V4A4D4P4F1</th>\n",
       "      <th>V4A4D4P4F2</th>\n",
       "      <th>V4A4D4P4F3</th>\n",
       "      <th>V4A4D4P4F4</th>\n",
       "    </tr>\n",
       "  </thead>\n",
       "  <tbody>\n",
       "    <tr>\n",
       "      <th>count</th>\n",
       "      <td>92.000000</td>\n",
       "      <td>92.000000</td>\n",
       "      <td>92.000000</td>\n",
       "      <td>92.000000</td>\n",
       "      <td>92.000000</td>\n",
       "      <td>92.000000</td>\n",
       "      <td>92.000000</td>\n",
       "      <td>92.000000</td>\n",
       "      <td>92.000000</td>\n",
       "      <td>92.000000</td>\n",
       "      <td>...</td>\n",
       "      <td>92.000000</td>\n",
       "      <td>92.000000</td>\n",
       "      <td>92.000000</td>\n",
       "      <td>92.000000</td>\n",
       "      <td>92.000000</td>\n",
       "      <td>92.000000</td>\n",
       "      <td>92.000000</td>\n",
       "      <td>92.000000</td>\n",
       "      <td>92.000000</td>\n",
       "      <td>92.000000</td>\n",
       "    </tr>\n",
       "    <tr>\n",
       "      <th>mean</th>\n",
       "      <td>0.002242</td>\n",
       "      <td>0.001492</td>\n",
       "      <td>0.001071</td>\n",
       "      <td>0.000823</td>\n",
       "      <td>0.002292</td>\n",
       "      <td>0.001789</td>\n",
       "      <td>0.001374</td>\n",
       "      <td>0.001056</td>\n",
       "      <td>0.002047</td>\n",
       "      <td>0.001745</td>\n",
       "      <td>...</td>\n",
       "      <td>0.001082</td>\n",
       "      <td>0.001279</td>\n",
       "      <td>0.001109</td>\n",
       "      <td>0.001494</td>\n",
       "      <td>0.001845</td>\n",
       "      <td>0.002198</td>\n",
       "      <td>0.003359</td>\n",
       "      <td>0.003206</td>\n",
       "      <td>0.003687</td>\n",
       "      <td>0.004154</td>\n",
       "    </tr>\n",
       "    <tr>\n",
       "      <th>std</th>\n",
       "      <td>0.000793</td>\n",
       "      <td>0.000523</td>\n",
       "      <td>0.000456</td>\n",
       "      <td>0.000621</td>\n",
       "      <td>0.000692</td>\n",
       "      <td>0.000452</td>\n",
       "      <td>0.000405</td>\n",
       "      <td>0.000707</td>\n",
       "      <td>0.000603</td>\n",
       "      <td>0.000389</td>\n",
       "      <td>...</td>\n",
       "      <td>0.000492</td>\n",
       "      <td>0.000641</td>\n",
       "      <td>0.000556</td>\n",
       "      <td>0.000786</td>\n",
       "      <td>0.001063</td>\n",
       "      <td>0.001346</td>\n",
       "      <td>0.002517</td>\n",
       "      <td>0.001872</td>\n",
       "      <td>0.002484</td>\n",
       "      <td>0.003216</td>\n",
       "    </tr>\n",
       "    <tr>\n",
       "      <th>min</th>\n",
       "      <td>0.000256</td>\n",
       "      <td>0.000480</td>\n",
       "      <td>0.000215</td>\n",
       "      <td>0.000064</td>\n",
       "      <td>0.000428</td>\n",
       "      <td>0.000652</td>\n",
       "      <td>0.000391</td>\n",
       "      <td>0.000201</td>\n",
       "      <td>0.000624</td>\n",
       "      <td>0.000715</td>\n",
       "      <td>...</td>\n",
       "      <td>0.000271</td>\n",
       "      <td>0.000199</td>\n",
       "      <td>0.000081</td>\n",
       "      <td>0.000231</td>\n",
       "      <td>0.000359</td>\n",
       "      <td>0.000231</td>\n",
       "      <td>0.000319</td>\n",
       "      <td>0.000393</td>\n",
       "      <td>0.000680</td>\n",
       "      <td>0.000864</td>\n",
       "    </tr>\n",
       "    <tr>\n",
       "      <th>25%</th>\n",
       "      <td>0.001727</td>\n",
       "      <td>0.001114</td>\n",
       "      <td>0.000678</td>\n",
       "      <td>0.000384</td>\n",
       "      <td>0.001901</td>\n",
       "      <td>0.001484</td>\n",
       "      <td>0.001109</td>\n",
       "      <td>0.000587</td>\n",
       "      <td>0.001703</td>\n",
       "      <td>0.001515</td>\n",
       "      <td>...</td>\n",
       "      <td>0.000730</td>\n",
       "      <td>0.000784</td>\n",
       "      <td>0.000652</td>\n",
       "      <td>0.000885</td>\n",
       "      <td>0.001072</td>\n",
       "      <td>0.001267</td>\n",
       "      <td>0.001901</td>\n",
       "      <td>0.001737</td>\n",
       "      <td>0.001892</td>\n",
       "      <td>0.002080</td>\n",
       "    </tr>\n",
       "    <tr>\n",
       "      <th>50%</th>\n",
       "      <td>0.002203</td>\n",
       "      <td>0.001507</td>\n",
       "      <td>0.001046</td>\n",
       "      <td>0.000712</td>\n",
       "      <td>0.002257</td>\n",
       "      <td>0.001824</td>\n",
       "      <td>0.001352</td>\n",
       "      <td>0.000923</td>\n",
       "      <td>0.002007</td>\n",
       "      <td>0.001697</td>\n",
       "      <td>...</td>\n",
       "      <td>0.000918</td>\n",
       "      <td>0.001241</td>\n",
       "      <td>0.000952</td>\n",
       "      <td>0.001174</td>\n",
       "      <td>0.001484</td>\n",
       "      <td>0.001792</td>\n",
       "      <td>0.002993</td>\n",
       "      <td>0.002674</td>\n",
       "      <td>0.002711</td>\n",
       "      <td>0.002887</td>\n",
       "    </tr>\n",
       "    <tr>\n",
       "      <th>75%</th>\n",
       "      <td>0.002706</td>\n",
       "      <td>0.001788</td>\n",
       "      <td>0.001381</td>\n",
       "      <td>0.001072</td>\n",
       "      <td>0.002725</td>\n",
       "      <td>0.002047</td>\n",
       "      <td>0.001656</td>\n",
       "      <td>0.001253</td>\n",
       "      <td>0.002287</td>\n",
       "      <td>0.002040</td>\n",
       "      <td>...</td>\n",
       "      <td>0.001363</td>\n",
       "      <td>0.001689</td>\n",
       "      <td>0.001509</td>\n",
       "      <td>0.002097</td>\n",
       "      <td>0.002545</td>\n",
       "      <td>0.002910</td>\n",
       "      <td>0.004382</td>\n",
       "      <td>0.004316</td>\n",
       "      <td>0.005333</td>\n",
       "      <td>0.005505</td>\n",
       "    </tr>\n",
       "    <tr>\n",
       "      <th>max</th>\n",
       "      <td>0.005237</td>\n",
       "      <td>0.003102</td>\n",
       "      <td>0.002742</td>\n",
       "      <td>0.003895</td>\n",
       "      <td>0.004494</td>\n",
       "      <td>0.003225</td>\n",
       "      <td>0.002556</td>\n",
       "      <td>0.005554</td>\n",
       "      <td>0.004890</td>\n",
       "      <td>0.002832</td>\n",
       "      <td>...</td>\n",
       "      <td>0.002731</td>\n",
       "      <td>0.003125</td>\n",
       "      <td>0.002527</td>\n",
       "      <td>0.003472</td>\n",
       "      <td>0.006084</td>\n",
       "      <td>0.007752</td>\n",
       "      <td>0.021749</td>\n",
       "      <td>0.009998</td>\n",
       "      <td>0.014249</td>\n",
       "      <td>0.021208</td>\n",
       "    </tr>\n",
       "  </tbody>\n",
       "</table>\n",
       "<p>8 rows × 1024 columns</p>\n",
       "</div>"
      ],
      "text/plain": [
       "bin    V1A1D1P1F1  V1A1D1P1F2  V1A1D1P1F3  V1A1D1P1F4  V1A1D1P2F1  V1A1D1P2F2  \\\n",
       "count   92.000000   92.000000   92.000000   92.000000   92.000000   92.000000   \n",
       "mean     0.002242    0.001492    0.001071    0.000823    0.002292    0.001789   \n",
       "std      0.000793    0.000523    0.000456    0.000621    0.000692    0.000452   \n",
       "min      0.000256    0.000480    0.000215    0.000064    0.000428    0.000652   \n",
       "25%      0.001727    0.001114    0.000678    0.000384    0.001901    0.001484   \n",
       "50%      0.002203    0.001507    0.001046    0.000712    0.002257    0.001824   \n",
       "75%      0.002706    0.001788    0.001381    0.001072    0.002725    0.002047   \n",
       "max      0.005237    0.003102    0.002742    0.003895    0.004494    0.003225   \n",
       "\n",
       "bin    V1A1D1P2F3  V1A1D1P2F4  V1A1D1P3F1  V1A1D1P3F2  ...  V4A4D4P2F3  \\\n",
       "count   92.000000   92.000000   92.000000   92.000000  ...   92.000000   \n",
       "mean     0.001374    0.001056    0.002047    0.001745  ...    0.001082   \n",
       "std      0.000405    0.000707    0.000603    0.000389  ...    0.000492   \n",
       "min      0.000391    0.000201    0.000624    0.000715  ...    0.000271   \n",
       "25%      0.001109    0.000587    0.001703    0.001515  ...    0.000730   \n",
       "50%      0.001352    0.000923    0.002007    0.001697  ...    0.000918   \n",
       "75%      0.001656    0.001253    0.002287    0.002040  ...    0.001363   \n",
       "max      0.002556    0.005554    0.004890    0.002832  ...    0.002731   \n",
       "\n",
       "bin    V4A4D4P2F4  V4A4D4P3F1  V4A4D4P3F2  V4A4D4P3F3  V4A4D4P3F4  V4A4D4P4F1  \\\n",
       "count   92.000000   92.000000   92.000000   92.000000   92.000000   92.000000   \n",
       "mean     0.001279    0.001109    0.001494    0.001845    0.002198    0.003359   \n",
       "std      0.000641    0.000556    0.000786    0.001063    0.001346    0.002517   \n",
       "min      0.000199    0.000081    0.000231    0.000359    0.000231    0.000319   \n",
       "25%      0.000784    0.000652    0.000885    0.001072    0.001267    0.001901   \n",
       "50%      0.001241    0.000952    0.001174    0.001484    0.001792    0.002993   \n",
       "75%      0.001689    0.001509    0.002097    0.002545    0.002910    0.004382   \n",
       "max      0.003125    0.002527    0.003472    0.006084    0.007752    0.021749   \n",
       "\n",
       "bin    V4A4D4P4F2  V4A4D4P4F3  V4A4D4P4F4  \n",
       "count   92.000000   92.000000   92.000000  \n",
       "mean     0.003206    0.003687    0.004154  \n",
       "std      0.001872    0.002484    0.003216  \n",
       "min      0.000393    0.000680    0.000864  \n",
       "25%      0.001737    0.001892    0.002080  \n",
       "50%      0.002674    0.002711    0.002887  \n",
       "75%      0.004316    0.005333    0.005505  \n",
       "max      0.009998    0.014249    0.021208  \n",
       "\n",
       "[8 rows x 1024 columns]"
      ]
     },
     "execution_count": 8,
     "metadata": {},
     "output_type": "execute_result"
    }
   ],
   "source": [
    "# Need probability\n",
    "# Takes 30 seconds to run\n",
    "# sem_sit_counts = df.groupby([\"bin\"]).count()['sub_marker']\n",
    "sem_sit_counts_per_community = df.groupby([\"subreddit\", \"bin\"]).count()[['sub_marker', \"Valence\"]]\n",
    "all_sub_counts = pd.DataFrame(0, index=pd.MultiIndex.from_product([bins, comms], names=[\"bin\", \"subreddit\"]), columns=sem_sit_counts_per_community.columns)\n",
    "sem_sit_counts_per_community = sem_sit_counts_per_community.add(all_sub_counts, fill_value=0)\n",
    "sem_sit_counts_per_community['percent'] = sem_sit_counts_per_community.groupby(level=0)['sub_marker'].transform(lambda x: (x / x.sum()))\n",
    "# norm_sem_sit_counts = sem_sit_counts/sem_sit_counts.sum()\n",
    "# print(norm_sem_sit_counts.describe())\n",
    "com_to_need = {}\n",
    "for sub in comms:\n",
    "    need_vec = sem_sit_counts_per_community.loc[sub]['percent']\n",
    "    com_to_need[sub] = need_vec.to_numpy()\n",
    "need_df = pd.DataFrame(com_to_need).T\n",
    "need_df.columns = sem_sit_counts_per_community.loc[sub].index\n",
    "need_df.describe()"
   ]
  },
  {
   "cell_type": "code",
   "execution_count": 9,
   "metadata": {},
   "outputs": [],
   "source": [
    "def get_nonzero_prop(df):\n",
    "    print(np.round(np.count_nonzero(df)/df.size, 2))\n",
    "    \n",
    "# # Create a matrix of all possible semantic situations and community markers with 0 values\n",
    "# full_counts = pd.DataFrame(0, index=pd.MultiIndex.from_product([bins, com_markers], names=[\"bin\", \"sub_marker\"]), columns=agg.columns)\n",
    "# # Add to our attested matrix to fill in the blanks and get a full matrix\n",
    "# total = agg.add(full_counts, fill_value=0)\n",
    "# total = total.reset_index()\n",
    "# # Create co-occurrence matrices\n",
    "# print(\"Starting COOC Crosstab\")\n",
    "# cooc_matrix = pd.crosstab(total['bin'], total['sub_marker'], total['subreddit'], aggfunc=\"sum\")\n",
    "# print(f\"Full Co-occurrence Matrix Size: {cooc_matrix.shape}\")\n",
    "# get_nonzero_prop(cooc_matrix)\n",
    "# pav_matrix = pd.crosstab(df['subreddit'], df['rel_marker'])\n",
    "# print(f\"Pavalanathan Matrix Size: {pav_matrix.shape}\")\n",
    "# get_nonzero_prop(pav_matrix)"
   ]
  },
  {
   "cell_type": "code",
   "execution_count": 10,
   "metadata": {},
   "outputs": [],
   "source": [
    "# Serialization.save_obj(pav_matrix, \"pavalanathan_cooc_data_full_data_lemmatized\")\n",
    "# Serialization.save_obj(cooc_matrix, \"our_cooc_data_full_data_lemmatized\")"
   ]
  },
  {
   "cell_type": "code",
   "execution_count": 11,
   "metadata": {},
   "outputs": [],
   "source": [
    "# markers = sorted(markers)\n",
    "# lemmatized = []\n",
    "# for token in tqdm(markers):\n",
    "#     if token.endswith(\"ing\"):\n",
    "#         lemmatized.append(token)\n",
    "#     else:\n",
    "#         doc = lemmatizer.lemmatize(token, wordnet.VERB)\n",
    "#         lemmatized.append(doc)\n",
    "# marker_df = pd.DataFrame([markers, lemmatized], index=[\"og\", \"lem\"]).T\n",
    "# marker_to_lemma = dict(zip(markers, lemmatized))\n",
    "# marker_to_adjusted_lemma = {}\n",
    "# lemma_counts = Counter(lemmatized)\n",
    "# for marker in markers:\n",
    "#     if lemma_counts[marker_to_lemma[marker]] > 1:\n",
    "#         marker_to_adjusted_lemma[marker] = marker_to_lemma[marker]\n",
    "#     else:\n",
    "#         marker_to_adjusted_lemma[marker] = marker"
   ]
  },
  {
   "cell_type": "markdown",
   "metadata": {},
   "source": [
    "alarmingly (25) -> adj\n",
    "amazing (38) -> adj\n",
    "amusing (42) -> adj\n",
    "annoying (49) -> adj\n",
    "appalled (56) -> adj\n",
    "appallingly (57) -> adj\n",
    "astonishing (92) -> adj\n",
    "astounding (94) -> adj\n",
    "baffling (105) -> adj\n",
    "calculating (128) -> adj\n",
    "'d, 10x gone\n",
    "\n",
    "assertions (82) -> noun WHY HERE\n",
    "assumptions (87) -> noun WHY HERE\n",
    "conclusions (158) -> noun WHY HERE\n",
    "enchantment (323) -> noun WHY HERE\n",
    "definately (204) -> misspelling\n",
    "definetly (205) -> misspelling\n",
    "dissapointed (278) -> misspelling\n",
    "evidence/evidenced (348) -> noun?\n",
    "\n",
    "What do we do about cases like \"ed\", where loved vs love, but also \"he is loved\" (positive adjective). Alternatively, desensitize (though this is the lone word like this, so it's not a problem). Despised, determined, distracted (though by itself), distressed, dumbfounded (by itself), (\"embarrassed\"), enchanted, enraged (by itself), established (337), estimated 341\n",
    "Not a clear way to assess the situations above while also accounting for \"s\", except for saying all \"ed\" are adjectives. For lone words, it doesn't matter.\n",
    "Keep disgusted, disgusting, disgustingly separate.\n",
    "\n",
    "PLACER = 280\n",
    "marker_df.iloc[PLACER:PLACER + 20].T"
   ]
  },
  {
   "cell_type": "code",
   "execution_count": 12,
   "metadata": {},
   "outputs": [],
   "source": [
    "pav_matrix = Serialization.load_obj(\"pavalanathan_cooc_data_full_data\")\n",
    "cooc_matrix = Serialization.load_obj(\"our_cooc_data_full_data\")"
   ]
  },
  {
   "cell_type": "code",
   "execution_count": 13,
   "metadata": {},
   "outputs": [],
   "source": [
    "# # Extract co-occurrence matrix per subreddit to get words that are sufficiently infrequent\n",
    "# all_subs = []\n",
    "# for i in range(len(comms)):\n",
    "#     sub = cooc_matrix.iloc[:, i*len(markers):(i+1)*len(markers)]\n",
    "#     sub.columns = [col[col.index(\"_\") + 1:] for col in sub.columns]\n",
    "#     all_subs.append(sub)\n",
    "\n",
    "# whole_counts = reduce(lambda a, b: a.add(b, fill_value=0), all_subs)\n",
    "# whole_agg = whole_counts.sum()\n",
    "# markers_to_keep = whole_agg.index#set(whole_agg[whole_agg <= 100000].index)\n",
    "# cooc_matrix = cooc_matrix[[col for col in cooc_matrix.columns if col[col.find(\"_\") + 1:] in markers_to_keep]]\n",
    "# pav_matrix = pav_matrix[[col for col in pav_matrix.columns if col in markers_to_keep]]\n",
    "\n",
    "\n",
    "# cooc_sum = cooc_matrix.sum()\n",
    "# adjusted_cooc_matrix = cooc_matrix[cooc_sum[cooc_sum != 0].index]"
   ]
  },
  {
   "cell_type": "code",
   "execution_count": 14,
   "metadata": {},
   "outputs": [
    {
     "data": {
      "text/plain": [
       "102304"
      ]
     },
     "execution_count": 14,
     "metadata": {},
     "output_type": "execute_result"
    }
   ],
   "source": [
    "len(com_markers)"
   ]
  },
  {
   "cell_type": "code",
   "execution_count": 15,
   "metadata": {},
   "outputs": [],
   "source": [
    "# all_ppmis = []\n",
    "# for i in tqdm(range(len(comms))):\n",
    "#     sub = cooc_matrix_np[:, i*len(markers):(i+1)*len(markers)]\n",
    "#     # sub.columns = [col[col.index(\"_\") + 1:] for col in sub.columns]\n",
    "#     curr_ppmi = pmi(sub)\n",
    "#     all_ppmis.append(curr_ppmi)"
   ]
  },
  {
   "cell_type": "code",
   "execution_count": 16,
   "metadata": {},
   "outputs": [],
   "source": [
    "def pmi(df, positive=True):\n",
    "    col_totals = df.sum(axis=0)\n",
    "    total = col_totals.sum()\n",
    "    row_totals = df.sum(axis=1)\n",
    "    expected = np.outer(row_totals, col_totals) / total\n",
    "    df = df / expected\n",
    "    # Silence distracting warnings about log(0):\n",
    "    with np.errstate(divide='ignore'):\n",
    "        df = np.log(df)\n",
    "    df[np.isinf(df)] = 0.0  # log(0) = 0\n",
    "    if positive:\n",
    "        df[df < 0] = 0.0\n",
    "        df = np.nan_to_num(df)\n",
    "    return df"
   ]
  },
  {
   "cell_type": "code",
   "execution_count": 17,
   "metadata": {},
   "outputs": [],
   "source": [
    "def create_derived_representation(matrix, include_ppmi=True):\n",
    "    matrix_np = matrix.to_numpy()\n",
    "    print(matrix_np.shape)\n",
    "    if include_ppmi:\n",
    "        svd_input = pmi(matrix_np)\n",
    "    else:\n",
    "        svd_input = matrix_np\n",
    "    get_nonzero_prop(svd_input)\n",
    "    P, D, Q = np.linalg.svd(svd_input, full_matrices=False)\n",
    "    output = {\n",
    "        \"svd_input\": svd_input,\n",
    "        \"sem_rep\": P,\n",
    "        \"singular_values\": D,\n",
    "        \"marker_rep\": Q,\n",
    "        'sem_loadings': np.multiply(P, D),\n",
    "        'marker_loadings': np.multiply(D.reshape(-1, 1), Q)\n",
    "    }\n",
    "    \n",
    "    return output\n",
    "\n",
    "\n",
    "def scree_plot(sing_val_matrix, to_show=True):\n",
    "    eigenvalues = sing_val_matrix**2\n",
    "\n",
    "    var_explained = sing_val_matrix**2/np.sum(sing_val_matrix**2)\n",
    "    total_var_explained = np.concatenate(([0], np.cumsum(var_explained)))\n",
    "    var_explained = np.round(var_explained, 3)\n",
    "    if to_show:\n",
    "        plt.clf()\n",
    "        plt.plot(np.arange(len(eigenvalues[:10])) + 1, eigenvalues[:10])\n",
    "        plt.xlabel(\"Component Number\")\n",
    "        plt.ylabel(\"Eigenvalue (x10^6)\")\n",
    "        plt.title(\"Eigenvalues of Each Component\")\n",
    "        plt.show()\n",
    "        print(var_explained[:10])\n",
    "        print(total_var_explained[:10])\n",
    "        plt.clf()\n",
    "        plt.plot(np.arange(len(var_explained[:10])) + 1, var_explained[:10])\n",
    "        plt.xlabel(\"Component Number\")\n",
    "        plt.ylabel(\"Variance Explained\")\n",
    "        plt.title(\"Proportion of Variance Explained by Each Component\")\n",
    "        plt.show()\n",
    "        plt.clf()\n",
    "        plt.plot(np.arange(-1, len(total_var_explained[:10])) + 1, total_var_explained[:11])\n",
    "        plt.ylim(0, np.max(total_var_explained[:11]) + 0.02)\n",
    "        plt.xlabel(\"Component Number\")\n",
    "        plt.ylabel(\"Cumulative Variance Explained\")\n",
    "        plt.title(\"Cumulative Variance Explained Across Components\")\n",
    "        plt.show()\n",
    "    return eigenvalues, var_explained, total_var_explained"
   ]
  },
  {
   "cell_type": "code",
   "execution_count": 55,
   "metadata": {},
   "outputs": [],
   "source": [
    "matrices = [cooc_matrix, cooc_matrix, pav_matrix, pav_matrix, pav_matrix, pav_matrix]\n",
    "labels = [\"our_raw_90_var\", \"our_ppmi_90_var\", \"pav_raw_8_dim\", \"pav_ppmi_8_dim\", \"pav_raw_90_var\", \"pav_ppmi_90_var\"]\n",
    "delegates = [lambda x: create_derived_representation(x, include_ppmi=False), lambda x: create_derived_representation(x, include_ppmi=True), lambda x: create_derived_representation(x, include_ppmi=False), lambda x: create_derived_representation(x, include_ppmi=True), lambda x: create_derived_representation(x, include_ppmi=False), lambda x: create_derived_representation(x, include_ppmi=True)]"
   ]
  },
  {
   "cell_type": "code",
   "execution_count": 216,
   "metadata": {},
   "outputs": [],
   "source": [
    "# cooc_matrix_np = cooc_matrix.to_numpy()\n",
    "# P, D, Q = np.linalg.svd(cooc_matrix_np, full_matrices=False)\n",
    "# (D**2/np.sum(D**2))\n",
    "# (np.multiply(P, D)**2).sum(axis=0)\n",
    "# LOADINGS = np.multiply(D.reshape(-1, 1), Q)"
   ]
  },
  {
   "cell_type": "markdown",
   "metadata": {},
   "source": [
    "https://stats.stackexchange.com/questions/143905/loadings-vs-eigenvectors-in-pca-when-to-use-one-or-another \n",
    "https://stats.stackexchange.com/questions/92499/how-to-interpret-pca-loadings/92512#92512"
   ]
  },
  {
   "cell_type": "code",
   "execution_count": 56,
   "metadata": {},
   "outputs": [
    {
     "name": "stdout",
     "output_type": "stream",
     "text": [
      "(1024, 102304)\n",
      "0.09\n",
      "(1024, 102304)\n"
     ]
    },
    {
     "name": "stderr",
     "output_type": "stream",
     "text": [
      "/u/jai/miniconda3/envs/venv37/lib/python3.7/site-packages/ipykernel_launcher.py:6: RuntimeWarning: invalid value encountered in true_divide\n",
      "  \n"
     ]
    },
    {
     "name": "stdout",
     "output_type": "stream",
     "text": [
      "0.07\n",
      "(92, 1112)\n",
      "0.88\n",
      "(92, 1112)\n",
      "0.33\n",
      "(92, 1112)\n",
      "0.88\n",
      "(92, 1112)\n",
      "0.33\n"
     ]
    }
   ],
   "source": [
    "all_data = {}\n",
    "for matrix, label, delegate in zip(matrices, labels, delegates):\n",
    "    curr_output = delegate(matrix)\n",
    "    all_data[label] = curr_output"
   ]
  },
  {
   "cell_type": "code",
   "execution_count": 57,
   "metadata": {},
   "outputs": [],
   "source": [
    "def num_dim_to_keep(total_var_explained, label):\n",
    "    if label.endswith(\"8_dim\"):\n",
    "        return 8\n",
    "    else:\n",
    "        return np.argmax(total_var_explained>0.9)\n"
   ]
  },
  {
   "cell_type": "code",
   "execution_count": 58,
   "metadata": {},
   "outputs": [],
   "source": [
    "for label in labels:\n",
    "    eigenvalues, var_explained, total_var_explained = scree_plot(all_data[label]['singular_values'], to_show=False)\n",
    "    all_data[label]['eigenvalues'] = eigenvalues\n",
    "    all_data[label]['var_explained'] = var_explained\n",
    "    all_data[label]['total_var_explained'] = total_var_explained\n",
    "    all_data[label]['num_dim_to_keep'] = num_dim_to_keep(total_var_explained, label)\n",
    "    all_data[label]['new_sem_rep'] = all_data[label]['sem_rep'][:, :all_data[label]['num_dim_to_keep']]\n",
    "    all_data[label]['new_marker_rep'] = all_data[label]['marker_rep'].T[:, :all_data[label]['num_dim_to_keep']].reshape(-1, all_data[label]['num_dim_to_keep'])\n",
    "    all_data[label]['new_sem_loadings'] = all_data[label]['sem_loadings'][:, :all_data[label]['num_dim_to_keep']]\n",
    "    all_data[label]['new_marker_loadings'] = all_data[label]['marker_loadings'].T[:, :all_data[label]['num_dim_to_keep']].reshape(-1, all_data[label]['num_dim_to_keep'])\n"
   ]
  },
  {
   "cell_type": "code",
   "execution_count": 22,
   "metadata": {},
   "outputs": [
    {
     "data": {
      "text/plain": [
       "(102304, 9)"
      ]
     },
     "execution_count": 22,
     "metadata": {},
     "output_type": "execute_result"
    }
   ],
   "source": [
    "all_data[labels[0]]['new_marker_loadings'].shape"
   ]
  },
  {
   "cell_type": "code",
   "execution_count": 134,
   "metadata": {},
   "outputs": [],
   "source": [
    "# var_explained_df = pd.DataFrame([np.round(eigenvalues), np.round(var_explained, 3), np.round(total_var_explained[1:], 3)], index=[\"Eigenvalues\", \"Variance Explained\", \"Total Variance Explained\"])\n",
    "# var_explained_df[var_explained_df.columns[:10]].to_csv(\"variance_explained_top_10.csv\")\n",
    "# for quantile in [0.1, 0.2, 0.3, 0.4, 0.5, 0.6, 0.7, 0.8, 0.9, 1]:\n",
    "#     print(np.argmax(total_var_explained>quantile))"
   ]
  },
  {
   "cell_type": "code",
   "execution_count": 23,
   "metadata": {},
   "outputs": [],
   "source": [
    "x = df.groupby(\"bin\")[FEATURE_COLUMNS].mean()\n",
    "x = x.loc[cooc_matrix.index]"
   ]
  },
  {
   "cell_type": "code",
   "execution_count": 299,
   "metadata": {},
   "outputs": [
    {
     "name": "stdout",
     "output_type": "stream",
     "text": [
      "0.06\n",
      "0.02\n",
      "-0.09\n",
      "0.13\n",
      "-0.05\n"
     ]
    }
   ],
   "source": [
    "LATENT_DIM_NUM = 0\n",
    "print(np.round(spearmanr(new_P[:, LATENT_DIM_NUM], x['Valence'])[0], 2))\n",
    "print(np.round(spearmanr(new_P[:, LATENT_DIM_NUM], x['Arousal'])[0], 2))\n",
    "print(np.round(spearmanr(new_P[:, LATENT_DIM_NUM], x['Dominance'])[0], 2))\n",
    "print(np.round(spearmanr(new_P[:, LATENT_DIM_NUM], x['Politeness'])[0], 2))\n",
    "print(np.round(spearmanr(new_P[:, LATENT_DIM_NUM], x['Formality'])[0], 2))\n"
   ]
  },
  {
   "cell_type": "code",
   "execution_count": 25,
   "metadata": {},
   "outputs": [],
   "source": [
    "def get_abs_diff(pair):\n",
    "    bin_1, bin_2 = pair\n",
    "    return np.abs(x.loc[bin_1].to_numpy() - x.loc[bin_2].to_numpy())\n",
    "\n",
    "def get_diff(pair):\n",
    "    bin_1, bin_2 = pair\n",
    "    return x.loc[bin_1].to_numpy() - x.loc[bin_2].to_numpy()"
   ]
  },
  {
   "cell_type": "code",
   "execution_count": 171,
   "metadata": {},
   "outputs": [
    {
     "name": "stderr",
     "output_type": "stream",
     "text": [
      "100%|██████████| 1023/1023 [00:33<00:00, 30.58it/s] \n"
     ]
    }
   ],
   "source": [
    "rows = []\n",
    "indices = []\n",
    "with Pool(6) as p:\n",
    "    for i in tqdm(range(len(x.index)-1)):\n",
    "        bin_1 = x.index.tolist()[i]\n",
    "        input_vals = list(product([bin_1], x.iloc[i+1:].index))\n",
    "        r = list(p.imap(get_abs_diff, input_vals))\n",
    "        rows.extend(r)\n",
    "        indices.extend(input_vals)"
   ]
  },
  {
   "cell_type": "code",
   "execution_count": 172,
   "metadata": {},
   "outputs": [
    {
     "name": "stderr",
     "output_type": "stream",
     "text": [
      "100%|██████████| 523776/523776 [00:55<00:00, 9495.75it/s] \n"
     ]
    }
   ],
   "source": [
    "sem_sit_sims_derived = pd.DataFrame(cosine_similarity(new_P), columns=cooc_matrix.index, index=cooc_matrix.index)\n",
    "pairwise_distances = pd.DataFrame(np.array(rows), columns=FEATURE_COLUMNS, index=pd.MultiIndex.from_tuples(indices))\n",
    "pairwise_distances['Derived_Dist'] = pairwise_distances.progress_apply(lambda y: sem_sit_sims_derived.loc[y.name[0]][y.name[1]], axis=1)\n",
    "# Serialization.save_obj(pairwise_distances, f\"semantic_situation_regression_input_{NUM_QUANTILES}_full_data_3_dim\")\n",
    "\n",
    "# pairwise_distances = pd.DataFrame(np.array(rows), columns=FEATURE_COLUMNS, index=pd.MultiIndex.from_tuples(indices))\n",
    "# pairwise_distances['Derived_Dist'] = pairwise_distances.progress_apply(lambda y: sem_sit_sims_derived.loc[y.name[0]][y.name[1]], axis=1)\n",
    "# Serialization.save_obj(pairwise_distances, f\"semantic_situation_regression_input_{NUM_QUANTILES}_full_data_3_dim_true_diff\")"
   ]
  },
  {
   "cell_type": "code",
   "execution_count": 183,
   "metadata": {},
   "outputs": [
    {
     "data": {
      "text/plain": [
       "SpearmanrResult(correlation=0.24451093978803165, pvalue=0.0)"
      ]
     },
     "execution_count": 183,
     "metadata": {},
     "output_type": "execute_result"
    }
   ],
   "source": [
    "spearmanr(pairwise_distances['Politeness'], 1-pairwise_distances['Derived_Dist'])"
   ]
  },
  {
   "cell_type": "code",
   "execution_count": 162,
   "metadata": {},
   "outputs": [],
   "source": [
    "def calculate_pairwise_sim(data):\n",
    "    pairwise_sim = 1 - pd.DataFrame(cosine_similarity(data, data), index=x.index, columns=x.index)\n",
    "    pairwise_sim = pairwise_sim.where(np.triu(np.ones(pairwise_sim.shape), k=1).astype(np.bool))\n",
    "    pairwise_sim = pairwise_sim.stack().rename(\"Original_Dist\")\n",
    "    pairwise_sim.index = pairwise_sim.index.rename([\"Sit 1\", \"Sit 2\"])\n",
    "    return pd.DataFrame(pairwise_sim)\n"
   ]
  },
  {
   "cell_type": "code",
   "execution_count": 163,
   "metadata": {},
   "outputs": [
    {
     "name": "stderr",
     "output_type": "stream",
     "text": [
      "100%|██████████| 523776/523776 [00:54<00:00, 9638.62it/s]\n"
     ]
    }
   ],
   "source": [
    "full_space_sims = calculate_pairwise_sim(x)\n",
    "full_space_sims['Derived_Dist'] = 1- full_space_sims.progress_apply(lambda y: sem_sit_sims_derived.loc[y.name[0]][y.name[1]], axis=1)"
   ]
  },
  {
   "cell_type": "code",
   "execution_count": 196,
   "metadata": {},
   "outputs": [],
   "source": [
    "feat_to_dist = {}\n",
    "for feature in FEATURE_COLUMNS:\n",
    "    x_copy = x[[col for col in x.columns if col != feature]]\n",
    "    curr_space_sims = calculate_pairwise_sim(x_copy)\n",
    "    curr_space_sims['Derived_Dist'] = full_space_sims['Derived_Dist']\n",
    "    feat_to_dist[feature] = curr_space_sims"
   ]
  },
  {
   "cell_type": "code",
   "execution_count": 188,
   "metadata": {},
   "outputs": [],
   "source": [
    "# pairwise_distances = Serialization.load_obj(f\"semantic_situation_regression_input_{NUM_QUANTILES}_full_data_3_dim\")\n",
    "# pairwise_distances"
   ]
  },
  {
   "cell_type": "code",
   "execution_count": 170,
   "metadata": {},
   "outputs": [
    {
     "data": {
      "text/plain": [
       "SpearmanrResult(correlation=0.2615259377070754, pvalue=0.0)"
      ]
     },
     "execution_count": 170,
     "metadata": {},
     "output_type": "execute_result"
    }
   ],
   "source": [
    "spearmanr(example_df['Original_Dist_Full'], example_df['Original_Dist_Formality'])"
   ]
  },
  {
   "cell_type": "code",
   "execution_count": 167,
   "metadata": {},
   "outputs": [
    {
     "data": {
      "text/html": [
       "<div>\n",
       "<style scoped>\n",
       "    .dataframe tbody tr th:only-of-type {\n",
       "        vertical-align: middle;\n",
       "    }\n",
       "\n",
       "    .dataframe tbody tr th {\n",
       "        vertical-align: top;\n",
       "    }\n",
       "\n",
       "    .dataframe thead th {\n",
       "        text-align: right;\n",
       "    }\n",
       "</style>\n",
       "<table border=\"1\" class=\"dataframe\">\n",
       "  <thead>\n",
       "    <tr style=\"text-align: right;\">\n",
       "      <th></th>\n",
       "      <th></th>\n",
       "      <th>Original_Dist_Full</th>\n",
       "      <th>Original_Dist_Formality</th>\n",
       "      <th>Derived_Dist</th>\n",
       "    </tr>\n",
       "    <tr>\n",
       "      <th>Sit 1</th>\n",
       "      <th>Sit 2</th>\n",
       "      <th></th>\n",
       "      <th></th>\n",
       "      <th></th>\n",
       "    </tr>\n",
       "  </thead>\n",
       "  <tbody>\n",
       "    <tr>\n",
       "      <th rowspan=\"5\" valign=\"top\">V1A1D1P1F1</th>\n",
       "      <th>V1A1D1P1F2</th>\n",
       "      <td>0.014607</td>\n",
       "      <td>0.000030</td>\n",
       "      <td>0.055333</td>\n",
       "    </tr>\n",
       "    <tr>\n",
       "      <th>V1A1D1P1F3</th>\n",
       "      <td>0.043433</td>\n",
       "      <td>0.000061</td>\n",
       "      <td>0.263529</td>\n",
       "    </tr>\n",
       "    <tr>\n",
       "      <th>V1A1D1P1F4</th>\n",
       "      <td>0.099338</td>\n",
       "      <td>0.000127</td>\n",
       "      <td>0.829956</td>\n",
       "    </tr>\n",
       "    <tr>\n",
       "      <th>V1A1D1P2F1</th>\n",
       "      <td>0.004785</td>\n",
       "      <td>0.005215</td>\n",
       "      <td>0.011445</td>\n",
       "    </tr>\n",
       "    <tr>\n",
       "      <th>V1A1D1P2F2</th>\n",
       "      <td>0.016597</td>\n",
       "      <td>0.005280</td>\n",
       "      <td>0.070709</td>\n",
       "    </tr>\n",
       "    <tr>\n",
       "      <th>...</th>\n",
       "      <th>...</th>\n",
       "      <td>...</td>\n",
       "      <td>...</td>\n",
       "      <td>...</td>\n",
       "    </tr>\n",
       "    <tr>\n",
       "      <th rowspan=\"2\" valign=\"top\">V4A4D4P4F1</th>\n",
       "      <th>V4A4D4P4F3</th>\n",
       "      <td>0.016019</td>\n",
       "      <td>0.000580</td>\n",
       "      <td>0.193313</td>\n",
       "    </tr>\n",
       "    <tr>\n",
       "      <th>V4A4D4P4F4</th>\n",
       "      <td>0.040745</td>\n",
       "      <td>0.000996</td>\n",
       "      <td>0.472229</td>\n",
       "    </tr>\n",
       "    <tr>\n",
       "      <th rowspan=\"2\" valign=\"top\">V4A4D4P4F2</th>\n",
       "      <th>V4A4D4P4F3</th>\n",
       "      <td>0.003191</td>\n",
       "      <td>0.000069</td>\n",
       "      <td>0.042822</td>\n",
       "    </tr>\n",
       "    <tr>\n",
       "      <th>V4A4D4P4F4</th>\n",
       "      <td>0.017508</td>\n",
       "      <td>0.000253</td>\n",
       "      <td>0.220246</td>\n",
       "    </tr>\n",
       "    <tr>\n",
       "      <th>V4A4D4P4F3</th>\n",
       "      <th>V4A4D4P4F4</th>\n",
       "      <td>0.005783</td>\n",
       "      <td>0.000062</td>\n",
       "      <td>0.073157</td>\n",
       "    </tr>\n",
       "  </tbody>\n",
       "</table>\n",
       "<p>523776 rows × 3 columns</p>\n",
       "</div>"
      ],
      "text/plain": [
       "                       Original_Dist_Full  Original_Dist_Formality  \\\n",
       "Sit 1      Sit 2                                                     \n",
       "V1A1D1P1F1 V1A1D1P1F2            0.014607                 0.000030   \n",
       "           V1A1D1P1F3            0.043433                 0.000061   \n",
       "           V1A1D1P1F4            0.099338                 0.000127   \n",
       "           V1A1D1P2F1            0.004785                 0.005215   \n",
       "           V1A1D1P2F2            0.016597                 0.005280   \n",
       "...                                   ...                      ...   \n",
       "V4A4D4P4F1 V4A4D4P4F3            0.016019                 0.000580   \n",
       "           V4A4D4P4F4            0.040745                 0.000996   \n",
       "V4A4D4P4F2 V4A4D4P4F3            0.003191                 0.000069   \n",
       "           V4A4D4P4F4            0.017508                 0.000253   \n",
       "V4A4D4P4F3 V4A4D4P4F4            0.005783                 0.000062   \n",
       "\n",
       "                       Derived_Dist  \n",
       "Sit 1      Sit 2                     \n",
       "V1A1D1P1F1 V1A1D1P1F2      0.055333  \n",
       "           V1A1D1P1F3      0.263529  \n",
       "           V1A1D1P1F4      0.829956  \n",
       "           V1A1D1P2F1      0.011445  \n",
       "           V1A1D1P2F2      0.070709  \n",
       "...                             ...  \n",
       "V4A4D4P4F1 V4A4D4P4F3      0.193313  \n",
       "           V4A4D4P4F4      0.472229  \n",
       "V4A4D4P4F2 V4A4D4P4F3      0.042822  \n",
       "           V4A4D4P4F4      0.220246  \n",
       "V4A4D4P4F3 V4A4D4P4F4      0.073157  \n",
       "\n",
       "[523776 rows x 3 columns]"
      ]
     },
     "execution_count": 167,
     "metadata": {},
     "output_type": "execute_result"
    }
   ],
   "source": [
    "example_df = pd.concat((full_space_sims, feat_to_dist['Formality']), axis=1)\n",
    "example_df.columns = [\"Original_Dist_Full\", \"D\", \"Original_Dist_Formality\", \"Derived_Dist\"]\n",
    "example_df[[\"Original_Dist_Full\", \"Original_Dist_Formality\", \"Derived_Dist\"]]"
   ]
  },
  {
   "cell_type": "code",
   "execution_count": 165,
   "metadata": {},
   "outputs": [
    {
     "data": {
      "text/html": [
       "<div>\n",
       "<style scoped>\n",
       "    .dataframe tbody tr th:only-of-type {\n",
       "        vertical-align: middle;\n",
       "    }\n",
       "\n",
       "    .dataframe tbody tr th {\n",
       "        vertical-align: top;\n",
       "    }\n",
       "\n",
       "    .dataframe thead th {\n",
       "        text-align: right;\n",
       "    }\n",
       "</style>\n",
       "<table border=\"1\" class=\"dataframe\">\n",
       "  <thead>\n",
       "    <tr style=\"text-align: right;\">\n",
       "      <th></th>\n",
       "      <th></th>\n",
       "      <th>Original_Dist</th>\n",
       "      <th>Derived_Dist</th>\n",
       "    </tr>\n",
       "    <tr>\n",
       "      <th>Sit 1</th>\n",
       "      <th>Sit 2</th>\n",
       "      <th></th>\n",
       "      <th></th>\n",
       "    </tr>\n",
       "  </thead>\n",
       "  <tbody>\n",
       "    <tr>\n",
       "      <th rowspan=\"5\" valign=\"top\">V1A1D1P1F1</th>\n",
       "      <th>V1A1D1P1F2</th>\n",
       "      <td>0.014607</td>\n",
       "      <td>0.055333</td>\n",
       "    </tr>\n",
       "    <tr>\n",
       "      <th>V1A1D1P1F3</th>\n",
       "      <td>0.043433</td>\n",
       "      <td>0.263529</td>\n",
       "    </tr>\n",
       "    <tr>\n",
       "      <th>V1A1D1P1F4</th>\n",
       "      <td>0.099338</td>\n",
       "      <td>0.829956</td>\n",
       "    </tr>\n",
       "    <tr>\n",
       "      <th>V1A1D1P2F1</th>\n",
       "      <td>0.004785</td>\n",
       "      <td>0.011445</td>\n",
       "    </tr>\n",
       "    <tr>\n",
       "      <th>V1A1D1P2F2</th>\n",
       "      <td>0.016597</td>\n",
       "      <td>0.070709</td>\n",
       "    </tr>\n",
       "    <tr>\n",
       "      <th>...</th>\n",
       "      <th>...</th>\n",
       "      <td>...</td>\n",
       "      <td>...</td>\n",
       "    </tr>\n",
       "    <tr>\n",
       "      <th rowspan=\"2\" valign=\"top\">V4A4D4P4F1</th>\n",
       "      <th>V4A4D4P4F3</th>\n",
       "      <td>0.016019</td>\n",
       "      <td>0.193313</td>\n",
       "    </tr>\n",
       "    <tr>\n",
       "      <th>V4A4D4P4F4</th>\n",
       "      <td>0.040745</td>\n",
       "      <td>0.472229</td>\n",
       "    </tr>\n",
       "    <tr>\n",
       "      <th rowspan=\"2\" valign=\"top\">V4A4D4P4F2</th>\n",
       "      <th>V4A4D4P4F3</th>\n",
       "      <td>0.003191</td>\n",
       "      <td>0.042822</td>\n",
       "    </tr>\n",
       "    <tr>\n",
       "      <th>V4A4D4P4F4</th>\n",
       "      <td>0.017508</td>\n",
       "      <td>0.220246</td>\n",
       "    </tr>\n",
       "    <tr>\n",
       "      <th>V4A4D4P4F3</th>\n",
       "      <th>V4A4D4P4F4</th>\n",
       "      <td>0.005783</td>\n",
       "      <td>0.073157</td>\n",
       "    </tr>\n",
       "  </tbody>\n",
       "</table>\n",
       "<p>523776 rows × 2 columns</p>\n",
       "</div>"
      ],
      "text/plain": [
       "                       Original_Dist  Derived_Dist\n",
       "Sit 1      Sit 2                                  \n",
       "V1A1D1P1F1 V1A1D1P1F2       0.014607      0.055333\n",
       "           V1A1D1P1F3       0.043433      0.263529\n",
       "           V1A1D1P1F4       0.099338      0.829956\n",
       "           V1A1D1P2F1       0.004785      0.011445\n",
       "           V1A1D1P2F2       0.016597      0.070709\n",
       "...                              ...           ...\n",
       "V4A4D4P4F1 V4A4D4P4F3       0.016019      0.193313\n",
       "           V4A4D4P4F4       0.040745      0.472229\n",
       "V4A4D4P4F2 V4A4D4P4F3       0.003191      0.042822\n",
       "           V4A4D4P4F4       0.017508      0.220246\n",
       "V4A4D4P4F3 V4A4D4P4F4       0.005783      0.073157\n",
       "\n",
       "[523776 rows x 2 columns]"
      ]
     },
     "execution_count": 165,
     "metadata": {},
     "output_type": "execute_result"
    }
   ],
   "source": [
    "full_space_sims"
   ]
  },
  {
   "cell_type": "code",
   "execution_count": 197,
   "metadata": {},
   "outputs": [
    {
     "name": "stdout",
     "output_type": "stream",
     "text": [
      "0.5133156105474452\n",
      "Valence\n",
      "0.46 0.0\n",
      "Reduction in correlation for Valence: 0.05\n",
      "Arousal\n",
      "0.49 0.0\n",
      "Reduction in correlation for Arousal: 0.02\n",
      "Dominance\n",
      "0.47 0.0\n",
      "Reduction in correlation for Dominance: 0.04\n",
      "Politeness\n",
      "0.51 0.0\n",
      "Reduction in correlation for Politeness: 0.0\n",
      "Formality\n",
      "0.26 0.0\n",
      "Reduction in correlation for Formality: 0.25\n"
     ]
    }
   ],
   "source": [
    "total_corr, total_p = spearmanr(full_space_sims['Original_Dist'], full_space_sims['Derived_Dist'])\n",
    "print(total_corr)\n",
    "for feature in FEATURE_COLUMNS:\n",
    "    print(feature)\n",
    "    curr_corr, curr_p = spearmanr(feat_to_dist[feature]['Original_Dist'], feat_to_dist[feature]['Derived_Dist'])\n",
    "    print(np.round(curr_corr, 2), curr_p)\n",
    "    print(f\"Reduction in correlation for {feature}: {np.round(total_corr-curr_corr, 2)}\")"
   ]
  },
  {
   "cell_type": "code",
   "execution_count": null,
   "metadata": {},
   "outputs": [],
   "source": []
  },
  {
   "cell_type": "code",
   "execution_count": 37,
   "metadata": {},
   "outputs": [
    {
     "data": {
      "text/plain": [
       "count    523776.000000\n",
       "mean          0.002220\n",
       "std           0.029164\n",
       "min          -0.379060\n",
       "25%          -0.000466\n",
       "50%           0.000005\n",
       "75%           0.000490\n",
       "max           0.708600\n",
       "Name: Derived_Dist, dtype: float64"
      ]
     },
     "execution_count": 37,
     "metadata": {},
     "output_type": "execute_result"
    }
   ],
   "source": [
    "pairwise_distances['Derived_Dist'].describe()"
   ]
  },
  {
   "cell_type": "code",
   "execution_count": 129,
   "metadata": {},
   "outputs": [
    {
     "data": {
      "text/html": [
       "<div>\n",
       "<style scoped>\n",
       "    .dataframe tbody tr th:only-of-type {\n",
       "        vertical-align: middle;\n",
       "    }\n",
       "\n",
       "    .dataframe tbody tr th {\n",
       "        vertical-align: top;\n",
       "    }\n",
       "\n",
       "    .dataframe thead th {\n",
       "        text-align: right;\n",
       "    }\n",
       "</style>\n",
       "<table border=\"1\" class=\"dataframe\">\n",
       "  <thead>\n",
       "    <tr style=\"text-align: right;\">\n",
       "      <th></th>\n",
       "      <th></th>\n",
       "      <th>Valence</th>\n",
       "      <th>Arousal</th>\n",
       "      <th>Dominance</th>\n",
       "      <th>Politeness</th>\n",
       "      <th>Formality</th>\n",
       "      <th>Derived_Dist</th>\n",
       "    </tr>\n",
       "  </thead>\n",
       "  <tbody>\n",
       "    <tr>\n",
       "      <th rowspan=\"5\" valign=\"top\">V1A1D1P1F1</th>\n",
       "      <th>V1A1D1P1F2</th>\n",
       "      <td>0.002282</td>\n",
       "      <td>0.005976</td>\n",
       "      <td>0.002008</td>\n",
       "      <td>0.002581</td>\n",
       "      <td>0.129889</td>\n",
       "      <td>0.856745</td>\n",
       "    </tr>\n",
       "    <tr>\n",
       "      <th>V1A1D1P1F3</th>\n",
       "      <td>0.003939</td>\n",
       "      <td>0.009295</td>\n",
       "      <td>0.005749</td>\n",
       "      <td>0.003142</td>\n",
       "      <td>0.237282</td>\n",
       "      <td>0.600191</td>\n",
       "    </tr>\n",
       "    <tr>\n",
       "      <th>V1A1D1P1F4</th>\n",
       "      <td>0.005155</td>\n",
       "      <td>0.014864</td>\n",
       "      <td>0.004347</td>\n",
       "      <td>0.003303</td>\n",
       "      <td>0.397906</td>\n",
       "      <td>0.158861</td>\n",
       "    </tr>\n",
       "    <tr>\n",
       "      <th>V1A1D1P2F1</th>\n",
       "      <td>0.006474</td>\n",
       "      <td>0.007593</td>\n",
       "      <td>0.003411</td>\n",
       "      <td>0.073283</td>\n",
       "      <td>0.008467</td>\n",
       "      <td>0.987135</td>\n",
       "    </tr>\n",
       "    <tr>\n",
       "      <th>V1A1D1P2F2</th>\n",
       "      <td>0.003956</td>\n",
       "      <td>0.009322</td>\n",
       "      <td>0.000273</td>\n",
       "      <td>0.073563</td>\n",
       "      <td>0.131466</td>\n",
       "      <td>0.856616</td>\n",
       "    </tr>\n",
       "    <tr>\n",
       "      <th>...</th>\n",
       "      <th>...</th>\n",
       "      <td>...</td>\n",
       "      <td>...</td>\n",
       "      <td>...</td>\n",
       "      <td>...</td>\n",
       "      <td>...</td>\n",
       "      <td>...</td>\n",
       "    </tr>\n",
       "    <tr>\n",
       "      <th rowspan=\"2\" valign=\"top\">V4A4D4P4F1</th>\n",
       "      <th>V4A4D4P4F3</th>\n",
       "      <td>0.051638</td>\n",
       "      <td>0.000492</td>\n",
       "      <td>0.004079</td>\n",
       "      <td>0.016355</td>\n",
       "      <td>0.232954</td>\n",
       "      <td>0.801036</td>\n",
       "    </tr>\n",
       "    <tr>\n",
       "      <th>V4A4D4P4F4</th>\n",
       "      <td>0.062950</td>\n",
       "      <td>0.001075</td>\n",
       "      <td>0.012370</td>\n",
       "      <td>0.018931</td>\n",
       "      <td>0.390494</td>\n",
       "      <td>0.681500</td>\n",
       "    </tr>\n",
       "    <tr>\n",
       "      <th rowspan=\"2\" valign=\"top\">V4A4D4P4F2</th>\n",
       "      <th>V4A4D4P4F3</th>\n",
       "      <td>0.017128</td>\n",
       "      <td>0.000727</td>\n",
       "      <td>0.001849</td>\n",
       "      <td>0.004161</td>\n",
       "      <td>0.107097</td>\n",
       "      <td>0.976313</td>\n",
       "    </tr>\n",
       "    <tr>\n",
       "      <th>V4A4D4P4F4</th>\n",
       "      <td>0.028440</td>\n",
       "      <td>0.001310</td>\n",
       "      <td>0.010140</td>\n",
       "      <td>0.006737</td>\n",
       "      <td>0.264637</td>\n",
       "      <td>0.903936</td>\n",
       "    </tr>\n",
       "    <tr>\n",
       "      <th>V4A4D4P4F3</th>\n",
       "      <th>V4A4D4P4F4</th>\n",
       "      <td>0.011312</td>\n",
       "      <td>0.000583</td>\n",
       "      <td>0.008291</td>\n",
       "      <td>0.002576</td>\n",
       "      <td>0.157540</td>\n",
       "      <td>0.970146</td>\n",
       "    </tr>\n",
       "  </tbody>\n",
       "</table>\n",
       "<p>523776 rows × 6 columns</p>\n",
       "</div>"
      ],
      "text/plain": [
       "                        Valence   Arousal  Dominance  Politeness  Formality  \\\n",
       "V1A1D1P1F1 V1A1D1P1F2  0.002282  0.005976   0.002008    0.002581   0.129889   \n",
       "           V1A1D1P1F3  0.003939  0.009295   0.005749    0.003142   0.237282   \n",
       "           V1A1D1P1F4  0.005155  0.014864   0.004347    0.003303   0.397906   \n",
       "           V1A1D1P2F1  0.006474  0.007593   0.003411    0.073283   0.008467   \n",
       "           V1A1D1P2F2  0.003956  0.009322   0.000273    0.073563   0.131466   \n",
       "...                         ...       ...        ...         ...        ...   \n",
       "V4A4D4P4F1 V4A4D4P4F3  0.051638  0.000492   0.004079    0.016355   0.232954   \n",
       "           V4A4D4P4F4  0.062950  0.001075   0.012370    0.018931   0.390494   \n",
       "V4A4D4P4F2 V4A4D4P4F3  0.017128  0.000727   0.001849    0.004161   0.107097   \n",
       "           V4A4D4P4F4  0.028440  0.001310   0.010140    0.006737   0.264637   \n",
       "V4A4D4P4F3 V4A4D4P4F4  0.011312  0.000583   0.008291    0.002576   0.157540   \n",
       "\n",
       "                       Derived_Dist  \n",
       "V1A1D1P1F1 V1A1D1P1F2      0.856745  \n",
       "           V1A1D1P1F3      0.600191  \n",
       "           V1A1D1P1F4      0.158861  \n",
       "           V1A1D1P2F1      0.987135  \n",
       "           V1A1D1P2F2      0.856616  \n",
       "...                             ...  \n",
       "V4A4D4P4F1 V4A4D4P4F3      0.801036  \n",
       "           V4A4D4P4F4      0.681500  \n",
       "V4A4D4P4F2 V4A4D4P4F3      0.976313  \n",
       "           V4A4D4P4F4      0.903936  \n",
       "V4A4D4P4F3 V4A4D4P4F4      0.970146  \n",
       "\n",
       "[523776 rows x 6 columns]"
      ]
     },
     "execution_count": 129,
     "metadata": {},
     "output_type": "execute_result"
    }
   ],
   "source": [
    "Serialization.load_obj(\"semantic_situation_regression_input_4_full_data\")"
   ]
  },
  {
   "cell_type": "code",
   "execution_count": 224,
   "metadata": {},
   "outputs": [],
   "source": [
    "# Maps each feature to its quantile number in the semantic situation name (e.g. V1A2D1P2F1)\n",
    "feature_to_index = {\n",
    "    \"Valence\": 1,\n",
    "    \"Arousal\": 3,\n",
    "    \"Dominance\": 5,\n",
    "    \"Politeness\": 7,\n",
    "    \"Formality\": 9\n",
    "}\n",
    "\n",
    "quantile_to_plot_markers = {\n",
    "    2: [\"ro\", \"gs\"],\n",
    "    3: [\"ro\", \"bx\", \"gs\"],\n",
    "    4: [\"ro\", \"bo\", \"ys\", \"gs\"]\n",
    "}\n",
    "\n",
    "quantile_to_legend_labels = {\n",
    "    2: [\"Low\", \"High\"],\n",
    "    3: [\"Low\", \"Mid\", \"High\"],\n",
    "    4: [\"Low\", \"Midlow\", \"Midhigh\", \"High\"]\n",
    "}\n",
    "\n",
    "def mds_visualization_2d(lowdim, labels, feature, delegate, plot_markers, delegate_labels, legend_labels, derived_label, to_annotate):\n",
    "    # Rewrite into wrapper function that computes mds just once and can be used for an arbitrary number of features\n",
    "    plt.rcParams.update({\"font.size\": 20})\n",
    "    fig = plt.figure(figsize=(20, 10))\n",
    "    for i in range(len(delegate_labels)):\n",
    "        vals = np.array([idx for idx, label in enumerate(labels) if delegate(label, delegate_labels[i], feature)]).astype(int)\n",
    "        plt.plot(lowdim[vals, 0], lowdim[vals, 1], plot_markers[i], markersize=12, label=f\"{legend_labels[i]} {feature}\")\n",
    "    plt.legend()\n",
    "    if to_annotate:\n",
    "        for i in range(len(lowdim)):\n",
    "            plt.text(lowdim[i,0]*1.05, lowdim[i,1]*1.01, labels[i],fontsize=17)\n",
    "\n",
    "    plt.xlabel('Dimension 1')    \n",
    "    plt.ylabel('Dimension 2')\n",
    "    plt.title(f\"MDS Plot of {derived_label} Semantic Situation Space ({feature})\")\n",
    "\n",
    "def mds_visualization_3d(lowdim, labels, feature, delegate, plot_markers, delegate_labels, legend_labels, derived_label, to_annotate):\n",
    "    # Rewrite into wrapper function that computes mds just once and can be used for an arbitrary number of features\n",
    "    ax = plt.figure(figsize=(20, 10)).add_subplot(projection='3d')\n",
    "    ax.get_proj = lambda: np.dot(Axes3D.get_proj(ax), np.diag([1.5, 1.5, 1.5, 1]))\n",
    "    # ax.set_box_aspect(aspect = (1,1,2))\n",
    "    for i in range(len(delegate_labels)):\n",
    "        vals = np.array([idx for idx, label in enumerate(labels) if delegate(label, delegate_labels[i], feature)]).astype(int)\n",
    "        ax.plot(lowdim[vals, 0], lowdim[vals, 1], lowdim[vals, 2], plot_markers[i], markersize=8, label=f\"{legend_labels[i]} {feature}\")\n",
    "    ax.legend(loc='upper right')\n",
    "    if to_annotate:\n",
    "        for i in range(len(lowdim)):\n",
    "            ax.text(lowdim[i,0]*1.05, lowdim[i,1]*1.01, lowdim[i,2]*1.01, labels[i],fontsize=17)\n",
    "\n",
    "    ax.set_xlabel('Dimension 1')    \n",
    "    ax.set_ylabel('Dimension 2')\n",
    "    ax.set_zlabel('Dimension 3')\n",
    "    ax.view_init(0, -75)\n",
    "    plt.title(f\"MDS Plot of {derived_label} Semantic Situation Space ({feature})\")\n",
    "\n",
    "def mds_wrapper(data, labels, features, delegate, num_quantiles=2, num_components=2, is_derived=False, to_annotate=False):\n",
    "    embedding = MDS(n_components=num_components, random_state=42)\n",
    "    F_lowdim = embedding.fit_transform(data)\n",
    "    print(F_lowdim.shape)\n",
    "\n",
    "    plot_markers = quantile_to_plot_markers[num_quantiles]\n",
    "    derived_label = \"Derived\" if is_derived else \"Original\"\n",
    "    delegate_labels = [str(i+1) for i in range(num_quantiles)]\n",
    "    legend_labels = quantile_to_legend_labels[num_quantiles]\n",
    "\n",
    "    if num_components == 2:\n",
    "        for feature in features:\n",
    "            mds_visualization_2d(F_lowdim, labels, feature, delegate, plot_markers, delegate_labels, legend_labels, derived_label, to_annotate)\n",
    "    else:\n",
    "        for feature in features:\n",
    "            mds_visualization_3d(F_lowdim, labels, feature, delegate, plot_markers, delegate_labels, legend_labels, derived_label, to_annotate)\n"
   ]
  },
  {
   "cell_type": "code",
   "execution_count": 301,
   "metadata": {},
   "outputs": [],
   "source": [
    "original_dist_matrix = cosine_similarity(our_cooc)\n",
    "derived_dist_matrix = cosine_similarity(new_P)\n",
    "# original_dist_matrix = cdist(cooc_matrix_np, cooc_matrix_np)\n",
    "# derived_dist_matrix = cdist(new_P, new_P)"
   ]
  },
  {
   "cell_type": "code",
   "execution_count": 68,
   "metadata": {},
   "outputs": [],
   "source": [
    "# mds_wrapper(original_dist_matrix, cooc_matrix.index, FEATURE_COLUMNS, lambda x, y, z: x[feature_to_index[z]] == y, num_quantiles=NUM_QUANTILES, num_components=2, is_derived=False)\n",
    "# mds_wrapper(derived_dist_matrix, cooc_matrix.index, FEATURE_COLUMNS, lambda x, y, z: x[feature_to_index[z]] == y, num_quantiles=NUM_QUANTILES, num_components=2, is_derived=False)\n"
   ]
  },
  {
   "cell_type": "code",
   "execution_count": 24,
   "metadata": {},
   "outputs": [],
   "source": [
    "com_to_stance_usage = {\"our_raw_90_var\": {}, \"our_ppmi_90_var\": {}}\n",
    "comms = sorted(comms)\n",
    "for i in range(len(comms)):\n",
    "    sub = all_data['our_raw_90_var']['new_marker_rep'][i*len(markers):(i+1)*len(markers), :]\n",
    "    com_to_stance_usage['our_raw_90_var'][comms[i]] = sub\n",
    "    sub = all_data['our_ppmi_90_var']['new_marker_rep'][i*len(markers):(i+1)*len(markers), :]\n",
    "    com_to_stance_usage['our_ppmi_90_var'][comms[i]] = sub\n",
    "    # sub.columns = [col[col.index(\"_\") + 1:] for col in sub.columns]\n",
    "    "
   ]
  },
  {
   "cell_type": "code",
   "execution_count": 21,
   "metadata": {},
   "outputs": [
    {
     "name": "stderr",
     "output_type": "stream",
     "text": [
      "100%|██████████| 92/92 [00:14<00:00,  6.13it/s]\n"
     ]
    }
   ],
   "source": [
    "pairs = []\n",
    "need_sims = []\n",
    "stance_sims = []\n",
    "adjusted_stance_sims = []\n",
    "com_to_markers = {}\n",
    "for com_1 in tqdm(comms):\n",
    "    for com_2 in comms:\n",
    "        if com_1 != com_2:\n",
    "            if sorted((com_1, com_2)) in pairs:\n",
    "                continue\n",
    "            pairs.append(sorted((com_1, com_2)))\n",
    "            # need_sims.append(cosine_similarity(com_to_need[com_1].reshape(1, -1), com_to_need[com_2].reshape(1, -1))[0][0])\n",
    "            need_sims.append(np.abs(com_to_need[com_1].reshape(1, -1) - com_to_need[com_2].reshape(1, -1)).sum())\n",
    "            stance_sims.append(np.mean(cosine_similarity(com_to_stance_usage[com_1], com_to_stance_usage[com_2]).diagonal()))\n",
    "\n",
    "            if com_1 not in com_to_markers:\n",
    "                shdf = cooc_matrix[[col for col in cooc_matrix.columns if col[:col.rfind(\"_\")] == com_1]]\n",
    "                markers_in_shdf = cosine_similarity(shdf.to_numpy().T, shdf.to_numpy().T).diagonal().nonzero()\n",
    "                com_1_markers = set(markers_in_shdf[0])\n",
    "                com_to_markers[com_1] = com_1_markers\n",
    "            if com_2 not in com_to_markers:\n",
    "                d3df = cooc_matrix[[col for col in cooc_matrix.columns if col[:col.rfind(\"_\")] == com_2]]\n",
    "                markers_in_d3df = cosine_similarity(d3df.to_numpy().T, d3df.to_numpy().T).diagonal().nonzero()\n",
    "                com_2_markers = set(markers_in_d3df[0])\n",
    "                com_to_markers[com_2] = com_2_markers\n",
    "\n",
    "            common_markers = list(com_to_markers[com_1].intersection(com_to_markers[com_2]))\n",
    "            adjusted_stance_sims.append(np.mean(cosine_similarity(com_to_stance_usage[com_1][common_markers, :], com_to_stance_usage[com_2][common_markers, :]).diagonal()))"
   ]
  },
  {
   "cell_type": "code",
   "execution_count": 22,
   "metadata": {},
   "outputs": [
    {
     "name": "stderr",
     "output_type": "stream",
     "text": [
      "/u/jai/miniconda3/envs/venv37/lib/python3.7/site-packages/IPython/core/interactiveshell.py:3524: RankWarning: Polyfit may be poorly conditioned\n",
      "  exec(code_obj, self.user_global_ns, self.user_ns)\n"
     ]
    },
    {
     "data": {
      "text/plain": [
       "array([0.23274467, 0.23274467])"
      ]
     },
     "execution_count": 22,
     "metadata": {},
     "output_type": "execute_result"
    }
   ],
   "source": [
    "np.polyfit(need_sims, stance_sims, 1)"
   ]
  },
  {
   "cell_type": "code",
   "execution_count": 23,
   "metadata": {},
   "outputs": [
    {
     "name": "stderr",
     "output_type": "stream",
     "text": [
      "/u/jai/miniconda3/envs/venv37/lib/python3.7/site-packages/IPython/core/interactiveshell.py:3524: RankWarning: Polyfit may be poorly conditioned\n",
      "  exec(code_obj, self.user_global_ns, self.user_ns)\n"
     ]
    },
    {
     "data": {
      "text/plain": [
       "[<matplotlib.lines.Line2D at 0x7f074ceb4f10>]"
      ]
     },
     "execution_count": 23,
     "metadata": {},
     "output_type": "execute_result"
    },
    {
     "data": {
      "image/png": "[encoded data removed]",
      "text/plain": [
       "<Figure size 432x288 with 1 Axes>"
      ]
     },
     "metadata": {
      "needs_background": "light"
     },
     "output_type": "display_data"
    }
   ],
   "source": [
    "plt.clf()\n",
    "plt.rcParams.update({\"font.size\": 15})\n",
    "plt.scatter(need_sims, stance_sims)\n",
    "plt.title(\"Comparison of Need Probability Similarity \\nand Stance Marker Usage Similarity\")\n",
    "plt.xlabel(\"Need Probability\")\n",
    "plt.ylabel(\"Stance Similarity\")\n",
    "plt.xlim(0, 1)\n",
    "plt.ylim(0, 1)\n",
    "plt.plot(np.unique(need_sims), np.poly1d(np.polyfit(need_sims, stance_sims, 1))(np.unique(need_sims)), color=\"red\")"
   ]
  },
  {
   "cell_type": "code",
   "execution_count": 66,
   "metadata": {},
   "outputs": [
    {
     "data": {
      "text/plain": [
       "SpearmanrResult(correlation=0.5944142249064551, pvalue=0.0)"
      ]
     },
     "execution_count": 66,
     "metadata": {},
     "output_type": "execute_result"
    }
   ],
   "source": [
    "spearmanr(need_sims, stance_sims)"
   ]
  },
  {
   "cell_type": "code",
   "execution_count": 82,
   "metadata": {},
   "outputs": [
    {
     "data": {
      "text/plain": [
       "[<matplotlib.lines.Line2D at 0x7fd75020a750>]"
      ]
     },
     "execution_count": 82,
     "metadata": {},
     "output_type": "execute_result"
    },
    {
     "data": {
      "image/png": "[encoded data removed]",
      "text/plain": [
       "<Figure size 432x288 with 1 Axes>"
      ]
     },
     "metadata": {
      "needs_background": "light"
     },
     "output_type": "display_data"
    }
   ],
   "source": [
    "plt.title(\"Comparison of Need Probability Similarity \\nand Adjusted Stance Marker Usage Similarity\")\n",
    "plt.scatter(new_need_sims, new_stance_sims, label=\"Not PSB\")\n",
    "plt.scatter(psb_need_sims, psb_stance_sims, label=\"PSB\")\n",
    "plt.xlabel(\"Need Probability Similarity\")\n",
    "plt.ylabel(\"Stance Similarity\")\n",
    "plt.xlim(0, 1)\n",
    "plt.ylim(0, 1)\n",
    "plt.legend()\n",
    "plt.plot(np.unique(need_sims), np.poly1d(np.polyfit(need_sims, adjusted_stance_sims, 1))(np.unique(need_sims)), color=\"red\")"
   ]
  },
  {
   "cell_type": "code",
   "execution_count": 72,
   "metadata": {},
   "outputs": [
    {
     "data": {
      "text/plain": [
       "SpearmanrResult(correlation=0.6768160578274767, pvalue=0.0)"
      ]
     },
     "execution_count": 72,
     "metadata": {},
     "output_type": "execute_result"
    }
   ],
   "source": [
    "spearmanr(need_sims, adjusted_stance_sims)"
   ]
  },
  {
   "cell_type": "code",
   "execution_count": 75,
   "metadata": {},
   "outputs": [],
   "source": [
    "new_pairs = []\n",
    "new_need_sims = []\n",
    "new_stance_sims = []\n",
    "\n",
    "psb_pairs = []\n",
    "psb_need_sims = []\n",
    "psb_stance_sims = []\n",
    "\n",
    "# np.array(pairs)[[np.argsort(need_sims)[:200]]]\n",
    "for pair, need_sim, stance_sim in zip(pairs, need_sims, adjusted_stance_sims):\n",
    "    if \"photoshopbattles\" not in pair:\n",
    "        new_pairs.append(pair)\n",
    "        new_need_sims.append(need_sim)\n",
    "        new_stance_sims.append(stance_sim)\n",
    "    else:\n",
    "        psb_pairs.append(pair)\n",
    "        psb_need_sims.append(need_sim)\n",
    "        psb_stance_sims.append(stance_sim)"
   ]
  },
  {
   "cell_type": "code",
   "execution_count": 76,
   "metadata": {},
   "outputs": [
    {
     "name": "stderr",
     "output_type": "stream",
     "text": [
      "/u/jai/miniconda3/envs/venv37/lib/python3.7/site-packages/ipykernel_launcher.py:1: FutureWarning: Using a non-tuple sequence for multidimensional indexing is deprecated; use `arr[tuple(seq)]` instead of `arr[seq]`. In the future this will be interpreted as an array index, `arr[np.array(seq)]`, which will result either in an error or a different result.\n",
      "  \"\"\"Entry point for launching an IPython kernel.\n"
     ]
    },
    {
     "data": {
      "text/plain": [
       "array([['askhistorians', 'percyjacksonrp'],\n",
       "       ['askhistorians', 'steamgameswap'],\n",
       "       ['amiugly', 'askhistorians'],\n",
       "       ['askhistorians', 'teenagers'],\n",
       "       ['askhistorians', 'globaloffensivetrade'],\n",
       "       ['askhistorians', 'cardinals'],\n",
       "       ['askhistorians', 'csgobetting'],\n",
       "       ['askhistorians', 'femalefashionadvice'],\n",
       "       ['femalefashionadvice', 'worldnews'],\n",
       "       ['steamgameswap', 'worldnews'],\n",
       "       ['makeupaddiction', 'worldnews'],\n",
       "       ['askhistorians', 'makeupaddiction'],\n",
       "       ['askhistorians', 'nrl'],\n",
       "       ['askhistorians', 'frozen'],\n",
       "       ['askhistorians', 'tifu'],\n",
       "       ['askhistorians', 'hardwareswap'],\n",
       "       ['askhistorians', 'music'],\n",
       "       ['askhistorians', 'battlestations'],\n",
       "       ['amiugly', 'worldnews'],\n",
       "       ['askhistorians', 'jokes'],\n",
       "       ['science', 'steamgameswap'],\n",
       "       ['news', 'steamgameswap'],\n",
       "       ['makeupaddiction', 'whowouldwin'],\n",
       "       ['femalefashionadvice', 'whowouldwin'],\n",
       "       ['percyjacksonrp', 'worldnews'],\n",
       "       ['askhistorians', 'gamedeals'],\n",
       "       ['askhistorians', 'reactiongifs'],\n",
       "       ['buildapc', 'worldnews'],\n",
       "       ['askhistorians', 'okcupid'],\n",
       "       ['askhistorians', 'fantasyfootball'],\n",
       "       ['femalefashionadvice', 'news'],\n",
       "       ['percyjacksonrp', 'science'],\n",
       "       ['askhistorians', 'buildapc'],\n",
       "       ['makeupaddiction', 'warthunder'],\n",
       "       ['askhistorians', 'pcmasterrace'],\n",
       "       ['makeupaddiction', 'news'],\n",
       "       ['femalefashionadvice', 'warthunder'],\n",
       "       ['askhistorians', 'xboxone'],\n",
       "       ['askhistorians', 'bodybuilding'],\n",
       "       ['hardwareswap', 'worldnews'],\n",
       "       ['globaloffensivetrade', 'worldnews'],\n",
       "       ['askhistorians', 'fantasybaseball'],\n",
       "       ['battlestations', 'worldnews'],\n",
       "       ['amiugly', 'techsupport'],\n",
       "       ['amiugly', 'whowouldwin'],\n",
       "       ['askhistorians', 'gifs'],\n",
       "       ['askhistorians', 'nosleep'],\n",
       "       ['amiugly', 'science'],\n",
       "       ['makeupaddiction', 'techsupport'],\n",
       "       ['buildapc', 'news'],\n",
       "       ['gamedeals', 'worldnews'],\n",
       "       ['askhistorians', 'globaloffensive'],\n",
       "       ['woodworking', 'worldnews'],\n",
       "       ['askhistorians', 'baseball'],\n",
       "       ['askhistorians', 'mildlyinteresting'],\n",
       "       ['askhistorians', 'seahawks'],\n",
       "       ['askhistorians', 'askwomen'],\n",
       "       ['globaloffensivetrade', 'science'],\n",
       "       ['askhistorians', 'codaw'],\n",
       "       ['percyjacksonrp', 'techsupport'],\n",
       "       ['amiugly', 'news'],\n",
       "       ['teenagers', 'worldnews'],\n",
       "       ['amiugly', 'warthunder'],\n",
       "       ['techsupport', 'tifu'],\n",
       "       ['australia', 'steamgameswap'],\n",
       "       ['askhistorians', 'hearthstone'],\n",
       "       ['femalefashionadvice', 'techsupport'],\n",
       "       ['frozen', 'worldnews'],\n",
       "       ['nottheonion', 'steamgameswap'],\n",
       "       ['buildapc', 'tifu'],\n",
       "       ['news', 'percyjacksonrp'],\n",
       "       ['askhistorians', 'steam'],\n",
       "       ['afl', 'askhistorians'],\n",
       "       ['femalefashionadvice', 'science'],\n",
       "       ['askhistorians', 'titanfall'],\n",
       "       ['buildapc', 'makeupaddiction'],\n",
       "       ['techsupport', 'worldnews'],\n",
       "       ['askhistorians', 'steroids'],\n",
       "       ['protectandserve', 'steamgameswap'],\n",
       "       ['techsupport', 'teenagers'],\n",
       "       ['askhistorians', 'askmen'],\n",
       "       ['askhistorians', 'nfl'],\n",
       "       ['askhistorians', 'warthunder'],\n",
       "       ['steamgameswap', 'whowouldwin'],\n",
       "       ['makeupaddiction', 'science'],\n",
       "       ['science', 'teenagers'],\n",
       "       ['csgobetting', 'worldnews'],\n",
       "       ['askhistorians', 'talesfromretail'],\n",
       "       ['buildapc', 'femalefashionadvice'],\n",
       "       ['music', 'worldnews'],\n",
       "       ['askhistorians', 'sydney'],\n",
       "       ['percyjacksonrp', 'whowouldwin']], dtype='<U21')"
      ]
     },
     "execution_count": 76,
     "metadata": {},
     "output_type": "execute_result"
    }
   ],
   "source": [
    "np.array(new_pairs)[[np.argsort(new_need_sims)[:92]]]"
   ]
  },
  {
   "cell_type": "code",
   "execution_count": 100,
   "metadata": {},
   "outputs": [
    {
     "name": "stderr",
     "output_type": "stream",
     "text": [
      "/u/jai/miniconda3/envs/venv37/lib/python3.7/site-packages/ipykernel_launcher.py:1: FutureWarning: Using a non-tuple sequence for multidimensional indexing is deprecated; use `arr[tuple(seq)]` instead of `arr[seq]`. In the future this will be interpreted as an array index, `arr[np.array(seq)]`, which will result either in an error or a different result.\n",
      "  \"\"\"Entry point for launching an IPython kernel.\n"
     ]
    },
    {
     "data": {
      "text/plain": [
       "array([-0.00973962,  0.01559757,  0.05471625])"
      ]
     },
     "execution_count": 100,
     "metadata": {},
     "output_type": "execute_result"
    }
   ],
   "source": [
    "np.array(new_stance_sims)[[np.argsort(new_need_sims)[:3]]]"
   ]
  },
  {
   "cell_type": "code",
   "execution_count": 280,
   "metadata": {},
   "outputs": [
    {
     "data": {
      "text/plain": [
       "SpearmanrResult(correlation=0.7374692447994537, pvalue=0.0)"
      ]
     },
     "execution_count": 280,
     "metadata": {},
     "output_type": "execute_result"
    }
   ],
   "source": [
    "spearmanr(stance_sims, adjusted_stance_sims)"
   ]
  },
  {
   "cell_type": "code",
   "execution_count": 34,
   "metadata": {},
   "outputs": [],
   "source": [
    "from sklearn.model_selection import train_test_split\n",
    "from sklearn.model_selection import cross_val_score, KFold\n",
    "from sklearn.linear_model import LogisticRegression\n",
    "crossposting_df = pd.read_csv(\"../data_extraction/crossposting_full_community_data.csv\")"
   ]
  },
  {
   "cell_type": "code",
   "execution_count": 233,
   "metadata": {},
   "outputs": [
    {
     "data": {
      "text/plain": [
       "(102304, 802)"
      ]
     },
     "execution_count": 233,
     "metadata": {},
     "output_type": "execute_result"
    }
   ],
   "source": [
    "all_data[labels[1]]['new_marker_rep'].shape"
   ]
  },
  {
   "cell_type": "code",
   "execution_count": 37,
   "metadata": {},
   "outputs": [
    {
     "data": {
      "text/plain": [
       "array([[-0.14222604, -0.05750234, -0.10543592, ...,  0.20782213,\n",
       "         0.0050487 ,  0.01493497],\n",
       "       [-0.04915944, -0.08312645,  0.01386803, ...,  0.07548566,\n",
       "         0.068597  , -0.18663095],\n",
       "       [-0.38519473,  0.44957705, -0.05536099, ..., -0.01296135,\n",
       "         0.01828089,  0.08471742],\n",
       "       ...,\n",
       "       [-0.04530986, -0.06436785, -0.1662359 , ..., -0.08165667,\n",
       "         0.16375873,  0.14855281],\n",
       "       [-0.17024394, -0.03315002,  0.06574403, ...,  0.00716923,\n",
       "        -0.0345707 , -0.0321998 ],\n",
       "       [-0.03629156, -0.05404304, -0.09083954, ...,  0.09767944,\n",
       "         0.08046199, -0.05244776]])"
      ]
     },
     "execution_count": 37,
     "metadata": {},
     "output_type": "execute_result"
    }
   ],
   "source": [
    "all_data['pav_ppmi_90_var']['new_sem_rep']"
   ]
  },
  {
   "cell_type": "code",
   "execution_count": 39,
   "metadata": {},
   "outputs": [
    {
     "data": {
      "text/plain": [
       "array([[ -8.37164261,  -1.86663739,  -2.82953399, ...,   1.61893789,\n",
       "          0.03881918,   0.11465673],\n",
       "       [ -2.89359969,  -2.69844572,   0.37216972, ...,   0.58803454,\n",
       "          0.52743836,  -1.43277826],\n",
       "       [-22.67315194,  14.59414286,  -1.48569669, ...,  -0.10096912,\n",
       "          0.14056072,   0.65038127],\n",
       "       ...,\n",
       "       [ -2.66700765,  -2.08950539,  -4.46119453, ...,  -0.63610682,\n",
       "          1.2591314 ,   1.14044986],\n",
       "       [-10.02081946,  -1.07611406,   1.76434164, ...,   0.05584841,\n",
       "         -0.26581209,  -0.24719999],\n",
       "       [ -2.13617656,  -1.75434198,  -2.43781799, ...,   0.76092445,\n",
       "          0.61866763,  -0.40264492]])"
      ]
     },
     "execution_count": 39,
     "metadata": {},
     "output_type": "execute_result"
    }
   ],
   "source": [
    "all_data['pav_ppmi_90_var']['new_sem_loadings']"
   ]
  },
  {
   "cell_type": "code",
   "execution_count": 251,
   "metadata": {},
   "outputs": [
    {
     "name": "stderr",
     "output_type": "stream",
     "text": [
      "100%|██████████| 6/6 [00:57<00:00,  9.60s/it]\n"
     ]
    }
   ],
   "source": [
    "pav_comms = pav_matrix.index.tolist()\n",
    "for label in tqdm(labels):\n",
    "    # pav_full_vals = []\n",
    "    # pav_partial_vals = []\n",
    "    # our_full_vals = []\n",
    "    # our_partial_vals = []\n",
    "    full_vals = []\n",
    "    partial_vals = []\n",
    "    for i, row in crossposting_df.iterrows():\n",
    "        com_1, com_2 = row['com_1'], row['com_2']\n",
    "        if label.startswith(\"pav\"):\n",
    "            # Pav data\n",
    "            ci1, ci2 = pav_comms.index(com_1), pav_comms.index(com_2)\n",
    "            ci1_rep = all_data[label]['new_sem_rep'][ci1].reshape(1, -1)\n",
    "            ci2_rep = all_data[label]['new_sem_rep'][ci2].reshape(1, -1)\n",
    "            pav_full = cosine_similarity(ci1_rep, ci2_rep)[0][0]\n",
    "            full_vals.append(pav_full)\n",
    "\n",
    "            pav_partial = np.abs(ci1_rep - ci2_rep)[0]\n",
    "            partial_vals.append(pav_partial)\n",
    "        else:\n",
    "            # Our Data\n",
    "            full_vals.append(np.mean(cosine_similarity(com_to_stance_usage[label][com_1], com_to_stance_usage[label][com_2]).diagonal()))\n",
    "            partial_vals.append(np.abs(com_to_stance_usage[label][com_1] - com_to_stance_usage[label][com_2]).sum(axis=0))\n",
    "    all_data[label]['full_crosspost'] = full_vals\n",
    "    all_data[label]['partial_crosspost'] = partial_vals\n",
    "\n",
    "\n"
   ]
  },
  {
   "cell_type": "code",
   "execution_count": 283,
   "metadata": {},
   "outputs": [],
   "source": [
    "crossposting_df['pav_full'] = pav_full_vals\n",
    "crossposting_df['pav_partial'] = pav_partial_vals\n",
    "crossposting_df['our_full'] = our_full_vals\n",
    "crossposting_df['our_partial'] = our_partial_vals"
   ]
  },
  {
   "cell_type": "code",
   "execution_count": 252,
   "metadata": {},
   "outputs": [
    {
     "name": "stdout",
     "output_type": "stream",
     "text": [
      "our_raw_90_var\n",
      "Full:0.61 accuracy with a standard deviation of 0.09\n",
      "Partial: 0.57 accuracy with a standard deviation of 0.02\n",
      "\n",
      "\n",
      "our_ppmi_90_var\n",
      "Full:0.61 accuracy with a standard deviation of 0.04\n",
      "Partial: 0.76 accuracy with a standard deviation of 0.02\n",
      "\n",
      "\n",
      "pav_raw_8_dim\n",
      "Full:0.70 accuracy with a standard deviation of 0.05\n",
      "Partial: 0.55 accuracy with a standard deviation of 0.04\n",
      "\n",
      "\n",
      "pav_ppmi_8_dim\n",
      "Full:0.74 accuracy with a standard deviation of 0.07\n",
      "Partial: 0.61 accuracy with a standard deviation of 0.04\n",
      "\n",
      "\n",
      "pav_raw_90_var\n",
      "Full:0.54 accuracy with a standard deviation of 0.03\n",
      "Partial: 0.55 accuracy with a standard deviation of 0.05\n",
      "\n",
      "\n",
      "pav_ppmi_90_var\n",
      "Full:0.57 accuracy with a standard deviation of 0.03\n",
      "Partial: 0.65 accuracy with a standard deviation of 0.04\n",
      "\n",
      "\n"
     ]
    }
   ],
   "source": [
    "NUM_CV = 5\n",
    "L1_RATIO=0.5\n",
    "\n",
    "df_data = []\n",
    "for label in labels:\n",
    "    lr = LogisticRegression(random_state=42, penalty='l2', solver=\"lbfgs\")#, l1_ratio=L1_RATIO)\n",
    "    full_scores = cross_val_score(lr, np.array(all_data[label]['full_crosspost']).reshape(-1, 1), crossposting_df['label'].tolist(), cv=NUM_CV)\n",
    "    print(label)\n",
    "    print(\"Full:%0.2f accuracy with a standard deviation of %0.2f\" % (full_scores.mean(), full_scores.std()))\n",
    "\n",
    "    lr = LogisticRegression(random_state=42, penalty='l2', solver=\"lbfgs\", max_iter=100000)#, l1_ratio=L1_RATIO)\n",
    "    partial_scores = cross_val_score(lr, np.array(all_data[label]['partial_crosspost']).reshape(-1, all_data[label]['num_dim_to_keep']), crossposting_df['label'].tolist(), cv=NUM_CV)\n",
    "    print(\"Partial: %0.2f accuracy with a standard deviation of %0.2f\" % (partial_scores.mean(), partial_scores.std()))\n",
    "    print(\"\\n\")\n",
    "\n",
    "    df_data.append([label, full_scores.mean(), partial_scores.mean()])\n",
    "\n",
    "# lr = LogisticRegression(random_state=42, penalty='l2', solver=\"lbfgs\", max_iter=100000)#, l1_ratio=L1_RATIO)\n",
    "# scores = cross_val_score(lr, np.array(crossposting_df['pav_partial'].tolist()).reshape(-1, NUM_PAV_DIMS), crossposting_df['label'].tolist(), cv=NUM_CV)\n",
    "# print(\"%0.2f accuracy with a standard deviation of %0.2f\" % (scores.mean(), scores.std()))\n",
    "\n",
    "# lr = LogisticRegression(random_state=42, penalty='l2', solver=\"lbfgs\")#, l1_ratio=L1_RATIO)\n",
    "# scores = cross_val_score(lr, np.array(crossposting_df['our_full'].tolist()).reshape(-1, 1), crossposting_df['label'].tolist(), cv=NUM_CV)\n",
    "# print(\"%0.2f accuracy with a standard deviation of %0.2f\" % (scores.mean(), scores.std()))\n",
    "\n",
    "# lr = LogisticRegression(random_state=42, penalty='l2', solver=\"lbfgs\", max_iter=100000)#, l1_ratio=L1_RATIO)\n",
    "# scores = cross_val_score(lr, np.array(crossposting_df['our_partial'].tolist()).reshape(-1, 3), crossposting_df['label'].tolist(), cv=NUM_CV)\n",
    "# print(\"%0.2f accuracy with a standard deviation of %0.2f\" % (scores.mean(), scores.std()))\n",
    "# lr_fit = lr.fit(, )\n",
    "# lr_fit.score(np.array(test['pav_full']).reshape(-1, 1), test['label'])"
   ]
  },
  {
   "cell_type": "code",
   "execution_count": 253,
   "metadata": {},
   "outputs": [],
   "source": [
    "pd.DataFrame(df_data, columns = [\"model_label\", \"full_accuracy\", \"partial_accuracy\"]).round(2).to_csv(\"validation_with_reps.csv\")"
   ]
  },
  {
   "cell_type": "code",
   "execution_count": 268,
   "metadata": {},
   "outputs": [],
   "source": [
    "our_loadings = np.matmul(np.diag(our_d), our_q)[:3, :].T"
   ]
  },
  {
   "cell_type": "code",
   "execution_count": 286,
   "metadata": {},
   "outputs": [
    {
     "name": "stdout",
     "output_type": "stream",
     "text": [
      "0.51 accuracy with a standard deviation of 0.03\n",
      "0.49 accuracy with a standard deviation of 0.01\n",
      "0.55 accuracy with a standard deviation of 0.09\n",
      "0.52 accuracy with a standard deviation of 0.01\n"
     ]
    }
   ],
   "source": [
    "NUM_CV = 5\n",
    "L1_RATIO=0.1\n",
    "lr = LogisticRegression(random_state=42, penalty='elasticnet', solver=\"saga\", l1_ratio=L1_RATIO)\n",
    "scores = cross_val_score(lr, np.array(crossposting_df['pav_full'].tolist()).reshape(-1, 1), crossposting_df['label'].tolist(), cv=NUM_CV)\n",
    "print(\"%0.2f accuracy with a standard deviation of %0.2f\" % (scores.mean(), scores.std()))\n",
    "\n",
    "lr = LogisticRegression(random_state=42, penalty='elasticnet', solver=\"saga\", l1_ratio=L1_RATIO)\n",
    "scores = cross_val_score(lr, np.array(crossposting_df['pav_partial'].tolist()).reshape(-1, NUM_PAV_DIMS), crossposting_df['label'].tolist(), cv=NUM_CV)\n",
    "print(\"%0.2f accuracy with a standard deviation of %0.2f\" % (scores.mean(), scores.std()))\n",
    "\n",
    "lr = LogisticRegression(random_state=42, penalty='elasticnet', solver=\"saga\", l1_ratio=L1_RATIO)\n",
    "scores = cross_val_score(lr, np.array(crossposting_df['our_full'].tolist()).reshape(-1, 1), crossposting_df['label'].tolist(), cv=NUM_CV)\n",
    "print(\"%0.2f accuracy with a standard deviation of %0.2f\" % (scores.mean(), scores.std()))\n",
    "\n",
    "lr = LogisticRegression(random_state=42, penalty='elasticnet', solver=\"saga\", l1_ratio=L1_RATIO)\n",
    "scores = cross_val_score(lr, np.array(crossposting_df['our_partial'].tolist()).reshape(-1, 3), crossposting_df['label'].tolist(), cv=NUM_CV)\n",
    "print(\"%0.2f accuracy with a standard deviation of %0.2f\" % (scores.mean(), scores.std()))\n",
    "# lr_fit = lr.fit(, )\n",
    "# lr_fit.score(np.array(test['pav_full']).reshape(-1, 1), test['label'])"
   ]
  },
  {
   "cell_type": "code",
   "execution_count": 287,
   "metadata": {},
   "outputs": [
    {
     "data": {
      "text/plain": [
       "SpearmanrResult(correlation=-0.016029342052165385, pvalue=0.46348784680861277)"
      ]
     },
     "execution_count": 287,
     "metadata": {},
     "output_type": "execute_result"
    }
   ],
   "source": [
    "spearmanr(crossposting_df['pav_full'], crossposting_df['pmi'])"
   ]
  },
  {
   "cell_type": "code",
   "execution_count": 288,
   "metadata": {},
   "outputs": [
    {
     "data": {
      "text/plain": [
       "SpearmanrResult(correlation=0.13333449932999245, pvalue=9.060216131758145e-10)"
      ]
     },
     "execution_count": 288,
     "metadata": {},
     "output_type": "execute_result"
    }
   ],
   "source": [
    "spearmanr(crossposting_df['our_full'], crossposting_df['pmi'])"
   ]
  },
  {
   "cell_type": "code",
   "execution_count": 258,
   "metadata": {},
   "outputs": [
    {
     "data": {
      "text/plain": [
       "[<matplotlib.lines.Line2D at 0x7fd5032012d0>]"
      ]
     },
     "execution_count": 258,
     "metadata": {},
     "output_type": "execute_result"
    },
    {
     "data": {
      "image/png": "[encoded data removed]",
      "text/plain": [
       "<Figure size 432x288 with 1 Axes>"
      ]
     },
     "metadata": {
      "needs_background": "light"
     },
     "output_type": "display_data"
    }
   ],
   "source": [
    "dataset_col = \"our_full\"\n",
    "plt.scatter(crossposting_df[dataset_col], crossposting_df['pmi'])\n",
    "plt.plot(np.unique(crossposting_df[dataset_col]), np.poly1d(np.polyfit(crossposting_df[dataset_col], crossposting_df['pmi'], 1))(np.unique(crossposting_df[dataset_col])))"
   ]
  },
  {
   "cell_type": "code",
   "execution_count": 303,
   "metadata": {},
   "outputs": [
    {
     "data": {
      "text/plain": [
       "array([0.50392326, 0.53925458, 0.56328329, 0.48683413, 0.5442338 ,\n",
       "       0.53753667, 0.54122448, 0.52284343, 0.53274746, 0.52976073,\n",
       "       0.51081642, 0.50464341, 0.50006524, 0.49599411, 0.52071937,\n",
       "       0.51763933, 0.49363109, 0.48193214, 0.49145995, 0.55589329,\n",
       "       0.52609795, 0.51854484, 0.54823076, 0.5139663 , 0.51840189,\n",
       "       0.50535395, 0.47497611, 0.50809685, 0.47175483, 0.50574674,\n",
       "       0.51753377, 0.52493948, 0.51173633, 0.50467205, 0.51158132,\n",
       "       0.50575805, 0.51439479, 0.50065115, 0.50437909, 0.48289849,\n",
       "       0.45990577, 0.49310637, 0.50247216, 0.49657524, 0.51081599,\n",
       "       0.50621575, 0.4656401 , 0.50757776, 0.48869334, 0.37673544,\n",
       "       0.46669556, 0.49015099, 0.51061832, 0.55046898, 0.52501652,\n",
       "       0.47947266, 0.50900049, 0.53786749, 0.44889573, 0.50661462,\n",
       "       0.48997075, 0.52543165, 0.46091959, 0.43291428, 0.52599987,\n",
       "       0.53386726, 0.54529013, 0.49631951, 0.49797025, 0.50786115,\n",
       "       0.47980295, 0.50741424, 0.47852179, 0.49820221, 0.495517  ,\n",
       "       0.50402094, 0.49152394, 0.50816397, 0.47469113, 0.47819353,\n",
       "       0.43788455, 0.50993235, 0.50667949, 0.51650058, 0.48344559,\n",
       "       0.4370668 , 0.49749647, 0.46006283, 0.49136034, 0.44165415,\n",
       "       0.46418752, 0.48160796, 0.48249488, 0.47881808, 0.49533386,\n",
       "       0.50608805])"
      ]
     },
     "execution_count": 303,
     "metadata": {},
     "output_type": "execute_result"
    }
   ],
   "source": [
    "lr_fit = lr.fit(np.array(crossposting_df['our_full'].tolist()).reshape(-1, 1),  crossposting_df['label'])\n",
    "lr_fit.predict_proba(np.array(crossposting_df['our_full'].tolist()).reshape(-1, 1))[:, 0]"
   ]
  },
  {
   "cell_type": "code",
   "execution_count": 215,
   "metadata": {},
   "outputs": [
    {
     "data": {
      "text/plain": [
       "0.35"
      ]
     },
     "execution_count": 215,
     "metadata": {},
     "output_type": "execute_result"
    }
   ],
   "source": [
    "# lr = LogisticRegression(cv=5, random_state=42)\n",
    "# lr_fit = lr.fit(np.array(train['pav_partial'].tolist()).reshape(-1, 6), train['label'])\n",
    "# lr_fit.score(np.array(test['pav_partial'].tolist()).reshape(-1, 6), test['label'])"
   ]
  },
  {
   "cell_type": "code",
   "execution_count": 216,
   "metadata": {},
   "outputs": [
    {
     "data": {
      "text/plain": [
       "0.8"
      ]
     },
     "execution_count": 216,
     "metadata": {},
     "output_type": "execute_result"
    }
   ],
   "source": [
    "lr = LogisticRegression(cv=5, random_state=42)\n",
    "lr_fit = lr.fit(np.array(train['our_full'].tolist()).reshape(-1, 1), train['label'])\n",
    "lr_fit.score(np.array(test['our_full'].tolist()).reshape(-1, 1), test['label'])"
   ]
  },
  {
   "cell_type": "code",
   "execution_count": 217,
   "metadata": {},
   "outputs": [
    {
     "data": {
      "text/plain": [
       "0.55"
      ]
     },
     "execution_count": 217,
     "metadata": {},
     "output_type": "execute_result"
    }
   ],
   "source": [
    "lr = LogisticRegression(cv=5, random_state=42)\n",
    "lr_fit = lr.fit(np.array(train['our_partial'].tolist()).reshape(-1, 6), train['label'])\n",
    "lr_fit.score(np.array(test['our_partial'].tolist()).reshape(-1, 6), test['label'])"
   ]
  },
  {
   "cell_type": "code",
   "execution_count": null,
   "metadata": {},
   "outputs": [],
   "source": []
  }
 ],
 "metadata": {
  "kernelspec": {
   "display_name": "Python 3.7.9 ('venv37')",
   "language": "python",
   "name": "python3"
  },
  "language_info": {
   "codemirror_mode": {
    "name": "ipython",
    "version": 3
   },
   "file_extension": ".py",
   "mimetype": "text/x-python",
   "name": "python",
   "nbconvert_exporter": "python",
   "pygments_lexer": "ipython3",
   "version": "3.7.9"
  },
  "orig_nbformat": 4,
  "vscode": {
   "interpreter": {
    "hash": "3da9994af9e3093f34be5556416449be7c3908df46ffc29ccdba7bd3fd3a7b92"
   }
  }
 },
 "nbformat": 4,
 "nbformat_minor": 2
}
