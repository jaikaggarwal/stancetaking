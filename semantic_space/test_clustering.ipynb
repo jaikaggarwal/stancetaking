{
 "cells": [
  {
   "cell_type": "code",
   "execution_count": 79,
   "metadata": {},
   "outputs": [],
   "source": [
    "from collections import defaultdict\n",
    "import matplotlib.pyplot as plt\n",
    "import numpy as np\n",
    "from sklearn.cluster import KMeans, DBSCAN\n",
    "from sklearn.metrics import silhouette_score\n",
    "from scipy.stats import binned_statistic_dd, truncnorm\n",
    "import pandas as pd\n",
    "from collections import Counter\n",
    "from itertools import product\n",
    "import os\n",
    "import sys\n",
    "sys.path.append(\"../data_extraction/\")\n",
    "from utils import flatten_logic"
   ]
  },
  {
   "cell_type": "code",
   "execution_count": 2,
   "metadata": {},
   "outputs": [],
   "source": [
    "FEATURE_COLUMNS = ['Valence', 'Arousal', 'Dominance', 'Politeness', 'Formality']"
   ]
  },
  {
   "cell_type": "code",
   "execution_count": 3,
   "metadata": {},
   "outputs": [],
   "source": [
    "def get_bins(data, num_bins):\n",
    "    \"\"\"Return the bin index that each data point in data falls into, given the space\n",
    "    is subdivided to have num_bins equally sized bins.\n",
    "\n",
    "    A bin number of i means that the corresponding value is between bin_edges[i-1], bin_edges[i]\n",
    "\n",
    "    Returns both the bin index as a unique integer, as well as in terms of a 5d\n",
    "    array corresponding to each dimension.\n",
    "    \"\"\"\n",
    "    # Initialize uniformly-sized bins\n",
    "    bin_edges = np.linspace(0, 1, (num_bins + 1))\n",
    "\n",
    "    # We need to know where in the space each bin id maps to, so edges are necessary\n",
    "\n",
    "    # TO DO: Can we modify the statistic to directly calculate a vector valued statistic?\n",
    "    stats, edges, binnumber = binned_statistic_dd(data, np.arange(len(data)),\n",
    "                                                  statistic=\"mean\",\n",
    "                                                  bins=[bin_edges for i in range(data.shape[1])])\n",
    "    \n",
    "    stats, edges, unraveled_binnumber = binned_statistic_dd(data, np.arange(len(data)),\n",
    "                                                            statistic=\"mean\",\n",
    "                                                            bins=[bin_edges for i in range(data.shape[1])],\n",
    "                                                            expand_binnumbers=True)\n",
    "\n",
    "    # Return the bin IDs\n",
    "    return binnumber, unraveled_binnumber.transpose()"
   ]
  },
  {
   "cell_type": "code",
   "execution_count": 38,
   "metadata": {},
   "outputs": [],
   "source": [
    "ROOT_DIR = \"/ais/hal9000/datasets/reddit/jai_stance_embeddings/unmasked/\"\n",
    "files = sorted(os.listdir(ROOT_DIR))\n",
    "dfs = []\n",
    "for file in files:\n",
    "    df = pd.read_csv(ROOT_DIR + file)\n",
    "    dfs.append(df)\n",
    "df = pd.concat(dfs)\n",
    "del dfs\n",
    "df = df.set_index(\"id\")\n",
    "df['rel_marker'] = df['rel_marker'].apply(lambda x: eval(x)[0])\n",
    "df['Politeness'] = (df[\"Politeness\"] - df['Politeness'].min())/(df['Politeness'].max() - df['Politeness'].min())"
   ]
  },
  {
   "cell_type": "code",
   "execution_count": 41,
   "metadata": {},
   "outputs": [],
   "source": [
    "bins, ubins = get_bins(df[FEATURE_COLUMNS].to_numpy(), 2)"
   ]
  },
  {
   "cell_type": "code",
   "execution_count": 42,
   "metadata": {},
   "outputs": [],
   "source": [
    "def get_bin_names(arr):\n",
    "    features = list(\"VADPF\")\n",
    "    names = []\n",
    "    for row in arr:\n",
    "        name = \"\".join(flatten_logic(list(zip(features, row.astype(str)))))\n",
    "        names.append(name)\n",
    "    return names\n",
    "    \n",
    "df['bin'] = get_bin_names(ubins)"
   ]
  },
  {
   "cell_type": "code",
   "execution_count": 146,
   "metadata": {},
   "outputs": [
    {
     "data": {
      "text/plain": [
       "'/ais/hal9000/datasets/reddit/jai_stance_embeddings/unmasked/'"
      ]
     },
     "execution_count": 146,
     "metadata": {},
     "output_type": "execute_result"
    }
   ],
   "source": [
    "ROOT_DIR"
   ]
  },
  {
   "cell_type": "code",
   "execution_count": 149,
   "metadata": {},
   "outputs": [],
   "source": [
    "x = df.groupby(\"bin\")[FEATURE_COLUMNS].mean()"
   ]
  },
  {
   "cell_type": "code",
   "execution_count": 150,
   "metadata": {},
   "outputs": [],
   "source": [
    "x.to_csv(ROOT_DIR + \"output/original_space_data.csv\")"
   ]
  },
  {
   "cell_type": "code",
   "execution_count": 50,
   "metadata": {},
   "outputs": [],
   "source": [
    "all_markers = sorted(df['rel_marker'].unique())"
   ]
  },
  {
   "cell_type": "code",
   "execution_count": 51,
   "metadata": {},
   "outputs": [],
   "source": [
    "agg = df.groupby([\"subreddit\", \"bin\", \"rel_marker\"]).count()"
   ]
  },
  {
   "cell_type": "code",
   "execution_count": 67,
   "metadata": {},
   "outputs": [],
   "source": [
    "df['sub_marker'] = df[\"subreddit\"] + \"_\" + df['rel_marker']"
   ]
  },
  {
   "cell_type": "code",
   "execution_count": 69,
   "metadata": {},
   "outputs": [],
   "source": [
    "agg = df.groupby([\"bin\", \"sub_marker\"]).count()"
   ]
  },
  {
   "cell_type": "code",
   "execution_count": 85,
   "metadata": {},
   "outputs": [
    {
     "data": {
      "text/plain": [
       "5625"
      ]
     },
     "execution_count": 85,
     "metadata": {},
     "output_type": "execute_result"
    }
   ],
   "source": [
    "comms = df['subreddit'].unique()\n",
    "markers = df['rel_marker'].unique()\n",
    "bins = df['bin'].unique()\n",
    "com_markers = list(product(comms, markers))\n",
    "com_markers = [\"_\".join(pair) for pair in com_markers]\n",
    "len(com_markers)"
   ]
  },
  {
   "cell_type": "code",
   "execution_count": 92,
   "metadata": {},
   "outputs": [],
   "source": [
    "full_counts = pd.DataFrame(0, index=pd.MultiIndex.from_product([bins, com_markers], names=[\"bin\", \"sub_marker\"]), columns=agg.columns)"
   ]
  },
  {
   "cell_type": "code",
   "execution_count": 95,
   "metadata": {},
   "outputs": [],
   "source": [
    "total = agg.add(full_counts, fill_value=0)"
   ]
  },
  {
   "cell_type": "code",
   "execution_count": 106,
   "metadata": {},
   "outputs": [],
   "source": [
    "total = total.reset_index()"
   ]
  },
  {
   "cell_type": "code",
   "execution_count": 164,
   "metadata": {},
   "outputs": [],
   "source": [
    "cooc_matrix = pd.crosstab(total['bin'], total['sub_marker'], total['body'], aggfunc=\"sum\")"
   ]
  },
  {
   "cell_type": "code",
   "execution_count": 165,
   "metadata": {},
   "outputs": [
    {
     "name": "stdout",
     "output_type": "stream",
     "text": [
      "(32, 5625)\n"
     ]
    }
   ],
   "source": [
    "cooc_matrix_np = cooc_matrix.to_numpy()\n",
    "print(cooc_matrix.shape)\n",
    "P, D, Q = np.linalg.svd(cooc_matrix_np, full_matrices=False)"
   ]
  },
  {
   "cell_type": "code",
   "execution_count": 166,
   "metadata": {},
   "outputs": [
    {
     "data": {
      "text/plain": [
       "array([0.877, 0.045, 0.034, 0.024, 0.01 , 0.003, 0.002, 0.001, 0.001,\n",
       "       0.001, 0.   , 0.   , 0.   , 0.   , 0.   , 0.   , 0.   , 0.   ,\n",
       "       0.   , 0.   , 0.   , 0.   , 0.   , 0.   , 0.   , 0.   , 0.   ,\n",
       "       0.   , 0.   , 0.   , 0.   , 0.   ])"
      ]
     },
     "execution_count": 166,
     "metadata": {},
     "output_type": "execute_result"
    }
   ],
   "source": [
    "var_explained = np.round(D**2/np.sum(D**2), decimals=3)\n",
    "var_explained\n"
   ]
  },
  {
   "cell_type": "code",
   "execution_count": 167,
   "metadata": {},
   "outputs": [
    {
     "data": {
      "text/plain": [
       "[<matplotlib.lines.Line2D at 0x7f76f40d1b50>]"
      ]
     },
     "execution_count": 167,
     "metadata": {},
     "output_type": "execute_result"
    },
    {
     "data": {
      "image/png": "[encoded data removed]",
      "text/plain": [
       "<Figure size 432x288 with 1 Axes>"
      ]
     },
     "metadata": {
      "needs_background": "light"
     },
     "output_type": "display_data"
    }
   ],
   "source": [
    "plt.plot(np.arange(len(var_explained)), var_explained)"
   ]
  },
  {
   "cell_type": "code",
   "execution_count": 168,
   "metadata": {},
   "outputs": [
    {
     "data": {
      "text/plain": [
       "Index(['V1A1D1P1F1', 'V1A1D1P1F2', 'V1A1D1P2F1', 'V1A1D1P2F2', 'V1A1D2P1F1',\n",
       "       'V1A1D2P1F2', 'V1A1D2P2F1', 'V1A1D2P2F2', 'V1A2D1P1F1', 'V1A2D1P1F2',\n",
       "       'V1A2D1P2F1', 'V1A2D1P2F2', 'V1A2D2P1F1', 'V1A2D2P1F2', 'V1A2D2P2F1',\n",
       "       'V1A2D2P2F2', 'V2A1D1P1F1', 'V2A1D1P1F2', 'V2A1D1P2F1', 'V2A1D1P2F2',\n",
       "       'V2A1D2P1F1', 'V2A1D2P1F2', 'V2A1D2P2F1', 'V2A1D2P2F2', 'V2A2D1P1F1',\n",
       "       'V2A2D1P1F2', 'V2A2D1P2F1', 'V2A2D1P2F2', 'V2A2D2P1F1', 'V2A2D2P1F2',\n",
       "       'V2A2D2P2F1', 'V2A2D2P2F2'],\n",
       "      dtype='object', name='bin')"
      ]
     },
     "execution_count": 168,
     "metadata": {},
     "output_type": "execute_result"
    }
   ],
   "source": [
    "cooc_matrix.index"
   ]
  },
  {
   "cell_type": "code",
   "execution_count": 174,
   "metadata": {},
   "outputs": [
    {
     "data": {
      "image/png": "[encoded data removed]",
      "text/plain": [
       "<Figure size 432x288 with 1 Axes>"
      ]
     },
     "metadata": {
      "needs_background": "light"
     },
     "output_type": "display_data"
    }
   ],
   "source": [
    "plt.scatter(P[:, 0], P[:, 1])\n",
    "for x, y, label in zip(P[:, 0], P[:, 1], cooc_matrix.index):\n",
    "    plt.text(x, y, label)"
   ]
  }
 ],
 "metadata": {
  "kernelspec": {
   "display_name": "Python 3.7.9 ('venv37')",
   "language": "python",
   "name": "python3"
  },
  "language_info": {
   "codemirror_mode": {
    "name": "ipython",
    "version": 3
   },
   "file_extension": ".py",
   "mimetype": "text/x-python",
   "name": "python",
   "nbconvert_exporter": "python",
   "pygments_lexer": "ipython3",
   "version": "3.7.9"
  },
  "orig_nbformat": 4,
  "vscode": {
   "interpreter": {
    "hash": "3da9994af9e3093f34be5556416449be7c3908df46ffc29ccdba7bd3fd3a7b92"
   }
  }
 },
 "nbformat": 4,
 "nbformat_minor": 2
}
