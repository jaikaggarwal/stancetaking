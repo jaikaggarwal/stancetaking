{
 "cells": [
  {
   "cell_type": "code",
   "execution_count": 1,
   "metadata": {},
   "outputs": [
    {
     "data": {
      "text/plain": [
       "{'divide': 'warn', 'over': 'warn', 'under': 'ignore', 'invalid': 'warn'}"
      ]
     },
     "execution_count": 1,
     "metadata": {},
     "output_type": "execute_result"
    }
   ],
   "source": [
    "from data_utils import *\n",
    "from scipy.stats.contingency import margins\n",
    "np.seterr(divide='ignore', invalid=\"ignore\")\n"
   ]
  },
  {
   "cell_type": "code",
   "execution_count": 2,
   "metadata": {},
   "outputs": [],
   "source": [
    "# # Do we even need df? Can we just save need probabilities?\n",
    "# df = Serialization.load_obj(f\"stance_pipeline_full_data_{NUM_QUANTILES}_quantiles_full_data\")\n",
    "# bin_means = df.groupby(\"bin\").mean()[FEATURE_COLUMNS]\n",
    "# df = get_sub_marker_pairs(df)\n",
    "# # Write unit test for below\n",
    "# bins, comms, markers, com_markers = get_bin_com_markers(df)\n",
    "pav_matrix = Serialization.load_obj(\"pavalanathan_cooc_data_full_data\")\n",
    "cooc_matrix = Serialization.load_obj(\"our_cooc_data_full_data\")\n"
   ]
  },
  {
   "cell_type": "code",
   "execution_count": 3,
   "metadata": {},
   "outputs": [],
   "source": [
    "class IBObj:\n",
    "\n",
    "    def __init__(self, com_name, joint):\n",
    "        \"\"\"\n",
    "        Holds all information related to the efficiency calculation for a particular community.\n",
    "        Args:\n",
    "            com_name (str): the community that efficiency is being calculated for\n",
    "        \"\"\"\n",
    "        self.com_name = com_name\n",
    "        self.joint = (joint/joint.sum()).T\n",
    "        self.p_m, self.p_w = margins(self.joint)\n",
    "        self.encoder = self.joint/self.p_m\n",
    "        self.decoder = self.compute_listener_distribution()\n",
    "        self.complexity = self.compute_complexity()\n",
    "        self.informativeness = self.compute_informativeness()\n",
    "\n",
    "    def compute_info_gain(self, joint, marginal_1, marginal_2):\n",
    "        \"Equivalent to mutual information\"\n",
    "        joint_info = np.log2(joint/(np.multiply(marginal_1, marginal_2)))\n",
    "        expanded = np.nan_to_num(np.multiply(joint, joint_info), 0)\n",
    "        total = expanded.sum()\n",
    "        return total\n",
    "\n",
    "    def compute_listener_distribution(self):\n",
    "        return self.joint/self.p_w\n",
    "\n",
    "    def compute_complexity(self):\n",
    "        return self.compute_info_gain(self.joint, self.p_w, self.p_m)\n",
    "    \n",
    "    def compute_informativeness(self):\n",
    "        listener_surprisal = np.log2(1/self.decoder)\n",
    "        expanded = np.nan_to_num(np.multiply(self.joint, listener_surprisal), 0)\n",
    "        total = expanded.sum()\n",
    "        return total\n",
    "\n",
    "    \n",
    "    \n"
   ]
  },
  {
   "cell_type": "code",
   "execution_count": 4,
   "metadata": {},
   "outputs": [
    {
     "name": "stdout",
     "output_type": "stream",
     "text": [
      "0.375\n",
      "1.375\n"
     ]
    }
   ],
   "source": [
    "min_complexity_encoder = np.array([[1, 1, 1, 1]])\n",
    "max_complexity_encoder = np.diag(np.ones(4))\n",
    "# rows are words\n",
    "# columns are meanings\n",
    "# This gets flipped in IBObj\n",
    "mid_complexity_encoder = np.array([\n",
    "    [1/8, 1/16, 1/32, 1/32],\n",
    "    [1/16, 1/8, 1/32, 1/32],\n",
    "    [1/16, 1/16, 1/16, 1/16],\n",
    "    [1/4, 0, 0, 0]\n",
    "])\n",
    "ex_min = IBObj(\"min_comp\", min_complexity_encoder)\n",
    "ex_max = IBObj(\"max_comp\", max_complexity_encoder)\n",
    "ex_mid = IBObj(\"mid_comp\", mid_complexity_encoder)\n",
    "\n",
    "print(ex_mid.complexity)\n",
    "print(ex_mid.informativeness)\n"
   ]
  },
  {
   "cell_type": "code",
   "execution_count": 5,
   "metadata": {},
   "outputs": [],
   "source": [
    "def m_hat(qW_M, pM, pU_M):\n",
    "    \"\"\"\n",
    "    :param qW_M: encoder (naming system)\n",
    "    :return: optimal decoder (Bayesian listener) that corresponds to the encoder\n",
    "    \"\"\"\n",
    "    # Each row is a meaning, each column is a word\n",
    "    pMW = qW_M * pM\n",
    "    pM_W = pMW.T / pMW.sum(axis=0)[:, None]\n",
    "    return pM_W.dot(pU_M)"
   ]
  },
  {
   "cell_type": "code",
   "execution_count": 11,
   "metadata": {},
   "outputs": [
    {
     "name": "stderr",
     "output_type": "stream",
     "text": [
      "100%|██████████| 92/92 [00:00<00:00, 103.68it/s]\n"
     ]
    }
   ],
   "source": [
    "all_dfs = []\n",
    "com_to_markers = {}\n",
    "for i in tqdm(range(92)):\n",
    "    curr = cooc_matrix.T.iloc[i*1112:(i+1)*1112].T\n",
    "    all_dfs.append(curr)\n",
    "\n",
    "all_ibs = []\n",
    "for curr in all_dfs:\n",
    "    com_name = curr.columns[0].split(\"_\")[0]\n",
    "    if com_name == \"photoshopbattles\":\n",
    "        continue\n",
    "    encoder = curr.T.to_numpy()\n",
    "    curr_IB = IBObj(com_name, encoder)\n",
    "    all_ibs.append(curr_IB)"
   ]
  },
  {
   "attachments": {},
   "cell_type": "markdown",
   "metadata": {},
   "source": [
    "# Reverse Annealing"
   ]
  },
  {
   "cell_type": "code",
   "execution_count": 6,
   "metadata": {},
   "outputs": [],
   "source": [
    "from scipy.special import logsumexp\n",
    "\n",
    "PRECISION = 1e-16\n",
    "\n",
    "def marginal(pXY, axis=1):\n",
    "    \"\"\":return pY (axis = 0) or pX (default, axis = 1)\"\"\"\n",
    "    return pXY.sum(axis)\n",
    "\n",
    "def conditional(pXY):\n",
    "    \"\"\":return  pY_X \"\"\"\n",
    "    pX = pXY.sum(axis=1, keepdims=True)\n",
    "    return np.where(pX > PRECISION, pXY / pX, 1 / pXY.shape[1])\n",
    "\n",
    "def joint(pY_X, pX):\n",
    "    \"\"\":return  pXY \"\"\"\n",
    "    return pY_X * pX[:, None]\n",
    "\n",
    "def marginalize(pY_X, pX):\n",
    "    \"\"\":return  pY \"\"\"\n",
    "    return pY_X.T @ pX\n",
    "\n",
    "def bayes(pY_X, pX):\n",
    "    \"\"\":return pX_Y \"\"\"\n",
    "    pXY = joint(pY_X, pX)\n",
    "    pY = marginalize(pY_X, pX)\n",
    "    return np.where(pY > PRECISION, pXY.T / pY, 1 / pXY.shape[0])\n",
    "\n",
    "def softmax(dxy, beta=1, axis=None):\n",
    "    \"\"\":return\n",
    "        axis = None: pXY propto exp(-beta * dxy)\n",
    "        axis = 1: pY_X propto exp(-beta * dxy)\n",
    "        axis = 0: pX_Y propto exp(-beta * dxy)\n",
    "    \"\"\"\n",
    "    log_z = logsumexp(-beta * dxy, axis, keepdims=True)\n",
    "    return np.exp(-beta * dxy - log_z)\n",
    "\n",
    "# INFORMATIONAL MEASURES\n",
    "\n",
    "def xlogx(v):\n",
    "    with np.errstate(divide='ignore', invalid='ignore'):\n",
    "        return np.where(v > PRECISION, v * np.log2(v), 0)\n",
    "\n",
    "def H(p, axis=None):\n",
    "    \"\"\" Entropy \"\"\"\n",
    "    return -xlogx(p).sum(axis=axis)\n",
    "\n",
    "def MI(pXY):\n",
    "    \"\"\" mutual information, I(X;Y) \"\"\"\n",
    "    return H(pXY.sum(axis=0)) + H(pXY.sum(axis=1)) - H(pXY)\n",
    "\n",
    "def DKL(p, q, axis=None):\n",
    "    \"\"\" KL divergences, D[p||q] \"\"\"\n",
    "    return (xlogx(p) - np.where(p > PRECISION, p * np.log2(q + PRECISION), 0)).sum(axis=axis)\n",
    "\n",
    "def gNID(pW_X, pV_X, pX):\n",
    "    if len(pX.shape) == 1:\n",
    "        pX = pX[:, None]\n",
    "    elif pX.shape[0] == 1 and pX.shape[1] > 1:\n",
    "        pX = pX.T\n",
    "    pXW = pW_X * pX\n",
    "    pWV = pXW.T.dot(pV_X)\n",
    "    pWW = pXW.T.dot(pW_X)\n",
    "    pVV = (pV_X * pX).T.dot(pV_X)\n",
    "    score = 1 - MI(pWV) / (np.max([MI(pWW), MI(pVV)]))\n",
    "    return score\n",
    "\n",
    "def complexity_joint(pWM):\n",
    "    \"\"\"\n",
    "    :param pW_M: encoder (naming system)\n",
    "    :return: I(M;W)\n",
    "    \"\"\"\n",
    "    return MI(pWM)\n",
    "\n",
    "def complexity_split(pW_M, pM):\n",
    "    \"\"\"\n",
    "    :param pW_M: encoder (naming system)\n",
    "    :return: I(M;W)\n",
    "    \"\"\"\n",
    "    return MI(pW_M * pM)\n",
    "\n",
    "\n",
    "def accuracy(pW_M, pM, pU_M):\n",
    "    \"\"\"\n",
    "    :param pW_M: encoder (naming system)\n",
    "    :return: I(W;U)\n",
    "    \"\"\"\n",
    "    pMW = pW_M * pM\n",
    "    pWU = pMW.T @ pU_M\n",
    "    return MI(pWU)\n",
    "    \n",
    "\n",
    "class IBNamingModel(object):\n",
    "\n",
    "    def __init__(self, pM, pU_M, betas, IB_curve, qW_M):\n",
    "        self.pM = pM if len(pM.shape) == 2 else pM[:, None]\n",
    "        self.pU_M = pU_M\n",
    "        self.I_MU = MI(pU_M * self.pM)\n",
    "        self.betas = betas\n",
    "        self.IB_curve = IB_curve\n",
    "        self.qW_M = qW_M\n",
    "        self.qW_M_orig = None\n",
    "        self.F = IB_curve[0] - betas * IB_curve[1]\n",
    "\n",
    "    def m_hat(self, qW_M):\n",
    "        \"\"\"\n",
    "        :param qW_M: encoder (naming system)\n",
    "        :return: optimal decoder (Bayesian listener) that corresponds to the encoder\n",
    "        \"\"\"\n",
    "        pMW = qW_M * self.pM\n",
    "        pM_W = pMW.T / pMW.sum(axis=0)[:, None]\n",
    "        return pM_W.dot(self.pU_M)\n",
    "\n",
    "    def complexity(self, pW_M):\n",
    "        \"\"\"\n",
    "        :param pW_M: encoder (naming system)\n",
    "        :return: I(M;W)\n",
    "        \"\"\"\n",
    "        return MI(pW_M * self.pM)\n",
    "\n",
    "    def accuracy(self, pW_M):\n",
    "        \"\"\"\n",
    "        :param pW_M: encoder (naming system)\n",
    "        :return: I(W;U)\n",
    "        \"\"\"\n",
    "        pMW = pW_M * self.pM\n",
    "        pWU = pMW.T @ self.pU_M\n",
    "        return MI(pWU)\n",
    "\n",
    "    def d_IB(self, pW_M):\n",
    "        \"\"\"\n",
    "        :param pW_M: encoder (naming system)\n",
    "        :return: E[D[m||m_hat]] = I(M;U) - I(W;U)\n",
    "        \"\"\"\n",
    "        return self.I_MU - self.accuracy(pW_M)\n",
    "\n",
    "    def fit(self, pW_M):\n",
    "        \"\"\"\n",
    "        fits the naming system by\n",
    "        :param pW_M: encoder (naming system)\n",
    "        :return:\n",
    "            epsilon - deviation from optimality of pW_M\n",
    "            gnid - gNID between qW_M and qW_M_fit\n",
    "            bl - beta_l, the value of beta that was fitted to pW_M\n",
    "            qW_M_fit - the optimal IB system at bl\n",
    "        \"\"\"\n",
    "        Fl = self.complexity(pW_M) - self.betas * self.accuracy(pW_M)\n",
    "        dFl = Fl - self.F\n",
    "        bl_ind = dFl.argmin()\n",
    "        bl = self.betas[bl_ind]\n",
    "        epsilon = dFl.min() / bl\n",
    "        qW_M_fit = self.qW_M[bl_ind]\n",
    "        gnid = gNID(pW_M, qW_M_fit, self.pM)\n",
    "        return epsilon, gnid, bl, qW_M_fit"
   ]
  },
  {
   "cell_type": "code",
   "execution_count": 7,
   "metadata": {},
   "outputs": [],
   "source": [
    "# Unit tests\n",
    "# Assert that we calculate the decoder the same as them\n",
    "np.testing.assert_equal(ex_mid.decoder.T, m_hat(ex_mid.encoder, ex_mid.p_m, np.diag(np.ones(4))))\n",
    "\n",
    "# Assert that our mutual information calculation is correct\n",
    "np.testing.assert_equal(ex_mid.compute_info_gain(ex_mid.joint, ex_mid.p_w, ex_mid.p_m), MI(ex_mid.joint))\n",
    "\n",
    "# Assert that we are using DKL properly\n",
    "test_a = np.array([9/25, 12/25, 4/25])\n",
    "test_b = np.repeat(np.array([1/3, 1/3, 1/3])[:, np.newaxis], 3, axis=1)\n",
    "np.testing.assert_almost_equal(DKL(test_a, test_b, axis=1), [0.1230613, 0.1230613, 0.1230613])\n",
    "\n",
    "# Assert that the complexity functions return values as we would expect\n",
    "np.testing.assert_equal(complexity_split(ex_mid.encoder, ex_mid.p_m), complexity_joint(ex_mid.joint))\n",
    "np.testing.assert_equal(ex_mid.complexity, complexity_joint(ex_mid.joint))"
   ]
  },
  {
   "cell_type": "code",
   "execution_count": 8,
   "metadata": {},
   "outputs": [],
   "source": [
    "model_dir = \"/ais/hal9000/datasets/reddit/stance_pipeline/classifiers/\"\n",
    "filename = \"zaslavsky_colour_model.pkl\"\n",
    "import pickle\n",
    "data = pickle.load(open(model_dir + filename, 'rb'))\n",
    "beta_schedule = data['betas']\n",
    "pm = data['pM'] # 330 x 1 (need probabilities for each chip)\n",
    "pu_m = data['pU_M'] # 330 x 330 (probability of each colour chip within each meaning)\n",
    "ib_curve = data['IB_curve'] # tuple of two objects, complexity and accuracy\n",
    "qw_m = data['qW_M'] # list of len(betas) with the optimal encoder for each beta value"
   ]
  },
  {
   "cell_type": "code",
   "execution_count": 9,
   "metadata": {},
   "outputs": [],
   "source": [
    "# Asserts that meanings are the rows, and columns are each stimulus\n",
    "np.testing.assert_almost_equal(pu_m.sum(axis=1), np.ones(len(pm)))\n",
    "# Assert multiplying in this way creates a proper joint dist\n",
    "np.testing.assert_almost_equal((pu_m * pm).sum(), 1)\n",
    "# Assert that the marginals of the joint are indeed pm\n",
    "np.testing.assert_almost_equal((pu_m * pm).sum(axis=1).reshape(-1, 1), pm.reshape(-1, 1))"
   ]
  },
  {
   "cell_type": "code",
   "execution_count": 10,
   "metadata": {},
   "outputs": [
    {
     "data": {
      "text/plain": [
       "4.347510789285019"
      ]
     },
     "execution_count": 10,
     "metadata": {},
     "output_type": "execute_result"
    }
   ],
   "source": [
    "max_acc_encoder = np.diag(np.ones(330))\n",
    "accuracy(qw_m[1200], pm, pu_m)"
   ]
  },
  {
   "cell_type": "code",
   "execution_count": 173,
   "metadata": {},
   "outputs": [],
   "source": [
    "# Adapted from psuedo algorithm here: https://www.nogsky.com/publication/2019-evo-ib/2019-evo-IB.pdf\n",
    "def reverse_annealing(pm, pu_m, init_qwm, betas, ptol=1e-8):\n",
    "    # encoder is conditional probability of w|m\n",
    "    # pm is marginal probability\n",
    "    #assert joint.shape == (1024, 1024) # we want words to be on the rows, meanings on the columns\n",
    "    curr_encoder = init_qwm#np.diag(np.ones(len(pm)))\n",
    "    encoder_list = [curr_encoder]\n",
    "    for i in tqdm(range(len(betas))):\n",
    "        # if i == 1:\n",
    "        #     break\n",
    "        # Initial joint is just the initial encoder multiplied by p(m)\n",
    "        new_encoder = da(pm, pu_m, curr_encoder, betas[i], ptol)\n",
    "        encoder_list.append(new_encoder)\n",
    "        curr_encoder = new_encoder\n",
    "    return encoder_list\n",
    "\n",
    "def deterministic_annealing(pm, pu_m, qw_m, beta):\n",
    "    curr_encoder = qw_m\n",
    "    prev_f = 100\n",
    "    new_f = complexity_split(curr_encoder, pm) - beta * accuracy(curr_encoder, pm, pu_m)\n",
    "    loops = 0\n",
    "    while np.abs(prev_f - new_f) >= 1e-6:\n",
    "        loops += 1\n",
    "        if loops >= 10:\n",
    "            break\n",
    "        \n",
    "        joint = curr_encoder * pm\n",
    "        np.testing.assert_almost_equal(joint.sum(), 1)\n",
    "        # First equation calculated: pw solved\n",
    "        new_pm, new_pw = margins(joint)\n",
    "        # print(new_pw.shape)\n",
    "        new_pu_w =  np.nan_to_num(m_hat(curr_encoder, pm, pu_m), 0)\n",
    "        # Instead of KL Divergence, for our case use 1/decoder as we have been\n",
    "        new_pw_m = np.zeros((len(pm), len(new_pw[0])))\n",
    "        # print(new_pw_m.shape)\n",
    "        # assert new_pw_m.shape == (330, 330)\n",
    "        for i in range(len(pm)):\n",
    "            div = DKL(pu_m[i, :], new_pu_w, axis=1)\n",
    "            new_pw_m[i, :] = new_pw * np.exp(-beta*div)\n",
    "        new_pw_m = new_pw_m/new_pw_m.sum(axis=1).reshape(-1, 1)\n",
    "        new_pw_m[new_pw_m<1e-45] = 0\n",
    "        new_pw_m = new_pw_m/new_pw_m.sum(axis=1).reshape(-1, 1)\n",
    "        # if loops == 1:\n",
    "        #     return new_pw_m, new_pw, pu_m, new_pu_w, beta, curr_encoder\n",
    "        # I_MU = MI(pm * pu_m)\n",
    "        # divergence = I_MU - accuracy(curr_encoder, pm, pu_m)\n",
    "        # print(\"Divergence:\", divergence)\n",
    "        # new_encoder = new_pw * np.exp(-beta * divergence)\n",
    "        new_encoder = new_pw_m\n",
    "        # print(new_encoder)\n",
    "\n",
    "        Fl = complexity_split(new_encoder, pm) - beta * accuracy(new_encoder, pm, pu_m)\n",
    "        # new variable setting\n",
    "        prev_f = new_f\n",
    "        new_f = Fl\n",
    "        curr_encoder = new_encoder\n",
    "        # print(prev_f)\n",
    "        # print(new_f)\n",
    "        # print(prev_f - new_f)\n",
    "    # print(\"Loops:\", loops)\n",
    "    # print(prev_f - new_f)\n",
    "    return curr_encoder"
   ]
  },
  {
   "cell_type": "code",
   "execution_count": 354,
   "metadata": {},
   "outputs": [],
   "source": [
    "new_pw_m, new_pw, pu_m, new_pu_w, beta, curr_encoder = o"
   ]
  },
  {
   "cell_type": "code",
   "execution_count": null,
   "metadata": {},
   "outputs": [],
   "source": [
    "l = vlog(self.qt)-self.beta*kl(self.ds.py_x[:,x],self.qy_t) # [=] T x 1 # scales like X*Y*T\n",
    "if self.alpha==0: self.qt_x[np.argmax(l),x] = 1\n",
    "else: self.qt_x[:,x] = vexp(l/self.alpha)/np.sum(vexp(l/self.alpha))"
   ]
  },
  {
   "cell_type": "code",
   "execution_count": null,
   "metadata": {},
   "outputs": [],
   "source": [
    "def qt_step(qw, ptol = 1e-8):\n",
    "    \"\"\"Peforms q(t) update step for generalized Information Bottleneck.\"\"\"\n",
    "    dropped = qw<=ptol # clusters to drop due to near-zero prob\n",
    "    if any(dropped):\n",
    "        qw = qw[~dropped] # drop ununsed clusters\n",
    "        qw_m = qw_m[:, ~dropped]\n",
    "        qw_m = (qw_m/qw_m.sum(axis=1).reshape(-1, 1))#np.multiply(qw_m,np.tile(1./np.sum(self.qt_x,axis=0),(self.T,1))) # renormalize\n",
    "        new_pm, new_pw = margins(new_encoder * pm)\n",
    "        if not(self.quiet): print('%i cluster(s) dropped. Down to %i cluster(s).' % (np.sum(dropped),self.T)) "
   ]
  },
  {
   "cell_type": "code",
   "execution_count": 54,
   "metadata": {},
   "outputs": [
    {
     "data": {
      "text/plain": [
       "8192.0"
      ]
     },
     "execution_count": 54,
     "metadata": {},
     "output_type": "execute_result"
    }
   ],
   "source": [
    "beta_schedule[1500]"
   ]
  },
  {
   "cell_type": "code",
   "execution_count": 67,
   "metadata": {},
   "outputs": [
    {
     "data": {
      "text/plain": [
       "(330, 249)"
      ]
     },
     "execution_count": 67,
     "metadata": {},
     "output_type": "execute_result"
    }
   ],
   "source": [
    "(qw_m[-i] * pm).shape"
   ]
  },
  {
   "cell_type": "code",
   "execution_count": 229,
   "metadata": {},
   "outputs": [],
   "source": [
    "def da(true_pm, pu_m, qw_m, beta, ptol=1e-8):\n",
    "\n",
    "    # Threshold for determining convergence\n",
    "    # When this model says we continue to convergence, what do you think it means?\n",
    "    CONV_THRESHOLD = 1e-16\n",
    "\n",
    "    curr_encoder = qw_m\n",
    "    prev_f = 100\n",
    "    # This is how we compute the current encoder's tradeoff\n",
    "    new_f = complexity_split(curr_encoder, true_pm) - beta*accuracy(curr_encoder, true_pm, pu_m)\n",
    "\n",
    "    # print(\"Complexity: \", complexity_split(curr_encoder, true_pm))\n",
    "    # print(\"Accuracy: \", accuracy(curr_encoder, true_pm, pu_m))\n",
    "    # print(\"F: \", new_f)\n",
    "\n",
    "    # Create p(x,y)\n",
    "    curr_joint = pu_m * true_pm.reshape(-1, 1)\n",
    "    np.testing.assert_almost_equal(curr_joint.sum(), 1)\n",
    "    curr_pw = np.dot(curr_encoder.T, true_pm).T\n",
    "    curr_mhat = m_hat(curr_encoder, pm, pu_m)\n",
    "    loops = -1\n",
    "    while np.abs(prev_f - new_f) >= CONV_THRESHOLD:\n",
    "        loops += 1\n",
    "        if loops >= 50:\n",
    "            break\n",
    "\n",
    "        # Let's first calculate the new encoder q(w|m)\n",
    "        new_encoder_vals = []\n",
    "        for i in range(len(true_pm)): \n",
    "            # for each meaning, we find the KL divergence between the utterances it conveys\n",
    "            # and each of the utterance distributions for each possible word that could be used \n",
    "            # div = DKL(pu_m[i], curr_mhat, axis=1)\n",
    "            div = np.log2(curr_pw)-beta*DKL(pu_m[i, :], curr_mhat, axis=1)\n",
    "            # new_encoder_vals.append(curr_pw * np.exp(-beta*div))\n",
    "            div = (div - logsumexp(div)).reshape(-1)\n",
    "            # print(div.shape)\n",
    "            new_encoder_vals.append(np.exp2(div))\n",
    "        unnorm_encoder = np.stack(new_encoder_vals)\n",
    "        # print(stacked.shape)\n",
    "        # Perform softmax as per the equation\n",
    "        # unnorm_encoder = softmax(stacked, beta=beta, axis=1)\n",
    "        # Weight by the pw vector\n",
    "        # unnorm_encoder = curr_pw*softmaxed\n",
    "        new_encoder = (unnorm_encoder/unnorm_encoder.sum(axis=1).reshape(-1, 1))\n",
    "        assert new_encoder.shape == curr_encoder.shape\n",
    "\n",
    "        # Now we can calculate the new pw probabilities\n",
    "        new_pw = np.dot(new_encoder.T, true_pm) # note that we use true pm, instead of the new pms\n",
    "\n",
    "        # We drop any words that are used with probablility lower than 1e-5\n",
    "        dropped = new_pw<=ptol # clusters to drop due to near-zero prob\n",
    "        if any(dropped):\n",
    "            print(\"DROPPING\")\n",
    "            new_pw = new_pw[~dropped] # drop ununsed clusters\n",
    "            new_encoder = new_encoder[:, ~(dropped.T[0])]\n",
    "            print(new_pw.shape)\n",
    "            # Renormalize\n",
    "            new_encoder = (new_encoder/new_encoder.sum(axis=1).reshape(-1, 1))#np.multiply(qw_m,np.tile(1./np.sum(self.qt_x,axis=0),(self.T,1))) # renormalize\n",
    "        new_pw = np.dot(new_encoder.T, true_pm).T\n",
    "        \n",
    "        new_mhat = m_hat(new_encoder, true_pm, pu_m)\n",
    "        # new_mhat = np.dot(pu_m.T,np.multiply(new_encoder.T, np.outer(1./new_pw,pm)).T).T\n",
    "\n",
    "        curr_encoder = new_encoder\n",
    "        curr_pw = new_pw\n",
    "        curr_mhat = new_mhat\n",
    "\n",
    "        prev_f = new_f\n",
    "        new_f = complexity_split(curr_encoder, true_pm) - beta*accuracy(curr_encoder, true_pm, pu_m)\n",
    "        # print(\"NEW STATS\")\n",
    "        # print(complexity_split(curr_encoder, true_pm))\n",
    "        # print(accuracy(curr_encoder, true_pm, pu_m))\n",
    "    return curr_encoder"
   ]
  },
  {
   "cell_type": "code",
   "execution_count": 29,
   "metadata": {},
   "outputs": [
    {
     "data": {
      "text/plain": [
       "(330, 247)"
      ]
     },
     "execution_count": 29,
     "metadata": {},
     "output_type": "execute_result"
    }
   ],
   "source": [
    "qw_m[-i-1].shape"
   ]
  },
  {
   "cell_type": "code",
   "execution_count": 34,
   "metadata": {},
   "outputs": [],
   "source": [
    "from dit.rate_distortion.blahut_arimoto import _blahut_arimoto\n",
    "\n",
    "def my_relative_entropy(dist1, dist2):\n",
    "    \"\"\"\n",
    "    The cross entropy between `dist1` and `dist2`.\n",
    "\n",
    "    Returns\n",
    "    -------\n",
    "    xh : float\n",
    "        The cross entropy between `dist1` and `dist2`.\n",
    "\n",
    "    \"\"\"\n",
    "\n",
    "    p1s = dist1\n",
    "    q1s = dist2\n",
    "\n",
    "    xh = -np.nansum(p1s * np.log2(q1s))\n",
    "    return xh\n",
    "\n",
    "def my_kl(dist1, dist2):\n",
    "    \"\"\"\n",
    "    The KL divergence between `dist1` and `dist2`.\n",
    "\n",
    "    Returns\n",
    "    -------\n",
    "    kld : float\n",
    "        The KL divergence between `dist1` and `dist2`.\n",
    "\n",
    "    \"\"\"\n",
    "\n",
    "    p1s = dist1\n",
    "    q1s = dist2\n",
    "    \n",
    "    xh = -np.nansum(p1s * np.log2(q1s))\n",
    "    e = -np.nansum(p1s * np.log2(p1s))\n",
    "    kld = xh - e\n",
    "\n",
    "    return kld"
   ]
  },
  {
   "cell_type": "code",
   "execution_count": 53,
   "metadata": {},
   "outputs": [],
   "source": [
    "\n",
    "def ck_blahut_arimoto_ib(p_xy, pm, beta, qinit, divergence=my_relative_entropy, max_iters=100):  # pragma: no cover\n",
    "    \"\"\"\n",
    "    Perform a robust form of the Blahut-Arimoto algorithms.\n",
    "\n",
    "    Parameters\n",
    "    ----------\n",
    "    p_xy : np.ndarray\n",
    "        The pmf to work with.\n",
    "    beta : float\n",
    "        The beta value for the optimization.\n",
    "    q_y_x : np.ndarray\n",
    "        The initial condition to work with.\n",
    "    divergence : func\n",
    "        The divergence measure to construct a distortion from: D(p(Y|x)||q(Y|t)).\n",
    "    max_iters : int\n",
    "        The maximum number of iterations.\n",
    "\n",
    "    Returns\n",
    "    -------\n",
    "    result : RateDistortionResult\n",
    "        The rate, distortion pair.\n",
    "    q_xyt : np.ndarray\n",
    "        The distribution p(x, y, t) which achieves the optimal rate, distortion.\n",
    "    \"\"\"\n",
    "    p_x = p_xy.sum(axis=1)\n",
    "    print(p_x.shape)\n",
    "    np.testing.assert_almost_equal(p_x.reshape(1, -1), pm.reshape(1, -1))\n",
    "    p_y_x = p_xy / p_xy.sum(axis=1, keepdims=True)\n",
    "    print(p_y_x.shape)\n",
    "\n",
    "    def next_q_y_t(q_t_x):\n",
    "        \"\"\"\n",
    "        q(y|t) = (\\sum_x p(x, y) * q(t|x)) / q(t)\n",
    "        \"\"\"\n",
    "        q_xyt = q_t_x[:, np.newaxis, :] * p_xy[:, :, np.newaxis]\n",
    "        q_ty = q_xyt.sum(axis=0).T\n",
    "        q_y_t = q_ty / q_ty.sum(axis=1, keepdims=True)\n",
    "        q_y_t[np.isnan(q_y_t)] = 1\n",
    "        return q_y_t\n",
    "\n",
    "    def distortion(p_x, q_t_x):\n",
    "        \"\"\"\n",
    "        d(x, t) = D[ p(Y|x) || q(Y|t) ]\n",
    "        \"\"\"\n",
    "        q_y_t = next_q_y_t(q_t_x)\n",
    "        distortions = np.asarray([divergence(a, b) for a in p_y_x for b in q_y_t]).reshape(q_y_t.shape)\n",
    "        return distortions\n",
    "\n",
    "    print(qinit.shape)\n",
    "    print(p_x.shape)\n",
    "    rd, q_xt = _blahut_arimoto(p_x=p_x,\n",
    "                              beta=beta,\n",
    "                              q_y_x=qinit,\n",
    "                              distortion=distortion,\n",
    "                              max_iters=max_iters,\n",
    "                              )\n",
    "\n",
    "    q_t_x = q_xt / q_xt.sum(axis=1, keepdims=True)\n",
    "    q_xyt = p_xy[:, :, np.newaxis] * q_t_x[:, np.newaxis, :]\n",
    "\n",
    "    return rd, q_xyt"
   ]
  },
  {
   "cell_type": "code",
   "execution_count": 59,
   "metadata": {},
   "outputs": [
    {
     "data": {
      "text/plain": [
       "15.810967655683163"
      ]
     },
     "execution_count": 59,
     "metadata": {},
     "output_type": "execute_result"
    }
   ],
   "source": [
    "beta_schedule[-i]"
   ]
  },
  {
   "cell_type": "code",
   "execution_count": 95,
   "metadata": {},
   "outputs": [
    {
     "data": {
      "text/plain": [
       "(330, 330)"
      ]
     },
     "execution_count": 95,
     "metadata": {},
     "output_type": "execute_result"
    }
   ],
   "source": [
    "new_q = np.concatenate((qw_m[-i-2], np.zeros((330, 330-qw_m[-i-2].shape[1]))), axis=1)\n",
    "new_q.shape"
   ]
  },
  {
   "cell_type": "code",
   "execution_count": 125,
   "metadata": {},
   "outputs": [
    {
     "name": "stderr",
     "output_type": "stream",
     "text": [
      "  0%|          | 0/1 [00:00<?, ?it/s]"
     ]
    },
    {
     "name": "stdout",
     "output_type": "stream",
     "text": [
      "(330,)\n",
      "(330, 330)\n",
      "(330, 330)\n",
      "(330,)\n"
     ]
    },
    {
     "name": "stderr",
     "output_type": "stream",
     "text": [
      "100%|██████████| 1/1 [06:24<00:00, 384.42s/it]\n"
     ]
    }
   ],
   "source": [
    "# encoder_list = []\n",
    "for i in tqdm(range(301, 302)):\n",
    "    new_q = np.concatenate((qw_m[-i], np.zeros((330, 330-qw_m[-i].shape[1]))), axis=1)\n",
    "    r, q = ck_blahut_arimoto_ib(pu_m*pm, pm, beta_schedule[-i-1], new_q, my_kl, 50)\n",
    "    q_xt = np.sum(q, axis=1)\n",
    "    qnew = q_xt / q_xt.sum(axis=1, keepdims=True)\n",
    "    # encoder_list.append(qprev)\n"
   ]
  },
  {
   "cell_type": "code",
   "execution_count": 121,
   "metadata": {},
   "outputs": [
    {
     "data": {
      "text/plain": [
       "6.3669786837184414"
      ]
     },
     "execution_count": 121,
     "metadata": {},
     "output_type": "execute_result"
    }
   ],
   "source": [
    "new_comp[0]"
   ]
  },
  {
   "cell_type": "code",
   "execution_count": 126,
   "metadata": {},
   "outputs": [
    {
     "data": {
      "text/plain": [
       "6.3669786837184414"
      ]
     },
     "execution_count": 126,
     "metadata": {},
     "output_type": "execute_result"
    }
   ],
   "source": [
    "complexity_split(qnew, pm)"
   ]
  },
  {
   "cell_type": "code",
   "execution_count": 124,
   "metadata": {},
   "outputs": [
    {
     "data": {
      "text/plain": [
       "array([[9.99600211e-01, 0.00000000e+00, 0.00000000e+00, ...,\n",
       "        0.00000000e+00, 0.00000000e+00, 0.00000000e+00],\n",
       "       [0.00000000e+00, 9.69468776e-01, 0.00000000e+00, ...,\n",
       "        0.00000000e+00, 0.00000000e+00, 0.00000000e+00],\n",
       "       [0.00000000e+00, 0.00000000e+00, 9.99999995e-01, ...,\n",
       "        0.00000000e+00, 0.00000000e+00, 0.00000000e+00],\n",
       "       ...,\n",
       "       [0.00000000e+00, 0.00000000e+00, 0.00000000e+00, ...,\n",
       "        0.00000000e+00, 9.97059574e-01, 0.00000000e+00],\n",
       "       [0.00000000e+00, 0.00000000e+00, 0.00000000e+00, ...,\n",
       "        0.00000000e+00, 0.00000000e+00, 9.21222796e-01],\n",
       "       [0.00000000e+00, 3.54826513e-08, 0.00000000e+00, ...,\n",
       "        0.00000000e+00, 0.00000000e+00, 0.00000000e+00]])"
      ]
     },
     "execution_count": 124,
     "metadata": {},
     "output_type": "execute_result"
    }
   ],
   "source": [
    "qw_m[-302]"
   ]
  },
  {
   "cell_type": "code",
   "execution_count": 107,
   "metadata": {},
   "outputs": [
    {
     "data": {
      "text/plain": [
       "array([[9.99600211e-001, 1.56855880e-091, 0.00000000e+000, ...,\n",
       "        0.00000000e+000, 0.00000000e+000, 0.00000000e+000],\n",
       "       [2.95337403e-088, 9.69468777e-001, 0.00000000e+000, ...,\n",
       "        0.00000000e+000, 0.00000000e+000, 0.00000000e+000],\n",
       "       [0.00000000e+000, 0.00000000e+000, 9.99999995e-001, ...,\n",
       "        0.00000000e+000, 0.00000000e+000, 0.00000000e+000],\n",
       "       ...,\n",
       "       [1.24945695e-262, 2.12072899e-178, 0.00000000e+000, ...,\n",
       "        0.00000000e+000, 0.00000000e+000, 0.00000000e+000],\n",
       "       [0.00000000e+000, 2.22922513e-276, 1.01339547e-115, ...,\n",
       "        0.00000000e+000, 0.00000000e+000, 0.00000000e+000],\n",
       "       [3.12740655e-112, 3.54828224e-008, 0.00000000e+000, ...,\n",
       "        0.00000000e+000, 0.00000000e+000, 0.00000000e+000]])"
      ]
     },
     "execution_count": 107,
     "metadata": {},
     "output_type": "execute_result"
    }
   ],
   "source": [
    "encoder_list[0]"
   ]
  },
  {
   "cell_type": "code",
   "execution_count": 99,
   "metadata": {},
   "outputs": [],
   "source": [
    "new_comp = []\n",
    "new_acc = []\n",
    "for encoder in encoder_list:\n",
    "    new_comp.append(complexity_split(encoder, pm))\n",
    "    new_acc.append(accuracy(encoder, pm, pu_m))"
   ]
  },
  {
   "cell_type": "code",
   "execution_count": 100,
   "metadata": {},
   "outputs": [
    {
     "data": {
      "text/plain": [
       "[<matplotlib.lines.Line2D at 0x7f907919fa10>]"
      ]
     },
     "execution_count": 100,
     "metadata": {},
     "output_type": "execute_result"
    },
    {
     "data": {
      "image/png": "[encoded data removed]",
      "text/plain": [
       "<Figure size 432x288 with 1 Axes>"
      ]
     },
     "metadata": {
      "needs_background": "light"
     },
     "output_type": "display_data"
    }
   ],
   "source": [
    "plt.plot(new_comp, new_acc)"
   ]
  },
  {
   "cell_type": "code",
   "execution_count": 103,
   "metadata": {},
   "outputs": [
    {
     "data": {
      "text/plain": [
       "array([6.32119439, 6.33012276, 6.33961789, 6.34892919, 6.35803786])"
      ]
     },
     "execution_count": 103,
     "metadata": {},
     "output_type": "execute_result"
    }
   ],
   "source": [
    "ib_curve[0][1500-306:1500-301]"
   ]
  },
  {
   "cell_type": "code",
   "execution_count": 106,
   "metadata": {},
   "outputs": [
    {
     "data": {
      "text/plain": [
       "[<matplotlib.lines.Line2D at 0x7f9078fd0190>]"
      ]
     },
     "execution_count": 106,
     "metadata": {},
     "output_type": "execute_result"
    },
    {
     "data": {
      "image/png": "[encoded data removed]",
      "text/plain": [
       "<Figure size 432x288 with 1 Axes>"
      ]
     },
     "metadata": {
      "needs_background": "light"
     },
     "output_type": "display_data"
    }
   ],
   "source": [
    "plt.plot(ib_curve[0][1501-306:1501-301], ib_curve[1][1501-306:1501-301])\n",
    "plt.plot(new_comp, new_acc)"
   ]
  },
  {
   "cell_type": "code",
   "execution_count": null,
   "metadata": {},
   "outputs": [],
   "source": []
  },
  {
   "cell_type": "code",
   "execution_count": 87,
   "metadata": {},
   "outputs": [
    {
     "data": {
      "text/plain": [
       "4.346974348267802"
      ]
     },
     "execution_count": 87,
     "metadata": {},
     "output_type": "execute_result"
    }
   ],
   "source": [
    "accuracy(qprev, pm, pu_m)"
   ]
  },
  {
   "cell_type": "code",
   "execution_count": 90,
   "metadata": {},
   "outputs": [
    {
     "data": {
      "text/plain": [
       "6.366848375558247"
      ]
     },
     "execution_count": 90,
     "metadata": {},
     "output_type": "execute_result"
    }
   ],
   "source": [
    "ib_curve[0][-i-1]"
   ]
  },
  {
   "cell_type": "code",
   "execution_count": 234,
   "metadata": {},
   "outputs": [
    {
     "name": "stdout",
     "output_type": "stream",
     "text": [
      "DROPPING\n",
      "(248,)\n",
      "DROPPING\n",
      "(247,)\n"
     ]
    }
   ],
   "source": [
    "i = 301\n",
    "# old_da = deterministic_annealing(pm, pu_m, qw_m[-i], beta_schedule[-i])\n",
    "new_da = da(pm, pu_m, qw_m[-i], beta_schedule[-i-1], ptol=1e-6)"
   ]
  },
  {
   "cell_type": "code",
   "execution_count": 235,
   "metadata": {},
   "outputs": [
    {
     "name": "stdout",
     "output_type": "stream",
     "text": [
      "Old True Complexity:  6.375\n",
      "Old Encoder Complexity:  6.375\n",
      "New True Complexity:  6.367\n",
      "New Encoder Complexity:  6.367\n",
      "Our New Complexity:  6.367\n",
      "\n",
      "\n",
      "Old True Accuracy:  4.348\n",
      "Old Encoder Accuracy:  4.348\n",
      "New True Accuracy:  4.347\n",
      "New Encoder Accuracy:  4.347\n",
      "Our New Accuracy:  4.347\n"
     ]
    }
   ],
   "source": [
    "print(\"Old True Complexity: \", np.round(ib_curve[0][-i], 3))\n",
    "print(\"Old Encoder Complexity: \", np.round(complexity_split(qw_m[-i], pm), 3))\n",
    "print(\"New True Complexity: \", np.round(ib_curve[0][-i-1], 3))\n",
    "print(\"New Encoder Complexity: \", np.round(complexity_split(qw_m[-i-1], pm), 3))\n",
    "# print(\"Our Old Complexity: \", complexity_split(old_da, pm))\n",
    "print(\"Our New Complexity: \", np.round(complexity_split(new_da, pm), 3))\n",
    "\n",
    "print(\"\\n\")\n",
    "print(\"Old True Accuracy: \", np.round(ib_curve[1][-i], 3))\n",
    "print(\"Old Encoder Accuracy: \", np.round(accuracy(qw_m[-i], pm, pu_m), 3))\n",
    "print(\"New True Accuracy: \", np.round(ib_curve[1][-i-1], 3))\n",
    "print(\"New Encoder Accuracy: \", np.round(accuracy(qw_m[-i-1], pm, pu_m), 3))\n",
    "# print(\"Our Old Accuracy: \", accuracy(old_da, pm, pu_m))\n",
    "print(\"Our New Accuracy: \", np.round(accuracy(new_da, pm, pu_m), 3))\n",
    "\n",
    "\n"
   ]
  },
  {
   "cell_type": "code",
   "execution_count": 478,
   "metadata": {},
   "outputs": [
    {
     "data": {
      "text/plain": [
       "array([0.01462499, 0.00141208, 0.01516417])"
      ]
     },
     "execution_count": 478,
     "metadata": {},
     "output_type": "execute_result"
    }
   ],
   "source": []
  },
  {
   "cell_type": "code",
   "execution_count": 384,
   "metadata": {},
   "outputs": [],
   "source": [
    "w = da(pm, pu_m, qw_m[1400], 1)"
   ]
  },
  {
   "cell_type": "code",
   "execution_count": 379,
   "metadata": {},
   "outputs": [
    {
     "name": "stdout",
     "output_type": "stream",
     "text": [
      "(1, 249)\n"
     ]
    }
   ],
   "source": [
    "i = 300\n",
    "o = deterministic_annealing(pm, pu_m, qw_m[-i], beta_schedule[-i])\n",
    "# print(o)"
   ]
  },
  {
   "cell_type": "code",
   "execution_count": 334,
   "metadata": {},
   "outputs": [
    {
     "name": "stdout",
     "output_type": "stream",
     "text": [
      "Old True Complexity:  6.383602136055115\n",
      "Old Encoder Complexity:  6.383602107256618\n",
      "New True Complexity:  6.375372674636497\n",
      "New Encoder Complexity:  6.375372675031595\n",
      "Our Complexity:  6.486067751506913\n",
      "Old True Accuracy:  4.348025928956325\n",
      "Old Encoder Accuracy:  4.348025927177895\n",
      "New True Accuracy:  4.347510789261797\n",
      "New Encoder Accuracy:  4.347510789285019\n",
      "Our Accuracy:  4.353454695917527\n"
     ]
    }
   ],
   "source": []
  },
  {
   "cell_type": "code",
   "execution_count": 152,
   "metadata": {},
   "outputs": [
    {
     "data": {
      "text/plain": [
       "(330, 6)"
      ]
     },
     "execution_count": 152,
     "metadata": {},
     "output_type": "execute_result"
    }
   ],
   "source": [
    "qw_m[190].shape"
   ]
  },
  {
   "cell_type": "code",
   "execution_count": 171,
   "metadata": {},
   "outputs": [
    {
     "data": {
      "text/plain": [
       "(330, 328)"
      ]
     },
     "execution_count": 171,
     "metadata": {},
     "output_type": "execute_result"
    }
   ],
   "source": [
    "qw_m[1397].shape"
   ]
  },
  {
   "cell_type": "code",
   "execution_count": 181,
   "metadata": {},
   "outputs": [
    {
     "data": {
      "text/plain": [
       "array([1.01226533, 1.01214018, 1.01201502, 1.01188986, 1.01176471,\n",
       "       1.01163955, 1.01151439, 1.01138924, 1.01126408, 1.01113892,\n",
       "       1.01101377, 1.01088861, 1.01076345, 1.0106383 , 1.01051314,\n",
       "       1.01038798, 1.01026283, 1.01013767, 1.01001252, 1.00988736,\n",
       "       1.0097622 , 1.00963705, 1.00951189, 1.00938673, 1.00926158,\n",
       "       1.00913642, 1.00901126, 1.00888611, 1.00876095, 1.00863579,\n",
       "       1.00851064, 1.00838548, 1.00826033, 1.00813517, 1.00801001,\n",
       "       1.00788486, 1.0077597 , 1.00763454, 1.00750939, 1.00738423,\n",
       "       1.00725907, 1.00713392, 1.00700876, 1.0068836 , 1.00675845,\n",
       "       1.00663329, 1.00650814, 1.00638298, 1.00625782, 1.00613267,\n",
       "       1.00600751, 1.00588235, 1.0057572 , 1.00563204, 1.00550688,\n",
       "       1.00538173, 1.00525657, 1.00513141, 1.00500626, 1.0048811 ,\n",
       "       1.00475594, 1.00463079, 1.00450563, 1.00438048, 1.00425532,\n",
       "       1.00413016, 1.00400501, 1.00387985, 1.00375469, 1.00362954,\n",
       "       1.00350438, 1.00337922, 1.00325407, 1.00312891, 1.00300375,\n",
       "       1.0028786 , 1.00275344, 1.00262829, 1.00250313, 1.00237797,\n",
       "       1.00225282, 1.00212766, 1.0020025 , 1.00187735, 1.00175219,\n",
       "       1.00162703, 1.00150188, 1.00137672, 1.00125156, 1.00112641,\n",
       "       1.00100125, 1.0008761 , 1.00075094, 1.00062578, 1.00050063,\n",
       "       1.00037547, 1.00025031, 1.00012516, 1.        , 0.        ])"
      ]
     },
     "execution_count": 181,
     "metadata": {},
     "output_type": "execute_result"
    }
   ],
   "source": [
    "beta_schedule[:100][::-1]"
   ]
  },
  {
   "cell_type": "code",
   "execution_count": 190,
   "metadata": {},
   "outputs": [
    {
     "data": {
      "text/plain": [
       "(330, 3)"
      ]
     },
     "execution_count": 190,
     "metadata": {},
     "output_type": "execute_result"
    }
   ],
   "source": [
    "qw_m[89].shape"
   ]
  },
  {
   "cell_type": "code",
   "execution_count": 226,
   "metadata": {},
   "outputs": [
    {
     "name": "stderr",
     "output_type": "stream",
     "text": [
      "100%|██████████| 10/10 [00:22<00:00,  2.27s/it]\n",
      "100%|██████████| 11/11 [00:00<00:00, 3155.77it/s]\n"
     ]
    }
   ],
   "source": [
    "new_encoders = reverse_annealing(pm, pu_m, qw_m[100], beta_schedule[90:100][::-1], ptol=1e-8)\n",
    "new_comp = []\n",
    "new_acc = []\n",
    "for e in tqdm(new_encoders):\n",
    "    new_comp.append(complexity_split(e, pm))\n",
    "    new_acc.append(accuracy(e, pm, pu_m))"
   ]
  },
  {
   "cell_type": "code",
   "execution_count": 217,
   "metadata": {},
   "outputs": [
    {
     "data": {
      "text/plain": [
       "12"
      ]
     },
     "execution_count": 217,
     "metadata": {},
     "output_type": "execute_result"
    }
   ],
   "source": [
    "len(new_encoders)"
   ]
  },
  {
   "cell_type": "code",
   "execution_count": 212,
   "metadata": {},
   "outputs": [
    {
     "data": {
      "text/plain": [
       "<matplotlib.collections.PathCollection at 0x7f9078d6d890>"
      ]
     },
     "execution_count": 212,
     "metadata": {},
     "output_type": "execute_result"
    },
    {
     "data": {
      "image/png": "[encoded data removed]",
      "text/plain": [
       "<Figure size 432x288 with 1 Axes>"
      ]
     },
     "metadata": {
      "needs_background": "light"
     },
     "output_type": "display_data"
    }
   ],
   "source": [
    "plt.scatter(ib_curve[0][:101], ib_curve[1][:101])\n",
    "# plt.xlim(0.5, 3.25)\n",
    "# plt.ylim(0.5, 3.25) "
   ]
  },
  {
   "cell_type": "code",
   "execution_count": 223,
   "metadata": {},
   "outputs": [
    {
     "data": {
      "text/plain": [
       "array([3.62425601e-01, 3.58307545e-01, 3.54086241e-01, 3.49764078e-01,\n",
       "       3.45320854e-01, 3.40752214e-01, 3.36049438e-01, 3.31198108e-01,\n",
       "       3.26196325e-01, 3.21031801e-01, 3.15703058e-01, 3.10197848e-01,\n",
       "       3.04508352e-01, 2.98632452e-01, 2.92551724e-01, 2.86267422e-01,\n",
       "       2.79761171e-01, 2.73027884e-01, 2.66053287e-01, 2.58831569e-01,\n",
       "       2.51347741e-01, 2.43590172e-01, 2.35542748e-01, 2.27192935e-01,\n",
       "       2.18524125e-01, 2.09526876e-01, 2.00184441e-01, 1.90475767e-01,\n",
       "       1.80386528e-01, 1.69896925e-01, 1.58993901e-01, 1.47654711e-01,\n",
       "       1.35864212e-01, 1.23612871e-01, 1.10891692e-01, 9.77044041e-02,\n",
       "       8.40830493e-02, 7.00949880e-02, 5.59101174e-02, 4.18985306e-02,\n",
       "       2.87790614e-02, 1.75370216e-02, 8.60096163e-03, 2.36022332e-03,\n",
       "       1.15220482e-03, 7.82052248e-04, 5.91021037e-04, 4.73216340e-04,\n",
       "       3.93333193e-04, 3.34142633e-04, 2.88189655e-04, 2.53742337e-04,\n",
       "       2.24257775e-04, 2.01230857e-04, 1.81156806e-04, 1.64691432e-04,\n",
       "       1.49786837e-04, 1.37983422e-04, 1.26612495e-04, 1.17222898e-04,\n",
       "       1.08898025e-04, 1.01565609e-04, 9.44690603e-05, 8.89575455e-05,\n",
       "       8.35873152e-05, 7.83726470e-05, 7.39387632e-05, 6.96256570e-05,\n",
       "       6.60242076e-05, 6.25096638e-05, 5.90884399e-05, 5.63066880e-05,\n",
       "       5.35854597e-05, 5.14495246e-05, 4.88350176e-05, 4.67904785e-05,\n",
       "       4.47848198e-05, 4.28205271e-05, 4.08998478e-05, 3.94853344e-05,\n",
       "       3.76360856e-05, 3.62780265e-05, 3.49418673e-05, 3.36288505e-05,\n",
       "       3.23401382e-05, 3.10767791e-05, 3.02465008e-05, 2.90200791e-05,\n",
       "       2.82157079e-05, 2.70299281e-05, 2.62537517e-05, 2.54867768e-05,\n",
       "       2.43593960e-05, 2.36235513e-05, 2.28982134e-05, 2.21837920e-05,\n",
       "       2.18293997e-05, 2.11266924e-05, 2.04361659e-05, 1.97581176e-05,\n",
       "       5.04840614e-12])"
      ]
     },
     "execution_count": 223,
     "metadata": {},
     "output_type": "execute_result"
    }
   ],
   "source": [
    "ib_curve[0][:101][::-1]"
   ]
  },
  {
   "cell_type": "code",
   "execution_count": 227,
   "metadata": {},
   "outputs": [
    {
     "data": {
      "text/plain": [
       "[0.3624256030159474,\n",
       " 0.3602964851481403,\n",
       " 0.35727883759802204,\n",
       " 0.35374654956300944,\n",
       " 0.3498908607196993,\n",
       " 0.3458097347656368,\n",
       " 0.3415530916944949,\n",
       " 0.3371458168511987,\n",
       " 0.332599577240722,\n",
       " 0.32791897033781225,\n",
       " 0.3231047751969891]"
      ]
     },
     "execution_count": 227,
     "metadata": {},
     "output_type": "execute_result"
    }
   ],
   "source": [
    "new_comp"
   ]
  },
  {
   "cell_type": "code",
   "execution_count": 195,
   "metadata": {},
   "outputs": [
    {
     "data": {
      "text/plain": [
       "<matplotlib.collections.PathCollection at 0x7f9078d3c2d0>"
      ]
     },
     "execution_count": 195,
     "metadata": {},
     "output_type": "execute_result"
    },
    {
     "data": {
      "image/png": "[encoded data removed]",
      "text/plain": [
       "<Figure size 432x288 with 1 Axes>"
      ]
     },
     "metadata": {
      "needs_background": "light"
     },
     "output_type": "display_data"
    }
   ],
   "source": [
    "plt.scatter(new_comp, new_acc)\n",
    "# plt.xlim(0.5, 3.25)\n",
    "# plt.ylim(0.5, 3.25) "
   ]
  },
  {
   "cell_type": "code",
   "execution_count": 683,
   "metadata": {},
   "outputs": [
    {
     "name": "stdout",
     "output_type": "stream",
     "text": [
      "4.171377245641041\n",
      "3.686277088613336\n"
     ]
    }
   ],
   "source": [
    "print(complexity(o, pm))\n",
    "print(accuracy(o, pm, pu_w))\n",
    "\n",
    "qm_w = m_hat(qw_m[1100], pm, pu_m)\n",
    "a = DKL(pu_m[0], qm_w, axis=1)\n",
    "b = DKL(pu_m[1], qm_w, axis=1)\n",
    "c = DKL(pu_m[2], qm_w, axis=1)\n",
    "a.shape\n",
    "stacked = np.stack((a, b, c))\n",
    "sa = softmax(stacked, beta=beta_schedule[1100], axis=1)\n",
    "pwsa = (w[0, :78]*sa)\n",
    "(pwsa/pwsa.sum(axis=1).reshape(-1, 1)).sum(axis=1)"
   ]
  },
  {
   "cell_type": "code",
   "execution_count": 635,
   "metadata": {},
   "outputs": [
    {
     "data": {
      "text/plain": [
       "array([ 4.33327011,  4.47358122,  5.16873024, 12.03267535, 11.8366125 ,\n",
       "       49.64319325, 49.64319325, 49.64319325, 49.64319325, 49.64319325,\n",
       "       49.64319325, 49.64319325, 49.64319325, 49.64319325, 49.64319325,\n",
       "       49.64319325, 49.64319325, 49.64319325, 49.64319325, 49.64319325,\n",
       "       49.64319325, 49.64319325, 49.64319325, 49.64319325, 49.64319325,\n",
       "       49.64319325, 49.64319325, 49.64319325, 49.64319325, 49.64319325,\n",
       "       49.64319325, 49.64319325, 49.64319325, 49.64319325, 49.64319325,\n",
       "       49.64319325, 49.64319325, 49.64319325, 49.64319325, 49.64319325,\n",
       "       49.64319325, 49.64319325, 49.64319325, 49.64319325, 49.64319325,\n",
       "       49.64319325, 49.64319325, 49.64319325, 49.64319325, 49.64319325,\n",
       "       49.64319325, 49.64319325, 49.64319325, 49.64319325, 49.64319325,\n",
       "       49.64319325, 49.64319325, 49.64319325, 49.64319325, 49.64319325,\n",
       "       49.64319325, 49.64319325, 49.64319325, 49.64319325, 49.64319325,\n",
       "       49.64319325, 49.64319325, 49.64319325, 49.64319325, 49.64319325,\n",
       "       49.64319325, 49.64319325, 49.64319325, 49.64319325, 49.64319325,\n",
       "       49.64319325, 49.64319325, 49.64319325, 49.64319325, 49.64319325,\n",
       "       49.64319325, 49.64319325, 49.64319325, 49.64319325, 49.64319325,\n",
       "       49.64319325, 49.64319325, 49.64319325, 49.64319325, 49.64319325,\n",
       "       49.64319325, 49.64319325, 49.64319325, 49.64319325, 49.64319325,\n",
       "       49.64319325, 49.64319325, 49.64319325, 49.64319325, 49.64319325,\n",
       "       49.64319325, 49.64319325, 49.64319325, 49.64319325, 49.64319325,\n",
       "       49.64319325, 49.64319325, 49.64319325, 49.64319325, 49.64319325,\n",
       "       49.64319325, 49.64319325, 49.64319325, 49.64319325, 49.64319325,\n",
       "       49.64319325, 49.64319325, 49.64319325, 49.64319325, 49.64319325,\n",
       "       49.64319325, 49.64319325, 49.64319325, 49.64319325, 49.64319325,\n",
       "       49.64319325, 49.64319325, 49.64319325, 49.64319325, 49.64319325,\n",
       "       49.64319325, 49.64319325, 49.64319325, 49.64319325, 49.64319325,\n",
       "       49.64319325, 49.64319325, 49.64319325, 49.64319325, 49.64319325,\n",
       "       49.64319325, 49.64319325, 49.64319325, 49.64319325, 49.64319325,\n",
       "       49.64319325, 49.64319325, 49.64319325, 49.64319325, 49.64319325,\n",
       "       49.64319325, 49.64319325, 49.64319325, 49.64319325, 49.64319325,\n",
       "       49.64319325, 49.64319325, 49.64319325, 49.64319325, 49.64319325,\n",
       "       49.64319325, 49.64319325, 49.64319325, 49.64319325, 49.64319325,\n",
       "       49.64319325, 49.64319325, 49.64319325, 49.64319325, 49.64319325,\n",
       "       49.64319325, 49.64319325, 49.64319325, 49.64319325, 49.64319325,\n",
       "       49.64319325, 49.64319325, 49.64319325, 49.64319325, 49.64319325,\n",
       "       49.64319325, 49.64319325, 49.64319325, 49.64319325, 49.64319325,\n",
       "       49.64319325, 49.64319325, 49.64319325, 49.64319325, 49.64319325,\n",
       "       49.64319325, 49.64319325, 49.64319325, 49.64319325, 49.64319325,\n",
       "       49.64319325, 49.64319325, 49.64319325, 49.64319325, 49.64319325,\n",
       "       49.64319325, 49.64319325, 49.64319325, 49.64319325, 49.64319325,\n",
       "       49.64319325, 49.64319325, 49.64319325, 49.64319325, 49.64319325,\n",
       "       49.64319325, 49.64319325, 49.64319325, 49.64319325, 49.64319325,\n",
       "       49.64319325, 49.64319325, 49.64319325, 49.64319325, 49.64319325,\n",
       "       49.64319325, 49.64319325, 49.64319325, 49.64319325, 49.64319325,\n",
       "       49.64319325, 49.64319325, 49.64319325, 49.64319325, 49.64319325,\n",
       "       49.64319325, 49.64319325, 49.64319325, 49.64319325, 49.64319325,\n",
       "       49.64319325, 49.64319325, 49.64319325, 49.64319325, 49.64319325,\n",
       "       49.64319325, 49.64319325, 49.64319325, 49.64319325, 49.64319325,\n",
       "       49.64319325, 49.64319325, 49.64319325, 49.64319325, 49.64319325,\n",
       "       49.64319325, 49.64319325, 49.64319325, 49.64319325, 49.64319325,\n",
       "       49.64319325, 49.64319325, 49.64319325, 49.64319325, 49.64319325,\n",
       "       49.64319325, 49.64319325, 49.64319325, 49.64319325, 49.64319325,\n",
       "       49.64319325, 49.64319325, 49.64319325, 49.64319325, 49.64319325,\n",
       "       49.64319325, 49.64319325, 49.64319325, 49.64319325, 49.64319325,\n",
       "       49.64319325, 49.64319325, 49.64319325, 49.64319325, 49.64319325,\n",
       "       49.64319325, 49.64319325, 49.64319325, 49.64319325, 49.64319325,\n",
       "       49.64319325, 49.64319325, 49.64319325, 49.64319325, 49.64319325,\n",
       "       49.64319325, 49.64319325, 49.64319325, 49.64319325, 49.64319325,\n",
       "       49.64319325, 49.64319325, 49.64319325, 49.64319325, 49.64319325,\n",
       "       49.64319325, 49.64319325, 49.64319325, 49.64319325, 49.64319325,\n",
       "       49.64319325, 49.64319325, 49.64319325, 49.64319325, 49.64319325,\n",
       "       49.64319325, 49.64319325, 49.64319325, 49.64319325, 49.64319325,\n",
       "       49.64319325, 49.64319325, 49.64319325, 49.64319325, 49.64319325,\n",
       "       49.64319325, 49.64319325, 49.64319325, 49.64319325, 49.64319325,\n",
       "       49.64319325, 49.64319325, 49.64319325, 49.64319325, 49.64319325])"
      ]
     },
     "execution_count": 635,
     "metadata": {},
     "output_type": "execute_result"
    }
   ],
   "source": [
    "div = DKL(pu_m[0, :], new_pu_w, axis=1)\n",
    "div"
   ]
  },
  {
   "cell_type": "code",
   "execution_count": 589,
   "metadata": {},
   "outputs": [
    {
     "data": {
      "text/plain": [
       "0.7919738835890051"
      ]
     },
     "execution_count": 589,
     "metadata": {},
     "output_type": "execute_result"
    }
   ],
   "source": [
    "accuracy(q, pm, pu_m)"
   ]
  },
  {
   "cell_type": "code",
   "execution_count": 585,
   "metadata": {},
   "outputs": [
    {
     "name": "stdout",
     "output_type": "stream",
     "text": [
      "0.1290203489744936\n"
     ]
    },
    {
     "data": {
      "text/plain": [
       "0.12902034897435277"
      ]
     },
     "execution_count": 585,
     "metadata": {},
     "output_type": "execute_result"
    }
   ],
   "source": [
    "print(complexity(o, pm))\n",
    "accuracy(o, pm, pu_m)"
   ]
  },
  {
   "cell_type": "code",
   "execution_count": null,
   "metadata": {},
   "outputs": [],
   "source": [
    "def softmax(dxy, beta=1, axis=None):\n",
    "    \"\"\":return\n",
    "        axis = None: pXY propto exp(-beta * dxy)\n",
    "        axis = 1: pY_X propto exp(-beta * dxy)\n",
    "        axis = 0: pX_Y propto exp(-beta * dxy)\n",
    "    \"\"\"\n",
    "    log_z = logsumexp(-beta * dxy, axis, keepdims=True)\n",
    "    return np.exp(-beta * dxy - log_z)"
   ]
  },
  {
   "cell_type": "code",
   "execution_count": 342,
   "metadata": {},
   "outputs": [],
   "source": [
    "betas = beta_schedule[::-1]"
   ]
  },
  {
   "cell_type": "code",
   "execution_count": 348,
   "metadata": {},
   "outputs": [
    {
     "data": {
      "text/plain": [
       "1.9758117563384303e-05"
      ]
     },
     "execution_count": 348,
     "metadata": {},
     "output_type": "execute_result"
    }
   ],
   "source": [
    "ib_curve[0][1]"
   ]
  },
  {
   "cell_type": "code",
   "execution_count": 562,
   "metadata": {},
   "outputs": [
    {
     "data": {
      "text/plain": [
       "array([[5.91046177e-01, 2.56896118e-01, 1.51183447e-01, 8.55146590e-04,\n",
       "        1.91114948e-05],\n",
       "       [3.51090163e-01, 5.74622798e-01, 7.34634014e-02, 5.97786034e-04,\n",
       "        2.25851520e-04],\n",
       "       [1.98504618e-01, 2.35554843e-02, 4.94941198e-01, 2.82977641e-01,\n",
       "        2.10583353e-05],\n",
       "       ...,\n",
       "       [8.34086257e-01, 7.54530351e-02, 7.39749515e-02, 1.64827999e-02,\n",
       "        2.95672276e-06],\n",
       "       [6.79966577e-01, 3.98140962e-02, 2.09699324e-01, 7.05140303e-02,\n",
       "        5.97295562e-06],\n",
       "       [2.59388445e-01, 6.71360429e-01, 6.87213462e-02, 1.92262813e-04,\n",
       "        3.37516538e-04]])"
      ]
     },
     "execution_count": 562,
     "metadata": {},
     "output_type": "execute_result"
    }
   ],
   "source": [
    "qw_m[139]"
   ]
  },
  {
   "cell_type": "code",
   "execution_count": 413,
   "metadata": {},
   "outputs": [],
   "source": [
    "q = np.concatenate((qw_m[138], np.zeros((330, 325))), axis=1)"
   ]
  },
  {
   "cell_type": "code",
   "execution_count": 391,
   "metadata": {},
   "outputs": [
    {
     "name": "stdout",
     "output_type": "stream",
     "text": [
      "0.8030636608362567\n"
     ]
    },
    {
     "data": {
      "text/plain": [
       "0.7919738835890051"
      ]
     },
     "execution_count": 391,
     "metadata": {},
     "output_type": "execute_result"
    }
   ],
   "source": [
    "print(complexity(q, pm))\n",
    "accuracy(q, pm, pu_m)"
   ]
  },
  {
   "cell_type": "code",
   "execution_count": 386,
   "metadata": {},
   "outputs": [
    {
     "name": "stdout",
     "output_type": "stream",
     "text": [
      "0.8030636683498145\n",
      "0.792957196977893\n"
     ]
    }
   ],
   "source": [
    "print(ib_curve[0][138])\n",
    "print(ib_curve[1][138])"
   ]
  },
  {
   "cell_type": "code",
   "execution_count": 360,
   "metadata": {},
   "outputs": [
    {
     "data": {
      "text/plain": [
       "133"
      ]
     },
     "execution_count": 360,
     "metadata": {},
     "output_type": "execute_result"
    },
    {
     "data": {
      "image/png": "[encoded data removed]",
      "text/plain": [
       "<Figure size 432x288 with 1 Axes>"
      ]
     },
     "metadata": {
      "needs_background": "light"
     },
     "output_type": "display_data"
    }
   ],
   "source": [
    "plt.plot(ib_curve[0], ib_curve[1])\n",
    "np.argmax(ib_curve[0]>=0.7)"
   ]
  },
  {
   "cell_type": "code",
   "execution_count": 337,
   "metadata": {},
   "outputs": [
    {
     "data": {
      "text/plain": [
       "array([[8.76124723e-01, 6.35998075e-03, 2.48341036e-07, ...,\n",
       "        2.21206309e-09, 4.73529757e-02, 2.40406320e-07],\n",
       "       [3.49275657e-02, 1.37134662e-03, 4.03576579e-07, ...,\n",
       "        1.56079620e-07, 3.85553573e-02, 6.05901524e-05],\n",
       "       [6.03476117e-06, 1.97902116e-01, 7.36698875e-01, ...,\n",
       "        6.24576070e-02, 8.89667785e-07, 4.12011883e-06],\n",
       "       ...,\n",
       "       [1.99431692e-02, 2.60929093e-04, 4.29230185e-05, ...,\n",
       "        1.05637759e-03, 3.57789531e-01, 1.36024557e-08],\n",
       "       [1.40123552e-04, 4.08256098e-02, 1.37111509e-02, ...,\n",
       "        2.13269110e-02, 9.63760788e-04, 2.32520510e-06],\n",
       "       [4.20176873e-03, 1.53999141e-03, 6.91159557e-07, ...,\n",
       "        1.67863334e-08, 2.45676972e-03, 9.83491734e-05]])"
      ]
     },
     "execution_count": 337,
     "metadata": {},
     "output_type": "execute_result"
    }
   ],
   "source": [
    "qw_m[500]"
   ]
  },
  {
   "cell_type": "code",
   "execution_count": 328,
   "metadata": {},
   "outputs": [
    {
     "data": {
      "text/plain": [
       "4.7612438757596145"
      ]
     },
     "execution_count": 328,
     "metadata": {},
     "output_type": "execute_result"
    }
   ],
   "source": [
    "div = DKL(o[2][0, :], o[3][0, :])\n",
    "div"
   ]
  },
  {
   "cell_type": "code",
   "execution_count": 327,
   "metadata": {},
   "outputs": [
    {
     "ename": "AxisError",
     "evalue": "axis 1 is out of bounds for array of dimension 0",
     "output_type": "error",
     "traceback": [
      "\u001b[0;31m---------------------------------------------------------------------------\u001b[0m",
      "\u001b[0;31mAxisError\u001b[0m                                 Traceback (most recent call last)",
      "\u001b[0;32m/tmp/ipykernel_17719/290527554.py\u001b[0m in \u001b[0;36m<module>\u001b[0;34m\u001b[0m\n\u001b[0;32m----> 1\u001b[0;31m \u001b[0mlogsumexp\u001b[0m\u001b[0;34m(\u001b[0m\u001b[0;34m-\u001b[0m\u001b[0;36m8192\u001b[0m\u001b[0;34m*\u001b[0m\u001b[0mdiv\u001b[0m\u001b[0;34m,\u001b[0m \u001b[0maxis\u001b[0m\u001b[0;34m=\u001b[0m\u001b[0;36m1\u001b[0m\u001b[0;34m)\u001b[0m\u001b[0;34m\u001b[0m\u001b[0;34m\u001b[0m\u001b[0m\n\u001b[0m",
      "\u001b[0;32m~/miniconda3/envs/venv37/lib/python3.7/site-packages/scipy/special/_logsumexp.py\u001b[0m in \u001b[0;36mlogsumexp\u001b[0;34m(a, axis, b, keepdims, return_sign)\u001b[0m\n\u001b[1;32m     97\u001b[0m             \u001b[0ma\u001b[0m\u001b[0;34m[\u001b[0m\u001b[0mb\u001b[0m \u001b[0;34m==\u001b[0m \u001b[0;36m0\u001b[0m\u001b[0;34m]\u001b[0m \u001b[0;34m=\u001b[0m \u001b[0;34m-\u001b[0m\u001b[0mnp\u001b[0m\u001b[0;34m.\u001b[0m\u001b[0minf\u001b[0m\u001b[0;34m\u001b[0m\u001b[0;34m\u001b[0m\u001b[0m\n\u001b[1;32m     98\u001b[0m \u001b[0;34m\u001b[0m\u001b[0m\n\u001b[0;32m---> 99\u001b[0;31m     \u001b[0ma_max\u001b[0m \u001b[0;34m=\u001b[0m \u001b[0mnp\u001b[0m\u001b[0;34m.\u001b[0m\u001b[0mamax\u001b[0m\u001b[0;34m(\u001b[0m\u001b[0ma\u001b[0m\u001b[0;34m,\u001b[0m \u001b[0maxis\u001b[0m\u001b[0;34m=\u001b[0m\u001b[0maxis\u001b[0m\u001b[0;34m,\u001b[0m \u001b[0mkeepdims\u001b[0m\u001b[0;34m=\u001b[0m\u001b[0;32mTrue\u001b[0m\u001b[0;34m)\u001b[0m\u001b[0;34m\u001b[0m\u001b[0;34m\u001b[0m\u001b[0m\n\u001b[0m\u001b[1;32m    100\u001b[0m \u001b[0;34m\u001b[0m\u001b[0m\n\u001b[1;32m    101\u001b[0m     \u001b[0;32mif\u001b[0m \u001b[0ma_max\u001b[0m\u001b[0;34m.\u001b[0m\u001b[0mndim\u001b[0m \u001b[0;34m>\u001b[0m \u001b[0;36m0\u001b[0m\u001b[0;34m:\u001b[0m\u001b[0;34m\u001b[0m\u001b[0;34m\u001b[0m\u001b[0m\n",
      "\u001b[0;32m<__array_function__ internals>\u001b[0m in \u001b[0;36mamax\u001b[0;34m(*args, **kwargs)\u001b[0m\n",
      "\u001b[0;32m~/miniconda3/envs/venv37/lib/python3.7/site-packages/numpy/core/fromnumeric.py\u001b[0m in \u001b[0;36mamax\u001b[0;34m(a, axis, out, keepdims, initial, where)\u001b[0m\n\u001b[1;32m   2704\u001b[0m     \"\"\"\n\u001b[1;32m   2705\u001b[0m     return _wrapreduction(a, np.maximum, 'max', axis, None, out,\n\u001b[0;32m-> 2706\u001b[0;31m                           keepdims=keepdims, initial=initial, where=where)\n\u001b[0m\u001b[1;32m   2707\u001b[0m \u001b[0;34m\u001b[0m\u001b[0m\n\u001b[1;32m   2708\u001b[0m \u001b[0;34m\u001b[0m\u001b[0m\n",
      "\u001b[0;32m~/miniconda3/envs/venv37/lib/python3.7/site-packages/numpy/core/fromnumeric.py\u001b[0m in \u001b[0;36m_wrapreduction\u001b[0;34m(obj, ufunc, method, axis, dtype, out, **kwargs)\u001b[0m\n\u001b[1;32m     85\u001b[0m                 \u001b[0;32mreturn\u001b[0m \u001b[0mreduction\u001b[0m\u001b[0;34m(\u001b[0m\u001b[0maxis\u001b[0m\u001b[0;34m=\u001b[0m\u001b[0maxis\u001b[0m\u001b[0;34m,\u001b[0m \u001b[0mout\u001b[0m\u001b[0;34m=\u001b[0m\u001b[0mout\u001b[0m\u001b[0;34m,\u001b[0m \u001b[0;34m**\u001b[0m\u001b[0mpasskwargs\u001b[0m\u001b[0;34m)\u001b[0m\u001b[0;34m\u001b[0m\u001b[0;34m\u001b[0m\u001b[0m\n\u001b[1;32m     86\u001b[0m \u001b[0;34m\u001b[0m\u001b[0m\n\u001b[0;32m---> 87\u001b[0;31m     \u001b[0;32mreturn\u001b[0m \u001b[0mufunc\u001b[0m\u001b[0;34m.\u001b[0m\u001b[0mreduce\u001b[0m\u001b[0;34m(\u001b[0m\u001b[0mobj\u001b[0m\u001b[0;34m,\u001b[0m \u001b[0maxis\u001b[0m\u001b[0;34m,\u001b[0m \u001b[0mdtype\u001b[0m\u001b[0;34m,\u001b[0m \u001b[0mout\u001b[0m\u001b[0;34m,\u001b[0m \u001b[0;34m**\u001b[0m\u001b[0mpasskwargs\u001b[0m\u001b[0;34m)\u001b[0m\u001b[0;34m\u001b[0m\u001b[0;34m\u001b[0m\u001b[0m\n\u001b[0m\u001b[1;32m     88\u001b[0m \u001b[0;34m\u001b[0m\u001b[0m\n\u001b[1;32m     89\u001b[0m \u001b[0;34m\u001b[0m\u001b[0m\n",
      "\u001b[0;31mAxisError\u001b[0m: axis 1 is out of bounds for array of dimension 0"
     ]
    }
   ],
   "source": [
    "x = np.exp(-beta*div)*o[1]\n",
    "x/x.sum()"
   ]
  },
  {
   "cell_type": "code",
   "execution_count": 325,
   "metadata": {},
   "outputs": [
    {
     "data": {
      "text/plain": [
       "array([8.19200000e+03, 8.02309323e+03, 7.85766906e+03, ...,\n",
       "       1.00012516e+00, 1.00000000e+00, 0.00000000e+00])"
      ]
     },
     "execution_count": 325,
     "metadata": {},
     "output_type": "execute_result"
    }
   ],
   "source": [
    "beta_schedule"
   ]
  },
  {
   "cell_type": "code",
   "execution_count": 313,
   "metadata": {},
   "outputs": [
    {
     "name": "stdout",
     "output_type": "stream",
     "text": [
      "-35801.45911960366\n",
      "100\n",
      "35901.45911960366\n",
      "8192.0\n",
      "[0.01540954 0.00141249 0.01657937 0.00410181 0.00027444]\n",
      "(330, 330)\n",
      "-35801.45911960366\n",
      "2.134709081502706e-06\n",
      "-35801.45912173837\n",
      "[0.01540954 0.00141249 0.01657937 0.00410181 0.00027444]\n",
      "(330, 330)\n"
     ]
    }
   ],
   "source": [
    "o = deterministic_annealing(pm, pu_m, np.diag(np.ones(330)), beta_schedule[0])"
   ]
  },
  {
   "cell_type": "code",
   "execution_count": 104,
   "metadata": {},
   "outputs": [
    {
     "name": "stdout",
     "output_type": "stream",
     "text": [
      "-6.50945402318856\n"
     ]
    },
    {
     "ename": "ValueError",
     "evalue": "matmul: Input operand 1 has a mismatch in its core dimension 0, with gufunc signature (n?,k),(k,m?)->(n?,m?) (size 4 is different from 3)",
     "output_type": "error",
     "traceback": [
      "\u001b[0;31m---------------------------------------------------------------------------\u001b[0m",
      "\u001b[0;31mValueError\u001b[0m                                Traceback (most recent call last)",
      "\u001b[0;32m/tmp/ipykernel_17719/937417190.py\u001b[0m in \u001b[0;36m<module>\u001b[0;34m\u001b[0m\n\u001b[1;32m      1\u001b[0m \u001b[0mobj\u001b[0m \u001b[0;34m=\u001b[0m \u001b[0mex_mid\u001b[0m\u001b[0;34m\u001b[0m\u001b[0;34m\u001b[0m\u001b[0m\n\u001b[1;32m      2\u001b[0m \u001b[0mprint\u001b[0m\u001b[0;34m(\u001b[0m\u001b[0mcomplexity\u001b[0m\u001b[0;34m(\u001b[0m\u001b[0mobj\u001b[0m\u001b[0;34m.\u001b[0m\u001b[0mencoder\u001b[0m\u001b[0;34m)\u001b[0m\u001b[0;34m)\u001b[0m\u001b[0;34m\u001b[0m\u001b[0;34m\u001b[0m\u001b[0m\n\u001b[0;32m----> 3\u001b[0;31m \u001b[0mprint\u001b[0m\u001b[0;34m(\u001b[0m\u001b[0maccuracy\u001b[0m\u001b[0;34m(\u001b[0m\u001b[0mobj\u001b[0m\u001b[0;34m.\u001b[0m\u001b[0mencoder\u001b[0m\u001b[0;34m,\u001b[0m \u001b[0mnp\u001b[0m\u001b[0;34m.\u001b[0m\u001b[0mdiag\u001b[0m\u001b[0;34m(\u001b[0m\u001b[0mnp\u001b[0m\u001b[0;34m.\u001b[0m\u001b[0mones\u001b[0m\u001b[0;34m(\u001b[0m\u001b[0;36m4\u001b[0m\u001b[0;34m)\u001b[0m\u001b[0;34m)\u001b[0m\u001b[0;34m)\u001b[0m\u001b[0;34m)\u001b[0m\u001b[0;34m\u001b[0m\u001b[0;34m\u001b[0m\u001b[0m\n\u001b[0m\u001b[1;32m      4\u001b[0m \u001b[0mprint\u001b[0m\u001b[0;34m(\u001b[0m\u001b[0mMI\u001b[0m\u001b[0;34m(\u001b[0m\u001b[0mnp\u001b[0m\u001b[0;34m.\u001b[0m\u001b[0mdiag\u001b[0m\u001b[0;34m(\u001b[0m\u001b[0mnp\u001b[0m\u001b[0;34m.\u001b[0m\u001b[0mones\u001b[0m\u001b[0;34m(\u001b[0m\u001b[0;36m4\u001b[0m\u001b[0;34m)\u001b[0m\u001b[0;34m)\u001b[0m \u001b[0;34m*\u001b[0m \u001b[0mobj\u001b[0m\u001b[0;34m.\u001b[0m\u001b[0mp_m\u001b[0m\u001b[0;34m)\u001b[0m\u001b[0;34m)\u001b[0m \u001b[0;31m#- accuracy(obj.encoder, np.diag(np.ones(4))))\u001b[0m\u001b[0;34m\u001b[0m\u001b[0;34m\u001b[0m\u001b[0m\n",
      "\u001b[0;32m/tmp/ipykernel_17719/3760140875.py\u001b[0m in \u001b[0;36maccuracy\u001b[0;34m(pMW, pU_M)\u001b[0m\n\u001b[1;32m     78\u001b[0m     \"\"\"\n\u001b[1;32m     79\u001b[0m     \u001b[0;31m# pMW = pW_M * pM\u001b[0m\u001b[0;34m\u001b[0m\u001b[0;34m\u001b[0m\u001b[0;34m\u001b[0m\u001b[0m\n\u001b[0;32m---> 80\u001b[0;31m     \u001b[0mpWU\u001b[0m \u001b[0;34m=\u001b[0m \u001b[0mpMW\u001b[0m \u001b[0;34m@\u001b[0m \u001b[0mpU_M\u001b[0m\u001b[0;34m\u001b[0m\u001b[0;34m\u001b[0m\u001b[0m\n\u001b[0m\u001b[1;32m     81\u001b[0m     \u001b[0;32mreturn\u001b[0m \u001b[0mMI\u001b[0m\u001b[0;34m(\u001b[0m\u001b[0mpWU\u001b[0m\u001b[0;34m)\u001b[0m\u001b[0;34m\u001b[0m\u001b[0;34m\u001b[0m\u001b[0m\n\u001b[1;32m     82\u001b[0m \u001b[0;34m\u001b[0m\u001b[0m\n",
      "\u001b[0;31mValueError\u001b[0m: matmul: Input operand 1 has a mismatch in its core dimension 0, with gufunc signature (n?,k),(k,m?)->(n?,m?) (size 4 is different from 3)"
     ]
    }
   ],
   "source": [
    "obj = ex_mid\n",
    "print(complexity(obj.encoder))\n",
    "print(accuracy(obj.encoder, np.diag(np.ones(4))))\n",
    "print(MI(np.diag(np.ones(4)) * obj.p_m)) #- accuracy(obj.encoder, np.diag(np.ones(4))))\n"
   ]
  },
  {
   "cell_type": "code",
   "execution_count": 35,
   "metadata": {},
   "outputs": [],
   "source": [
    "obj = mid_complexity_encoder\n",
    "obj = obj/obj.sum()\n",
    "pw, pjm = margins(obj)\n",
    "encoder = obj/pjm\n",
    "zas_mod = IBNamingModel(pjm, np.diag(np.ones(4)), beta_schedule, beta_schedule, encoder)"
   ]
  },
  {
   "cell_type": "code",
   "execution_count": 48,
   "metadata": {},
   "outputs": [
    {
     "data": {
      "text/plain": [
       "('/ais/hal9000/datasets/reddit/stance_pipeline/classifiers/temp.zip',\n",
       " <http.client.HTTPMessage at 0x7fca5077fd50>)"
      ]
     },
     "execution_count": 48,
     "metadata": {},
     "output_type": "execute_result"
    }
   ],
   "source": [
    "# from urllib.request import urlretrieve\n",
    "# DEFAULT_MODEL_URL = 'https://www.dropbox.com/s/70w953orv27kz1o/IB_color_naming_model.zip?dl=1'\n",
    "# urlretrieve(DEFAULT_MODEL_URL, \"/ais/hal9000/datasets/reddit/stance_pipeline/classifiers/\" + 'temp.zip')\n",
    "# from zipfile import ZipFile\n",
    "# with ZipFile(model_dir + 'temp.zip', 'r') as zf:\n",
    "#     zf.extractall(model_dir)\n",
    "#     os.remove(model_dir + 'temp.zip')\n",
    "#     os.rename(model_dir + 'IB_color_naming_model/IB_color_naming.pkl', model_dir + filename)"
   ]
  },
  {
   "cell_type": "code",
   "execution_count": null,
   "metadata": {},
   "outputs": [],
   "source": [
    "obj = mid_complexity_encoder\n",
    "obj = (obj/obj.sum()).T # transform to meanings on rows\n",
    "pw, pjm = margins(obj)\n",
    "encoder = (obj/pjm).T\n",
    "m_hat(encoder, pjm, np.diag(np.ones(4)))"
   ]
  },
  {
   "cell_type": "code",
   "execution_count": 33,
   "metadata": {},
   "outputs": [],
   "source": [
    "names = []\n",
    "xs = []\n",
    "ys = []\n",
    "for ib in all_ibs:\n",
    "    names.append(ib.com_name)\n",
    "    xs.append(ib.complexity)\n",
    "    ys.append(ib.informativeness)\n",
    "plt.scatter(xs, ys)\n"
   ]
  }
 ],
 "metadata": {
  "kernelspec": {
   "display_name": "venv37",
   "language": "python",
   "name": "python3"
  },
  "language_info": {
   "codemirror_mode": {
    "name": "ipython",
    "version": 3
   },
   "file_extension": ".py",
   "mimetype": "text/x-python",
   "name": "python",
   "nbconvert_exporter": "python",
   "pygments_lexer": "ipython3",
   "version": "3.7.9"
  },
  "orig_nbformat": 4,
  "vscode": {
   "interpreter": {
    "hash": "3da9994af9e3093f34be5556416449be7c3908df46ffc29ccdba7bd3fd3a7b92"
   }
  }
 },
 "nbformat": 4,
 "nbformat_minor": 2
}
