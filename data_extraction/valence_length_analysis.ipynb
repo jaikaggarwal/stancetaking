{
 "cells": [
  {
   "cell_type": "code",
   "execution_count": 1,
   "metadata": {},
   "outputs": [
    {
     "name": "stderr",
     "output_type": "stream",
     "text": [
      "/u/jai/miniconda3/envs/venv37/lib/python3.7/site-packages/tqdm/std.py:668: FutureWarning: The Panel class is removed from pandas. Accessing it from the top-level namespace will also be removed in the next version\n",
      "  from pandas import Panel\n"
     ]
    }
   ],
   "source": [
    "import pandas as pd\n",
    "import numpy as np\n",
    "import os\n",
    "import matplotlib.pyplot as plt\n",
    "from tqdm import tqdm\n",
    "import re\n",
    "from nltk import word_tokenize, sent_tokenize\n",
    "from utils import Serialization\n",
    "\n",
    "tqdm.pandas()"
   ]
  },
  {
   "cell_type": "code",
   "execution_count": 3,
   "metadata": {},
   "outputs": [],
   "source": [
    "ROOT_DIR = \"/ais/hal9000/datasets/reddit/stance_analysis/\"\n",
    "files = list(os.walk(ROOT_DIR))\n",
    "df = pd.read_json(files[1][0] + \"/aa\", lines=True)"
   ]
  },
  {
   "cell_type": "code",
   "execution_count": 4,
   "metadata": {},
   "outputs": [
    {
     "data": {
      "text/html": [
       "<div>\n",
       "<style scoped>\n",
       "    .dataframe tbody tr th:only-of-type {\n",
       "        vertical-align: middle;\n",
       "    }\n",
       "\n",
       "    .dataframe tbody tr th {\n",
       "        vertical-align: top;\n",
       "    }\n",
       "\n",
       "    .dataframe thead th {\n",
       "        text-align: right;\n",
       "    }\n",
       "</style>\n",
       "<table border=\"1\" class=\"dataframe\">\n",
       "  <thead>\n",
       "    <tr style=\"text-align: right;\">\n",
       "      <th></th>\n",
       "      <th>author</th>\n",
       "      <th>body</th>\n",
       "      <th>controversiality</th>\n",
       "      <th>created_utc</th>\n",
       "      <th>id</th>\n",
       "      <th>parent_id</th>\n",
       "      <th>score</th>\n",
       "      <th>subreddit</th>\n",
       "      <th>author_flair_text</th>\n",
       "      <th>author_flair_css_class</th>\n",
       "      <th>BF</th>\n",
       "      <th>BF_markers</th>\n",
       "      <th>BF_EX</th>\n",
       "      <th>BF_EX_markers</th>\n",
       "      <th>DA</th>\n",
       "      <th>DA_markers</th>\n",
       "      <th>DA_EX</th>\n",
       "      <th>DA_EX_markers</th>\n",
       "    </tr>\n",
       "  </thead>\n",
       "  <tbody>\n",
       "    <tr>\n",
       "      <th>0</th>\n",
       "      <td>TheSituasian</td>\n",
       "      <td>It was supposed to be Ahri...........</td>\n",
       "      <td>1</td>\n",
       "      <td>1396310400</td>\n",
       "      <td>cggwbpx</td>\n",
       "      <td>t3_21v3gc</td>\n",
       "      <td>3</td>\n",
       "      <td>leagueoflegends</td>\n",
       "      <td>[mikekim] (NA)</td>\n",
       "      <td>33 team</td>\n",
       "      <td>1</td>\n",
       "      <td>supposed</td>\n",
       "      <td>0</td>\n",
       "      <td></td>\n",
       "      <td>0</td>\n",
       "      <td></td>\n",
       "      <td>0</td>\n",
       "      <td></td>\n",
       "    </tr>\n",
       "    <tr>\n",
       "      <th>1</th>\n",
       "      <td>soitgoes93</td>\n",
       "      <td>Just a guess, but, Germany?</td>\n",
       "      <td>0</td>\n",
       "      <td>1396310400</td>\n",
       "      <td>cggwbpy</td>\n",
       "      <td>t1_cggtzi3</td>\n",
       "      <td>4</td>\n",
       "      <td>AskMen</td>\n",
       "      <td>♂</td>\n",
       "      <td>male</td>\n",
       "      <td>1</td>\n",
       "      <td>just</td>\n",
       "      <td>0</td>\n",
       "      <td></td>\n",
       "      <td>0</td>\n",
       "      <td></td>\n",
       "      <td>0</td>\n",
       "      <td></td>\n",
       "    </tr>\n",
       "    <tr>\n",
       "      <th>2</th>\n",
       "      <td>Stinky-pickle</td>\n",
       "      <td>That would have been a goal if it wasn't for T...</td>\n",
       "      <td>0</td>\n",
       "      <td>1396310400</td>\n",
       "      <td>cggwbq2</td>\n",
       "      <td>t3_21vc3k</td>\n",
       "      <td>3</td>\n",
       "      <td>hockey</td>\n",
       "      <td>OTTAlt2NHL</td>\n",
       "      <td>OTTAlt2NHL</td>\n",
       "      <td>1</td>\n",
       "      <td>would</td>\n",
       "      <td>0</td>\n",
       "      <td></td>\n",
       "      <td>0</td>\n",
       "      <td></td>\n",
       "      <td>0</td>\n",
       "      <td></td>\n",
       "    </tr>\n",
       "    <tr>\n",
       "      <th>3</th>\n",
       "      <td>UCSp1tF1r3</td>\n",
       "      <td>I sent you a friend request, my steam name is ...</td>\n",
       "      <td>0</td>\n",
       "      <td>1396310400</td>\n",
       "      <td>cggwbq3</td>\n",
       "      <td>t1_cggcwfz</td>\n",
       "      <td>1</td>\n",
       "      <td>DotA2</td>\n",
       "      <td></td>\n",
       "      <td>traxex</td>\n",
       "      <td>1</td>\n",
       "      <td>seem__like__can__really__hope__would</td>\n",
       "      <td>1</td>\n",
       "      <td>pretty__although</td>\n",
       "      <td>1</td>\n",
       "      <td>like__right__really__my</td>\n",
       "      <td>0</td>\n",
       "      <td></td>\n",
       "    </tr>\n",
       "    <tr>\n",
       "      <th>4</th>\n",
       "      <td>valoirlecoup</td>\n",
       "      <td>Yeah it sucked, but it was over three years ag...</td>\n",
       "      <td>0</td>\n",
       "      <td>1396310400</td>\n",
       "      <td>cggwbq4</td>\n",
       "      <td>t1_cggw9gh</td>\n",
       "      <td>10</td>\n",
       "      <td>Unexpected</td>\n",
       "      <td>None</td>\n",
       "      <td>None</td>\n",
       "      <td>0</td>\n",
       "      <td></td>\n",
       "      <td>1</td>\n",
       "      <td>yeah</td>\n",
       "      <td>1</td>\n",
       "      <td>yeah</td>\n",
       "      <td>0</td>\n",
       "      <td></td>\n",
       "    </tr>\n",
       "    <tr>\n",
       "      <th>...</th>\n",
       "      <td>...</td>\n",
       "      <td>...</td>\n",
       "      <td>...</td>\n",
       "      <td>...</td>\n",
       "      <td>...</td>\n",
       "      <td>...</td>\n",
       "      <td>...</td>\n",
       "      <td>...</td>\n",
       "      <td>...</td>\n",
       "      <td>...</td>\n",
       "      <td>...</td>\n",
       "      <td>...</td>\n",
       "      <td>...</td>\n",
       "      <td>...</td>\n",
       "      <td>...</td>\n",
       "      <td>...</td>\n",
       "      <td>...</td>\n",
       "      <td>...</td>\n",
       "    </tr>\n",
       "    <tr>\n",
       "      <th>499995</th>\n",
       "      <td>ishyman</td>\n",
       "      <td>shitty LPT- do it while your iron is hot to ma...</td>\n",
       "      <td>0</td>\n",
       "      <td>1396369982</td>\n",
       "      <td>cghex12</td>\n",
       "      <td>t1_cggpu0f</td>\n",
       "      <td>1</td>\n",
       "      <td>AskReddit</td>\n",
       "      <td>None</td>\n",
       "      <td>None</td>\n",
       "      <td>1</td>\n",
       "      <td>sure</td>\n",
       "      <td>1</td>\n",
       "      <td>shitty</td>\n",
       "      <td>1</td>\n",
       "      <td>sure</td>\n",
       "      <td>0</td>\n",
       "      <td></td>\n",
       "    </tr>\n",
       "    <tr>\n",
       "      <th>499996</th>\n",
       "      <td>Ripper62</td>\n",
       "      <td>you may as well be using a mana addict if you ...</td>\n",
       "      <td>0</td>\n",
       "      <td>1396369981</td>\n",
       "      <td>cghex13</td>\n",
       "      <td>t1_cggl5bv</td>\n",
       "      <td>1</td>\n",
       "      <td>hearthstone</td>\n",
       "      <td></td>\n",
       "      <td>hogger</td>\n",
       "      <td>1</td>\n",
       "      <td>may__can__really__could</td>\n",
       "      <td>0</td>\n",
       "      <td></td>\n",
       "      <td>1</td>\n",
       "      <td>now__so__really__well</td>\n",
       "      <td>0</td>\n",
       "      <td></td>\n",
       "    </tr>\n",
       "    <tr>\n",
       "      <th>499997</th>\n",
       "      <td>ParisPC07</td>\n",
       "      <td>Everyone can't have equal rights in a capitali...</td>\n",
       "      <td>0</td>\n",
       "      <td>1396369982</td>\n",
       "      <td>cghex15</td>\n",
       "      <td>t1_cggke58</td>\n",
       "      <td>2</td>\n",
       "      <td>bestof</td>\n",
       "      <td>None</td>\n",
       "      <td>None</td>\n",
       "      <td>1</td>\n",
       "      <td>will</td>\n",
       "      <td>1</td>\n",
       "      <td>always</td>\n",
       "      <td>0</td>\n",
       "      <td></td>\n",
       "      <td>1</td>\n",
       "      <td>always</td>\n",
       "    </tr>\n",
       "    <tr>\n",
       "      <th>499998</th>\n",
       "      <td>tedstery</td>\n",
       "      <td>Welp. No word on their twitter either.</td>\n",
       "      <td>0</td>\n",
       "      <td>1396369982</td>\n",
       "      <td>cghex17</td>\n",
       "      <td>t3_21xnxu</td>\n",
       "      <td>1</td>\n",
       "      <td>elderscrollsonline</td>\n",
       "      <td>Daggerfall Covenant</td>\n",
       "      <td>daggerfall</td>\n",
       "      <td>0</td>\n",
       "      <td></td>\n",
       "      <td>0</td>\n",
       "      <td></td>\n",
       "      <td>1</td>\n",
       "      <td>no</td>\n",
       "      <td>0</td>\n",
       "      <td></td>\n",
       "    </tr>\n",
       "    <tr>\n",
       "      <th>499999</th>\n",
       "      <td>MrDongji</td>\n",
       "      <td>Stated by the OP, April 1st.</td>\n",
       "      <td>0</td>\n",
       "      <td>1396369982</td>\n",
       "      <td>cghex1b</td>\n",
       "      <td>t1_cgheryj</td>\n",
       "      <td>0</td>\n",
       "      <td>Sneakers</td>\n",
       "      <td></td>\n",
       "      <td>jordan1bred</td>\n",
       "      <td>0</td>\n",
       "      <td></td>\n",
       "      <td>1</td>\n",
       "      <td>stated</td>\n",
       "      <td>0</td>\n",
       "      <td></td>\n",
       "      <td>0</td>\n",
       "      <td></td>\n",
       "    </tr>\n",
       "  </tbody>\n",
       "</table>\n",
       "<p>500000 rows × 18 columns</p>\n",
       "</div>"
      ],
      "text/plain": [
       "               author                                               body  \\\n",
       "0        TheSituasian              It was supposed to be Ahri...........   \n",
       "1          soitgoes93                        Just a guess, but, Germany?   \n",
       "2       Stinky-pickle  That would have been a goal if it wasn't for T...   \n",
       "3          UCSp1tF1r3  I sent you a friend request, my steam name is ...   \n",
       "4        valoirlecoup  Yeah it sucked, but it was over three years ag...   \n",
       "...               ...                                                ...   \n",
       "499995        ishyman  shitty LPT- do it while your iron is hot to ma...   \n",
       "499996       Ripper62  you may as well be using a mana addict if you ...   \n",
       "499997      ParisPC07  Everyone can't have equal rights in a capitali...   \n",
       "499998       tedstery             Welp. No word on their twitter either.   \n",
       "499999       MrDongji                      Stated by the OP, April 1st.    \n",
       "\n",
       "        controversiality  created_utc       id   parent_id  score  \\\n",
       "0                      1   1396310400  cggwbpx   t3_21v3gc      3   \n",
       "1                      0   1396310400  cggwbpy  t1_cggtzi3      4   \n",
       "2                      0   1396310400  cggwbq2   t3_21vc3k      3   \n",
       "3                      0   1396310400  cggwbq3  t1_cggcwfz      1   \n",
       "4                      0   1396310400  cggwbq4  t1_cggw9gh     10   \n",
       "...                  ...          ...      ...         ...    ...   \n",
       "499995                 0   1396369982  cghex12  t1_cggpu0f      1   \n",
       "499996                 0   1396369981  cghex13  t1_cggl5bv      1   \n",
       "499997                 0   1396369982  cghex15  t1_cggke58      2   \n",
       "499998                 0   1396369982  cghex17   t3_21xnxu      1   \n",
       "499999                 0   1396369982  cghex1b  t1_cgheryj      0   \n",
       "\n",
       "                 subreddit    author_flair_text author_flair_css_class  BF  \\\n",
       "0          leagueoflegends       [mikekim] (NA)                33 team   1   \n",
       "1                   AskMen                    ♂                   male   1   \n",
       "2                   hockey           OTTAlt2NHL             OTTAlt2NHL   1   \n",
       "3                    DotA2                                      traxex   1   \n",
       "4               Unexpected                 None                   None   0   \n",
       "...                    ...                  ...                    ...  ..   \n",
       "499995           AskReddit                 None                   None   1   \n",
       "499996         hearthstone                                      hogger   1   \n",
       "499997              bestof                 None                   None   1   \n",
       "499998  elderscrollsonline  Daggerfall Covenant             daggerfall   0   \n",
       "499999            Sneakers                                 jordan1bred   0   \n",
       "\n",
       "                                  BF_markers  BF_EX     BF_EX_markers  DA  \\\n",
       "0                                   supposed      0                     0   \n",
       "1                                       just      0                     0   \n",
       "2                                      would      0                     0   \n",
       "3       seem__like__can__really__hope__would      1  pretty__although   1   \n",
       "4                                                 1              yeah   1   \n",
       "...                                      ...    ...               ...  ..   \n",
       "499995                                  sure      1            shitty   1   \n",
       "499996               may__can__really__could      0                     1   \n",
       "499997                                  will      1            always   0   \n",
       "499998                                            0                     1   \n",
       "499999                                            1            stated   0   \n",
       "\n",
       "                     DA_markers  DA_EX DA_EX_markers  \n",
       "0                                    0                \n",
       "1                                    0                \n",
       "2                                    0                \n",
       "3       like__right__really__my      0                \n",
       "4                          yeah      0                \n",
       "...                         ...    ...           ...  \n",
       "499995                     sure      0                \n",
       "499996    now__so__really__well      0                \n",
       "499997                               1        always  \n",
       "499998                       no      0                \n",
       "499999                               0                \n",
       "\n",
       "[500000 rows x 18 columns]"
      ]
     },
     "execution_count": 4,
     "metadata": {},
     "output_type": "execute_result"
    }
   ],
   "source": [
    "df"
   ]
  },
  {
   "cell_type": "code",
   "execution_count": 5,
   "metadata": {},
   "outputs": [
    {
     "name": "stderr",
     "output_type": "stream",
     "text": [
      "100%|██████████| 379141/379141 [00:45<00:00, 8406.08it/s] \n"
     ]
    }
   ],
   "source": [
    "ROOT_DIR = \"/ais/hal9000/datasets/reddit/stance_analysis/\"\n",
    "files = list(os.walk(ROOT_DIR))\n",
    "df = pd.read_json(files[1][0] + \"/aa\", lines=True)\n",
    "\n",
    "stance_groups = pd.read_json(\"../stancemarkers/stancemarkers.json\").T\n",
    "sub_group = stance_groups[stance_groups['stance_group'].isin([\"positive_affect_verbs\", \"positive_affect_adjective\", \"negative_affect_verbs\", \"negative_affect_adjective\", \"positive_affect_adverb\", \"negative_affect_adverb\", \"emphatic\"])]\n",
    "rel_markers = set(sub_group.index)\n",
    "marker_to_group = sub_group['stance_group'].to_dict()\n",
    "\n",
    "df = df[df['BF'] == 1]\n",
    "df['sens'] = df['body'].progress_apply(lambda x: sent_tokenize(x))\n",
    "df_big = df.explode(\"sens\")\n"
   ]
  },
  {
   "cell_type": "code",
   "execution_count": 6,
   "metadata": {},
   "outputs": [],
   "source": [
    "def extract_relevant_markers(new_line, terms):\n",
    "    curr_body = set(new_line.lower().split(\" \"))\n",
    "    present_markers = [val for val in terms if val in curr_body]\n",
    "    return present_markers"
   ]
  },
  {
   "cell_type": "code",
   "execution_count": 12,
   "metadata": {},
   "outputs": [
    {
     "name": "stderr",
     "output_type": "stream",
     "text": [
      "100%|██████████| 1206365/1206365 [00:25<00:00, 47067.29it/s]\n",
      "100%|██████████| 308503/308503 [00:00<00:00, 376846.65it/s]\n"
     ]
    }
   ],
   "source": [
    "tmp = df_big[['author', 'subreddit', 'id', 'sens']].reset_index(drop=True)\n",
    "tmp['rel_marker'] = tmp['sens'].progress_apply(lambda x: extract_relevant_markers(x, rel_markers))\n",
    "tmp['one_marker'] = tmp['rel_marker'].apply(lambda x: len(x) == 1)\n",
    "tmp = tmp[tmp['one_marker']]\n",
    "tmp['marker_category'] = tmp['rel_marker'].apply(lambda x: marker_to_group[x[0]])\n",
    "tmp['len'] = tmp['sens'].progress_apply(lambda x: len(x.split(\" \")))\n",
    "tmp = tmp.rename(columns={\"sens\": \"body\"})"
   ]
  },
  {
   "cell_type": "code",
   "execution_count": 13,
   "metadata": {},
   "outputs": [
    {
     "name": "stderr",
     "output_type": "stream",
     "text": [
      "/u/jai/miniconda3/envs/venv37/lib/python3.7/site-packages/ipykernel_launcher.py:3: SettingWithCopyWarning: \n",
      "A value is trying to be set on a copy of a slice from a DataFrame.\n",
      "Try using .loc[row_indexer,col_indexer] = value instead\n",
      "\n",
      "See the caveats in the documentation: https://pandas.pydata.org/pandas-docs/stable/user_guide/indexing.html#returning-a-view-versus-a-copy\n",
      "  This is separate from the ipykernel package so we can avoid doing imports until\n",
      "/u/jai/miniconda3/envs/venv37/lib/python3.7/site-packages/ipykernel_launcher.py:3: SettingWithCopyWarning: \n",
      "A value is trying to be set on a copy of a slice from a DataFrame.\n",
      "Try using .loc[row_indexer,col_indexer] = value instead\n",
      "\n",
      "See the caveats in the documentation: https://pandas.pydata.org/pandas-docs/stable/user_guide/indexing.html#returning-a-view-versus-a-copy\n",
      "  This is separate from the ipykernel package so we can avoid doing imports until\n",
      "/u/jai/miniconda3/envs/venv37/lib/python3.7/site-packages/ipykernel_launcher.py:3: SettingWithCopyWarning: \n",
      "A value is trying to be set on a copy of a slice from a DataFrame.\n",
      "Try using .loc[row_indexer,col_indexer] = value instead\n",
      "\n",
      "See the caveats in the documentation: https://pandas.pydata.org/pandas-docs/stable/user_guide/indexing.html#returning-a-view-versus-a-copy\n",
      "  This is separate from the ipykernel package so we can avoid doing imports until\n",
      "/u/jai/miniconda3/envs/venv37/lib/python3.7/site-packages/ipykernel_launcher.py:3: SettingWithCopyWarning: \n",
      "A value is trying to be set on a copy of a slice from a DataFrame.\n",
      "Try using .loc[row_indexer,col_indexer] = value instead\n",
      "\n",
      "See the caveats in the documentation: https://pandas.pydata.org/pandas-docs/stable/user_guide/indexing.html#returning-a-view-versus-a-copy\n",
      "  This is separate from the ipykernel package so we can avoid doing imports until\n",
      "/u/jai/miniconda3/envs/venv37/lib/python3.7/site-packages/ipykernel_launcher.py:3: SettingWithCopyWarning: \n",
      "A value is trying to be set on a copy of a slice from a DataFrame.\n",
      "Try using .loc[row_indexer,col_indexer] = value instead\n",
      "\n",
      "See the caveats in the documentation: https://pandas.pydata.org/pandas-docs/stable/user_guide/indexing.html#returning-a-view-versus-a-copy\n",
      "  This is separate from the ipykernel package so we can avoid doing imports until\n",
      "/u/jai/miniconda3/envs/venv37/lib/python3.7/site-packages/ipykernel_launcher.py:3: SettingWithCopyWarning: \n",
      "A value is trying to be set on a copy of a slice from a DataFrame.\n",
      "Try using .loc[row_indexer,col_indexer] = value instead\n",
      "\n",
      "See the caveats in the documentation: https://pandas.pydata.org/pandas-docs/stable/user_guide/indexing.html#returning-a-view-versus-a-copy\n",
      "  This is separate from the ipykernel package so we can avoid doing imports until\n"
     ]
    }
   ],
   "source": [
    "for i in [6, 8, 10, 12, 14, 16]:\n",
    "    curr = tmp[tmp['len'] == i]\n",
    "    curr['body_mask'] = curr.apply(lambda x: re.sub(x['rel_marker'][0], \"[MASK]\", x['body'].lower()), axis=1)\n",
    "    curr.to_csv(f\"valence_analysis/{i}_len_posts.csv\")"
   ]
  },
  {
   "cell_type": "code",
   "execution_count": 4,
   "metadata": {},
   "outputs": [],
   "source": [
    "def extract_vad(curr_df, col, masked):\n",
    "    valence = []\n",
    "    arousal = []\n",
    "    dominance = []\n",
    "    try:\n",
    "        for i, row in curr_df.iterrows():\n",
    "            v, a, d = eval(row[col + masked])\n",
    "            valence.append(v)\n",
    "            arousal.append(a)\n",
    "            dominance.append(d)\n",
    "    except Exception as e:\n",
    "        print(e)\n",
    "        print(row[col])\n",
    "        print(e)\n",
    "    curr_df['valence' + masked] = valence\n",
    "    curr_df['arousal' + masked] = arousal\n",
    "    curr_df['dominance' + masked] = dominance\n",
    "\n",
    "    return curr_df\n",
    "\n",
    "len_to_valence = {}\n",
    "for i in [6, 8, 10, 12, 14, 16]:\n",
    "     curr = pd.read_csv(f\"valence_analysis/{i}_len_posts_vad.csv\", index_col=0)\n",
    "     curr =  extract_vad(curr, \"output\", \"_masked\")\n",
    "     len_to_valence[i] = curr['valence_masked']\n"
   ]
  },
  {
   "cell_type": "code",
   "execution_count": 9,
   "metadata": {},
   "outputs": [
    {
     "name": "stdout",
     "output_type": "stream",
     "text": [
      "Post Length: 16 Mean Valence: 0.477760688585808 +- 0.14812715003043808\n",
      "Post Length: 6 Mean Valence: 0.5202534432471668 +- 0.1630474609014197\n"
     ]
    },
    {
     "data": {
      "image/png": "[encoded data removed]",
      "text/plain": [
       "<Figure size 432x288 with 1 Axes>"
      ]
     },
     "metadata": {
      "needs_background": "light"
     },
     "output_type": "display_data"
    },
    {
     "name": "stdout",
     "output_type": "stream",
     "text": [
      "Post Length: 16 Mean Valence: 0.477760688585808 +- 0.14812715003043808\n",
      "Post Length: 8 Mean Valence: 0.5077963769600266 +- 0.15707404234632993\n"
     ]
    },
    {
     "data": {
      "image/png": "[encoded data removed]",
      "text/plain": [
       "<Figure size 432x288 with 1 Axes>"
      ]
     },
     "metadata": {
      "needs_background": "light"
     },
     "output_type": "display_data"
    },
    {
     "name": "stdout",
     "output_type": "stream",
     "text": [
      "Post Length: 16 Mean Valence: 0.477760688585808 +- 0.14812715003043808\n",
      "Post Length: 10 Mean Valence: 0.49936970787259694 +- 0.15402977631740902\n"
     ]
    },
    {
     "data": {
      "image/png": "[encoded data removed]",
      "text/plain": [
       "<Figure size 432x288 with 1 Axes>"
      ]
     },
     "metadata": {
      "needs_background": "light"
     },
     "output_type": "display_data"
    },
    {
     "name": "stdout",
     "output_type": "stream",
     "text": [
      "Post Length: 16 Mean Valence: 0.477760688585808 +- 0.14812715003043808\n",
      "Post Length: 12 Mean Valence: 0.48954691404141637 +- 0.1507032884216419\n"
     ]
    },
    {
     "data": {
      "image/png": "[encoded data removed]",
      "text/plain": [
       "<Figure size 432x288 with 1 Axes>"
      ]
     },
     "metadata": {
      "needs_background": "light"
     },
     "output_type": "display_data"
    },
    {
     "name": "stdout",
     "output_type": "stream",
     "text": [
      "Post Length: 16 Mean Valence: 0.477760688585808 +- 0.14812715003043808\n",
      "Post Length: 14 Mean Valence: 0.48286898569400205 +- 0.14787030897543157\n"
     ]
    },
    {
     "data": {
      "image/png": "[encoded data removed]",
      "text/plain": [
       "<Figure size 432x288 with 1 Axes>"
      ]
     },
     "metadata": {
      "needs_background": "light"
     },
     "output_type": "display_data"
    },
    {
     "data": {
      "text/plain": [
       "<Figure size 432x288 with 0 Axes>"
      ]
     },
     "metadata": {},
     "output_type": "display_data"
    }
   ],
   "source": [
    "for small in [6, 8, 10, 12, 14]:\n",
    "    for key in [16, small]:\n",
    "        print(f\"Post Length: {key} Mean Valence: {len_to_valence[key].mean()} +- {len_to_valence[key].std()}\")\n",
    "        plt.hist(len_to_valence[key] if key == 16 else len_to_valence[key] - 0.04, density=True, alpha=1 if key == 16 else 0.4, label=f\"{key}\")\n",
    "    plt.title(\"Valence Score Distributions by Sentence Length\")\n",
    "    plt.xlabel(\"Valence Scores\")\n",
    "    plt.ylabel(\"Probability Density\")\n",
    "    plt.legend()\n",
    "    plt.show()\n",
    "    plt.clf()"
   ]
  }
 ],
 "metadata": {
  "kernelspec": {
   "display_name": "Python 3.7.9 ('venv37')",
   "language": "python",
   "name": "python3"
  },
  "language_info": {
   "codemirror_mode": {
    "name": "ipython",
    "version": 3
   },
   "file_extension": ".py",
   "mimetype": "text/x-python",
   "name": "python",
   "nbconvert_exporter": "python",
   "pygments_lexer": "ipython3",
   "version": "3.7.9"
  },
  "orig_nbformat": 4,
  "vscode": {
   "interpreter": {
    "hash": "3da9994af9e3093f34be5556416449be7c3908df46ffc29ccdba7bd3fd3a7b92"
   }
  }
 },
 "nbformat": 4,
 "nbformat_minor": 2
}
