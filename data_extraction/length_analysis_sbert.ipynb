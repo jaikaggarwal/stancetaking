{
 "cells": [
  {
   "cell_type": "code",
   "execution_count": null,
   "metadata": {},
   "outputs": [],
   "source": [
    "from sentence_transformers import SentenceTransformer\n",
    "from nltk import word_tokenize\n",
    "\n",
    "# Comments from r/awww\n",
    "sentences = [\n",
    "    \"I have seen in multiple comments that this account is a collective effort by multiple people, so that might be why they are active around all hours.\",\n",
    "    \"I got one for my cat before I brought her home six years ago, and she's never used it once.\",\n",
    "    \"Must be a glitch in the Matrix or you guys and your cats are the same model copy and pasted\"\n",
    "]\n",
    "sbert = SentenceTransformer(\"bert-large-nli-mean-tokens\")\n",
    "tknzr = sbert.tokenizer"
   ]
  },
  {
   "cell_type": "code",
   "execution_count": null,
   "metadata": {},
   "outputs": [],
   "source": [
    "for sentence in sentences:\n",
    "    print(\"spaces tokenization:\", sentence.split())\n",
    "    print(\"word tokenization:\", word_tokenize(sentence))\n",
    "    print(\"SBERT tokenization:\", tknzr.convert_ids_to_tokens(sbert.tokenize([sentence])[\"input_ids\"][0]))"
   ]
  }
 ],
 "metadata": {
  "language_info": {
   "name": "python"
  },
  "orig_nbformat": 4
 },
 "nbformat": 4,
 "nbformat_minor": 2
}
