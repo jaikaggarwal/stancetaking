{
 "cells": [
  {
   "cell_type": "code",
   "execution_count": 1,
   "metadata": {},
   "outputs": [],
   "source": [
    "import pandas as pd\n",
    "import numpy as np\n",
    "import os\n",
    "import matplotlib.pyplot as plt\n",
    "from tqdm import tqdm\n",
    "import re\n",
    "from nltk import word_tokenize, sent_tokenize\n",
    "from sentence_transformers import SentenceTransformer\n",
    "from utils import Serialization"
   ]
  },
  {
   "cell_type": "code",
   "execution_count": 2,
   "metadata": {},
   "outputs": [
    {
     "name": "stderr",
     "output_type": "stream",
     "text": [
      "/u/jai/miniconda3/envs/venv37/lib/python3.7/site-packages/tqdm/std.py:668: FutureWarning: The Panel class is removed from pandas. Accessing it from the top-level namespace will also be removed in the next version\n",
      "  from pandas import Panel\n"
     ]
    }
   ],
   "source": [
    "tqdm.pandas()\n",
    "# model = SentenceTransformer(\"bert-large-nli-mean-tokens\")"
   ]
  },
  {
   "cell_type": "code",
   "execution_count": 119,
   "metadata": {},
   "outputs": [],
   "source": [
    "def extract_vad(curr_df, col, masked):\n",
    "    valence = []\n",
    "    arousal = []\n",
    "    dominance = []\n",
    "    try:\n",
    "        for i, row in curr_df.iterrows():\n",
    "            v, a, d = eval(row[col + masked])\n",
    "            valence.append(v)\n",
    "            arousal.append(a)\n",
    "            dominance.append(d)\n",
    "    except Exception as e:\n",
    "        print(e)\n",
    "        print(row[col])\n",
    "        print(e)\n",
    "    curr_df['valence' + masked] = valence\n",
    "    curr_df['arousal' + masked] = arousal\n",
    "    curr_df['dominance' + masked] = dominance\n",
    "\n",
    "    return curr_df\n",
    "\n"
   ]
  },
  {
   "cell_type": "code",
   "execution_count": 120,
   "metadata": {},
   "outputs": [],
   "source": [
    "short_posts = pd.read_csv(\"short_posts_vad.csv\", index_col=0)\n",
    "short_posts =  extract_vad(short_posts, \"output\", \"\")\n",
    "short_posts =  extract_vad(short_posts, \"output\", \"_masked\")\n",
    "mid_posts = pd.read_csv(\"mid_posts_vad.csv\", index_col=0)\n",
    "mid_posts =  extract_vad(mid_posts, \"output\", \"\")\n",
    "mid_posts =  extract_vad(mid_posts, \"output\", \"_masked\")\n",
    "long_posts = pd.read_csv(\"long_posts_vad.csv\", index_col=0)\n",
    "long_posts =  extract_vad(long_posts, \"output\", \"\")\n",
    "long_posts =  extract_vad(long_posts, \"output\", \"_masked\")\n",
    "\n",
    "# mid_posts['output_mask'] = mid_posts['output_mask'].apply(eval)"
   ]
  },
  {
   "cell_type": "code",
   "execution_count": 121,
   "metadata": {},
   "outputs": [],
   "source": [
    "pos_short = short_posts[short_posts['marker_category'].str.startswith(\"positive_affect\")]\n",
    "short_difs = np.abs(pos_short['valence'] - pos_short['valence_masked'])\n",
    "\n",
    "pos_mid = mid_posts[mid_posts['marker_category'].str.startswith(\"positive_affect\")]\n",
    "mid_difs = np.abs(pos_mid['valence'] - pos_mid['valence_masked'] )\n",
    "\n",
    "pos_long = long_posts[long_posts['marker_category'].str.startswith(\"positive_affect\")]\n",
    "long_difs = np.abs(pos_long['valence'] - pos_long['valence_masked'] )\n"
   ]
  },
  {
   "cell_type": "code",
   "execution_count": 122,
   "metadata": {},
   "outputs": [
    {
     "data": {
      "text/plain": [
       "count    5125.000000\n",
       "mean        0.115197\n",
       "std         0.096674\n",
       "min         0.000044\n",
       "25%         0.034564\n",
       "50%         0.089445\n",
       "75%         0.176671\n",
       "max         0.687007\n",
       "dtype: float64"
      ]
     },
     "execution_count": 122,
     "metadata": {},
     "output_type": "execute_result"
    }
   ],
   "source": [
    "short_difs.describe()"
   ]
  },
  {
   "cell_type": "code",
   "execution_count": 123,
   "metadata": {},
   "outputs": [
    {
     "data": {
      "text/plain": [
       "count    5328.000000\n",
       "mean        0.046266\n",
       "std         0.051458\n",
       "min         0.000030\n",
       "25%         0.011765\n",
       "50%         0.027423\n",
       "75%         0.062129\n",
       "max         0.383805\n",
       "dtype: float64"
      ]
     },
     "execution_count": 123,
     "metadata": {},
     "output_type": "execute_result"
    }
   ],
   "source": [
    "mid_difs.describe()"
   ]
  },
  {
   "cell_type": "code",
   "execution_count": 125,
   "metadata": {},
   "outputs": [
    {
     "data": {
      "text/plain": [
       "count    2585.000000\n",
       "mean        0.032532\n",
       "std         0.037212\n",
       "min         0.000003\n",
       "25%         0.008211\n",
       "50%         0.019328\n",
       "75%         0.041263\n",
       "max         0.352514\n",
       "dtype: float64"
      ]
     },
     "execution_count": 125,
     "metadata": {},
     "output_type": "execute_result"
    }
   ],
   "source": [
    "long_difs.describe()"
   ]
  },
  {
   "cell_type": "code",
   "execution_count": 134,
   "metadata": {},
   "outputs": [
    {
     "name": "stdout",
     "output_type": "stream",
     "text": [
      "0.6509745526544\n",
      "0.5559497695477558\n",
      "0.5113340205932533\n",
      "0.4891723962021868\n",
      "0.48086535369296074\n",
      "0.46861066474322616\n"
     ]
    }
   ],
   "source": [
    "print(pos_short['valence'].mean())\n",
    "print(pos_short['valence_masked'].mean())\n",
    "\n",
    "print(pos_mid['valence'].mean())\n",
    "print(pos_mid['valence_masked'].mean())\n",
    "\n",
    "print(pos_long['valence'].mean())\n",
    "print(pos_long['valence_masked'].mean())"
   ]
  },
  {
   "cell_type": "code",
   "execution_count": 131,
   "metadata": {},
   "outputs": [
    {
     "data": {
      "text/plain": [
       "<matplotlib.legend.Legend at 0x7f8096da3090>"
      ]
     },
     "execution_count": 131,
     "metadata": {},
     "output_type": "execute_result"
    },
    {
     "data": {
      "image/png": "[encoded data removed]",
      "text/plain": [
       "<Figure size 432x288 with 1 Axes>"
      ]
     },
     "metadata": {
      "needs_background": "light"
     },
     "output_type": "display_data"
    }
   ],
   "source": [
    "plt.hist(pos_short['valence'], density=True, label=\"Unmasked\")\n",
    "plt.hist(pos_short['valence_masked'], density=True, alpha=0.4, label=\"Masked\")\n",
    "plt.title(\"6-token Post Valence Scores\")\n",
    "plt.xlabel(\"Valence Scores\")\n",
    "plt.ylabel(\"Probability Density\")\n",
    "plt.legend()"
   ]
  },
  {
   "cell_type": "code",
   "execution_count": 128,
   "metadata": {},
   "outputs": [
    {
     "data": {
      "text/plain": [
       "<matplotlib.legend.Legend at 0x7f8097d3e550>"
      ]
     },
     "execution_count": 128,
     "metadata": {},
     "output_type": "execute_result"
    },
    {
     "data": {
      "image/png": "[encoded data removed]",
      "text/plain": [
       "<Figure size 432x288 with 1 Axes>"
      ]
     },
     "metadata": {
      "needs_background": "light"
     },
     "output_type": "display_data"
    }
   ],
   "source": [
    "plt.hist(pos_mid['valence'], density=True, label=\"Unmasked\")\n",
    "plt.hist(pos_mid['valence_masked'], density=True, alpha=0.4, label=\"Masked\")\n",
    "plt.title(\"16-token Post Valence Scores\")\n",
    "plt.xlabel(\"Valence Scores\")\n",
    "plt.ylabel(\"Probability Density\")\n",
    "plt.legend()"
   ]
  },
  {
   "cell_type": "code",
   "execution_count": 129,
   "metadata": {},
   "outputs": [
    {
     "data": {
      "text/plain": [
       "<matplotlib.legend.Legend at 0x7f80978a3c50>"
      ]
     },
     "execution_count": 129,
     "metadata": {},
     "output_type": "execute_result"
    },
    {
     "data": {
      "image/png": "[encoded data removed]",
      "text/plain": [
       "<Figure size 432x288 with 1 Axes>"
      ]
     },
     "metadata": {
      "needs_background": "light"
     },
     "output_type": "display_data"
    }
   ],
   "source": [
    "plt.hist(pos_long['valence'], density=True, label=\"Unmasked\")\n",
    "plt.hist(pos_long['valence_masked'], density=True, alpha=0.4, label=\"Masked\")\n",
    "plt.title(\"26-token Post Valence Scores\")\n",
    "plt.xlabel(\"Valence Scores\")\n",
    "plt.ylabel(\"Probability Density\")\n",
    "plt.legend()"
   ]
  },
  {
   "cell_type": "code",
   "execution_count": 130,
   "metadata": {},
   "outputs": [
    {
     "data": {
      "text/plain": [
       "<matplotlib.legend.Legend at 0x7f80972c8590>"
      ]
     },
     "execution_count": 130,
     "metadata": {},
     "output_type": "execute_result"
    },
    {
     "data": {
      "image/png": "[encoded data removed]",
      "text/plain": [
       "<Figure size 432x288 with 1 Axes>"
      ]
     },
     "metadata": {
      "needs_background": "light"
     },
     "output_type": "display_data"
    }
   ],
   "source": [
    "plt.hist(short_difs, density=True, label=\"6 Token Posts\")\n",
    "plt.hist(mid_difs, density=True, alpha=0.4, label=\"16 Token Posts\")\n",
    "plt.hist(long_difs, density=True, alpha=0.4, label=\"26 Token Posts\")\n",
    "plt.title(\"Absolute Difference in Mask and Unmasked Posts for Valence\")\n",
    "plt.xlabel(\"Absolute Difference in Mask/Unmasked Valence\")\n",
    "plt.ylabel(\"Probability Density\")\n",
    "plt.legend()"
   ]
  },
  {
   "cell_type": "code",
   "execution_count": 28,
   "metadata": {},
   "outputs": [
    {
     "data": {
      "text/plain": [
       "(array([6.10551274, 3.47418065, 2.94996996, 1.97349907, 1.16148643,\n",
       "        0.39058836, 0.15417961, 0.01027864, 0.01027864, 0.01027864]),\n",
       " array([1.15232402e-04, 6.16906288e-02, 1.23266025e-01, 1.84841422e-01,\n",
       "        2.46416818e-01, 3.07992214e-01, 3.69567611e-01, 4.31143007e-01,\n",
       "        4.92718403e-01, 5.54293800e-01, 6.15869196e-01]),\n",
       " <BarContainer object of 10 artists>)"
      ]
     },
     "execution_count": 28,
     "metadata": {},
     "output_type": "execute_result"
    },
    {
     "data": {
      "image/png": "[encoded data removed]",
      "text/plain": [
       "<Figure size 432x288 with 1 Axes>"
      ]
     },
     "metadata": {
      "needs_background": "light"
     },
     "output_type": "display_data"
    }
   ],
   "source": [
    "plt.hist(short_difs, density=True)"
   ]
  },
  {
   "cell_type": "code",
   "execution_count": 3,
   "metadata": {},
   "outputs": [],
   "source": [
    "df1 = pd.read_csv(\"community_posting_statistics.csv\", index_col=0)\n",
    "df2 = pd.read_csv(\"community_posting_statistics_2_5_8_11.csv\", index_col=0)\n",
    "\n",
    "df = df1.add(df2, fill_value=0).sort_values(by=\"body\")"
   ]
  },
  {
   "cell_type": "code",
   "execution_count": 29,
   "metadata": {},
   "outputs": [
    {
     "data": {
      "text/plain": [
       "(3020, 1)"
      ]
     },
     "execution_count": 29,
     "metadata": {},
     "output_type": "execute_result"
    }
   ],
   "source": [
    "df[df['body'] >= 5000].shape"
   ]
  },
  {
   "cell_type": "code",
   "execution_count": 5,
   "metadata": {},
   "outputs": [],
   "source": [
    "cutoffs = [1, 5, 10, 50, 100, 500, 1000, 5000, 10000, 50000, 100000, 500000, 1000000]\n",
    "com_counts = []\n",
    "for cutoff in cutoffs:\n",
    "    num_communities = df[df['body'] >= cutoff].shape[0]\n",
    "    com_counts.append(num_communities)"
   ]
  },
  {
   "cell_type": "code",
   "execution_count": 7,
   "metadata": {},
   "outputs": [
    {
     "data": {
      "text/plain": [
       "Text(0.5, 1.0, 'Number of communities with at least n stance marker posts')"
      ]
     },
     "execution_count": 7,
     "metadata": {},
     "output_type": "execute_result"
    },
    {
     "data": {
      "image/png": "[encoded data removed]",
      "text/plain": [
       "<Figure size 432x288 with 1 Axes>"
      ]
     },
     "metadata": {
      "needs_background": "light"
     },
     "output_type": "display_data"
    }
   ],
   "source": [
    "plt.plot(np.log10(cutoffs), com_counts, marker='o')\n",
    "plt.xticks([0, 1, 2, 3, 4, 5, 6], labels = [\"1\", \"10\", \"100\", \"1K\", \"10K\", \"100K\", \"1M\"])\n",
    "plt.xlabel(\"Number of comments with stance markers (log-scale)\")\n",
    "plt.ylabel(\"Number of communities\")\n",
    "plt.title(\"Number of communities with at least n stance marker posts\")"
   ]
  },
  {
   "cell_type": "code",
   "execution_count": 42,
   "metadata": {},
   "outputs": [
    {
     "data": {
      "text/plain": [
       "Text(0.5, 1.0, 'Number of communities with at least n stance marker posts')"
      ]
     },
     "execution_count": 42,
     "metadata": {},
     "output_type": "execute_result"
    },
    {
     "data": {
      "image/png": "[encoded data removed]",
      "text/plain": [
       "<Figure size 432x288 with 1 Axes>"
      ]
     },
     "metadata": {
      "needs_background": "light"
     },
     "output_type": "display_data"
    }
   ],
   "source": [
    "plt.plot(np.log10(cutoffs[-5:]), com_counts[-5:], marker='o')\n",
    "plt.xticks([4, 5, 6], labels = [\"10K\", \"100K\", \"1M\"])\n",
    "plt.xlabel(\"Number of comments with stance markers\")\n",
    "plt.ylabel(\"Number of communities\")\n",
    "plt.title(\"Number of communities with at least n stance marker posts\")"
   ]
  },
  {
   "cell_type": "code",
   "execution_count": 80,
   "metadata": {},
   "outputs": [
    {
     "name": "stderr",
     "output_type": "stream",
     "text": [
      "100%|██████████| 379141/379141 [00:44<00:00, 8533.52it/s]\n"
     ]
    }
   ],
   "source": [
    "ROOT_DIR = \"/ais/hal9000/datasets/reddit/stance_analysis/\"\n",
    "files = list(os.walk(ROOT_DIR))\n",
    "df = pd.read_json(files[1][0] + \"/aa\", lines=True)\n",
    "\n",
    "stance_groups = pd.read_json(\"../stancemarkers/stancemarkers.json\").T\n",
    "sub_group = stance_groups[stance_groups['stance_group'].isin([\"positive_affect_verbs\", \"positive_affect_adjective\", \"negative_affect_verbs\", \"negative_affect_adjective\", \"positive_affect_adverb\", \"negative_affect_adverb\", \"emphatic\"])]\n",
    "rel_markers = set(sub_group.index)\n",
    "marker_to_group = sub_group['stance_group'].to_dict()\n",
    "\n",
    "df = df[df['BF'] == 1]\n",
    "df['sens'] = df['body'].progress_apply(lambda x: sent_tokenize(x))\n",
    "df_big = df.explode(\"sens\")\n",
    "# df_big['len'] = df_big['body'].progress_apply(lambda x: len(word_tokenize(x)))\n"
   ]
  },
  {
   "cell_type": "code",
   "execution_count": 91,
   "metadata": {},
   "outputs": [],
   "source": [
    "def extract_relevant_markers(new_line, terms):\n",
    "    curr_body = set(new_line.lower().split(\" \"))\n",
    "    present_markers = [val for val in terms if val in curr_body]\n",
    "    return present_markers"
   ]
  },
  {
   "cell_type": "code",
   "execution_count": 100,
   "metadata": {},
   "outputs": [
    {
     "data": {
      "text/html": [
       "<div>\n",
       "<style scoped>\n",
       "    .dataframe tbody tr th:only-of-type {\n",
       "        vertical-align: middle;\n",
       "    }\n",
       "\n",
       "    .dataframe tbody tr th {\n",
       "        vertical-align: top;\n",
       "    }\n",
       "\n",
       "    .dataframe thead th {\n",
       "        text-align: right;\n",
       "    }\n",
       "</style>\n",
       "<table border=\"1\" class=\"dataframe\">\n",
       "  <thead>\n",
       "    <tr style=\"text-align: right;\">\n",
       "      <th></th>\n",
       "      <th>index</th>\n",
       "      <th>author</th>\n",
       "      <th>subreddit</th>\n",
       "      <th>id</th>\n",
       "      <th>sens</th>\n",
       "      <th>rel_marker</th>\n",
       "      <th>one_marker</th>\n",
       "      <th>marker_category</th>\n",
       "    </tr>\n",
       "  </thead>\n",
       "  <tbody>\n",
       "    <tr>\n",
       "      <th>1</th>\n",
       "      <td>1</td>\n",
       "      <td>soitgoes93</td>\n",
       "      <td>AskMen</td>\n",
       "      <td>cggwbpy</td>\n",
       "      <td>Just a guess, but, Germany?</td>\n",
       "      <td>[just]</td>\n",
       "      <td>True</td>\n",
       "      <td>emphatic</td>\n",
       "    </tr>\n",
       "    <tr>\n",
       "      <th>5</th>\n",
       "      <td>3</td>\n",
       "      <td>UCSp1tF1r3</td>\n",
       "      <td>DotA2</td>\n",
       "      <td>cggwbq3</td>\n",
       "      <td>Either way I hope you can move on as painlessl...</td>\n",
       "      <td>[hope]</td>\n",
       "      <td>True</td>\n",
       "      <td>positive_affect_verbs</td>\n",
       "    </tr>\n",
       "    <tr>\n",
       "      <th>12</th>\n",
       "      <td>7</td>\n",
       "      <td>gravity_rides</td>\n",
       "      <td>explainlikeimfive</td>\n",
       "      <td>cggwbq9</td>\n",
       "      <td>Inevitably, you reach all speeds in between ze...</td>\n",
       "      <td>[just]</td>\n",
       "      <td>True</td>\n",
       "      <td>emphatic</td>\n",
       "    </tr>\n",
       "    <tr>\n",
       "      <th>14</th>\n",
       "      <td>7</td>\n",
       "      <td>gravity_rides</td>\n",
       "      <td>explainlikeimfive</td>\n",
       "      <td>cggwbq9</td>\n",
       "      <td>Hopefully you see how the continuum applies to...</td>\n",
       "      <td>[hopefully]</td>\n",
       "      <td>True</td>\n",
       "      <td>positive_affect_adverb</td>\n",
       "    </tr>\n",
       "    <tr>\n",
       "      <th>17</th>\n",
       "      <td>7</td>\n",
       "      <td>gravity_rides</td>\n",
       "      <td>explainlikeimfive</td>\n",
       "      <td>cggwbq9</td>\n",
       "      <td>I am not knowledgeable on values and scales, b...</td>\n",
       "      <td>[just]</td>\n",
       "      <td>True</td>\n",
       "      <td>emphatic</td>\n",
       "    </tr>\n",
       "    <tr>\n",
       "      <th>...</th>\n",
       "      <td>...</td>\n",
       "      <td>...</td>\n",
       "      <td>...</td>\n",
       "      <td>...</td>\n",
       "      <td>...</td>\n",
       "      <td>...</td>\n",
       "      <td>...</td>\n",
       "      <td>...</td>\n",
       "    </tr>\n",
       "    <tr>\n",
       "      <th>1206343</th>\n",
       "      <td>499991</td>\n",
       "      <td>adamwhenderson</td>\n",
       "      <td>Dallas</td>\n",
       "      <td>cghex0v</td>\n",
       "      <td>It's just that a line wraps around the buildin...</td>\n",
       "      <td>[just]</td>\n",
       "      <td>True</td>\n",
       "      <td>emphatic</td>\n",
       "    </tr>\n",
       "    <tr>\n",
       "      <th>1206346</th>\n",
       "      <td>499992</td>\n",
       "      <td>akutabi</td>\n",
       "      <td>nfl</td>\n",
       "      <td>cghex0w</td>\n",
       "      <td>The Eagles are the one team that I never want ...</td>\n",
       "      <td>[want]</td>\n",
       "      <td>True</td>\n",
       "      <td>positive_affect_verbs</td>\n",
       "    </tr>\n",
       "    <tr>\n",
       "      <th>1206348</th>\n",
       "      <td>499993</td>\n",
       "      <td>mr_glasses</td>\n",
       "      <td>worldnews</td>\n",
       "      <td>cghex0x</td>\n",
       "      <td>Most or possibly all beliefs can of course be ...</td>\n",
       "      <td>[most]</td>\n",
       "      <td>True</td>\n",
       "      <td>emphatic</td>\n",
       "    </tr>\n",
       "    <tr>\n",
       "      <th>1206350</th>\n",
       "      <td>499993</td>\n",
       "      <td>mr_glasses</td>\n",
       "      <td>worldnews</td>\n",
       "      <td>cghex0x</td>\n",
       "      <td>It's just not the case.</td>\n",
       "      <td>[just]</td>\n",
       "      <td>True</td>\n",
       "      <td>emphatic</td>\n",
       "    </tr>\n",
       "    <tr>\n",
       "      <th>1206360</th>\n",
       "      <td>499996</td>\n",
       "      <td>Ripper62</td>\n",
       "      <td>hearthstone</td>\n",
       "      <td>cghex13</td>\n",
       "      <td>If you really wanted to make a deck with them,...</td>\n",
       "      <td>[really]</td>\n",
       "      <td>True</td>\n",
       "      <td>emphatic</td>\n",
       "    </tr>\n",
       "  </tbody>\n",
       "</table>\n",
       "<p>308503 rows × 8 columns</p>\n",
       "</div>"
      ],
      "text/plain": [
       "          index          author          subreddit       id  \\\n",
       "1             1      soitgoes93             AskMen  cggwbpy   \n",
       "5             3      UCSp1tF1r3              DotA2  cggwbq3   \n",
       "12            7   gravity_rides  explainlikeimfive  cggwbq9   \n",
       "14            7   gravity_rides  explainlikeimfive  cggwbq9   \n",
       "17            7   gravity_rides  explainlikeimfive  cggwbq9   \n",
       "...         ...             ...                ...      ...   \n",
       "1206343  499991  adamwhenderson             Dallas  cghex0v   \n",
       "1206346  499992         akutabi                nfl  cghex0w   \n",
       "1206348  499993      mr_glasses          worldnews  cghex0x   \n",
       "1206350  499993      mr_glasses          worldnews  cghex0x   \n",
       "1206360  499996        Ripper62        hearthstone  cghex13   \n",
       "\n",
       "                                                      sens   rel_marker  \\\n",
       "1                              Just a guess, but, Germany?       [just]   \n",
       "5        Either way I hope you can move on as painlessl...       [hope]   \n",
       "12       Inevitably, you reach all speeds in between ze...       [just]   \n",
       "14       Hopefully you see how the continuum applies to...  [hopefully]   \n",
       "17       I am not knowledgeable on values and scales, b...       [just]   \n",
       "...                                                    ...          ...   \n",
       "1206343  It's just that a line wraps around the buildin...       [just]   \n",
       "1206346  The Eagles are the one team that I never want ...       [want]   \n",
       "1206348  Most or possibly all beliefs can of course be ...       [most]   \n",
       "1206350                            It's just not the case.       [just]   \n",
       "1206360  If you really wanted to make a deck with them,...     [really]   \n",
       "\n",
       "         one_marker         marker_category  \n",
       "1              True                emphatic  \n",
       "5              True   positive_affect_verbs  \n",
       "12             True                emphatic  \n",
       "14             True  positive_affect_adverb  \n",
       "17             True                emphatic  \n",
       "...             ...                     ...  \n",
       "1206343        True                emphatic  \n",
       "1206346        True   positive_affect_verbs  \n",
       "1206348        True                emphatic  \n",
       "1206350        True                emphatic  \n",
       "1206360        True                emphatic  \n",
       "\n",
       "[308503 rows x 8 columns]"
      ]
     },
     "execution_count": 100,
     "metadata": {},
     "output_type": "execute_result"
    }
   ],
   "source": [
    "tmp = df_big[['author', 'subreddit', 'id', 'sens']].reset_index()\n",
    "tmp['rel_marker'] = tmp['sens'].progress_apply(lambda x: extract_relevant_markers(x, rel_markers))\n",
    "tmp['one_marker'] = tmp['rel_marker'].apply(lambda x: len(x) == 1)\n",
    "tmp = tmp[tmp['one_marker']]\n",
    "tmp['marker_category'] = tmp['rel_marker'].apply(lambda x: marker_to_group[x[0]])\n",
    "tmp"
   ]
  },
  {
   "cell_type": "code",
   "execution_count": 101,
   "metadata": {},
   "outputs": [
    {
     "name": "stderr",
     "output_type": "stream",
     "text": [
      "100%|██████████| 308503/308503 [00:51<00:00, 6004.81it/s]\n"
     ]
    }
   ],
   "source": [
    "tmp['len'] = tmp['sens'].progress_apply(lambda x: len(word_tokenize(x)))"
   ]
  },
  {
   "cell_type": "code",
   "execution_count": 108,
   "metadata": {},
   "outputs": [],
   "source": [
    "tmp = tmp.rename(columns={\"sens\": \"body\"})"
   ]
  },
  {
   "cell_type": "code",
   "execution_count": 109,
   "metadata": {},
   "outputs": [],
   "source": [
    "# tmp = df_big[['author', 'body', 'subreddit', 'BF_markers', 'len']]\n",
    "# tmp['marker_list'] = tmp['BF_markers'].apply(lambda x: x.split(\"__\"))\n",
    "# tmp['rel_marker'] = tmp['marker_list'].apply(lambda x: [marker for marker in x if marker in rel_markers])\n",
    "# tmp['one_marker'] = tmp['rel_marker'].apply(lambda x: len(x) == 1)\n",
    "# tmp = tmp[tmp['one_marker']]\n",
    "# tmp['marker_category'] = tmp['rel_marker'].apply(lambda x: marker_to_group[x[0]])"
   ]
  },
  {
   "cell_type": "code",
   "execution_count": 140,
   "metadata": {},
   "outputs": [
    {
     "data": {
      "text/plain": [
       "(69950, 9)"
      ]
     },
     "execution_count": 140,
     "metadata": {},
     "output_type": "execute_result"
    }
   ],
   "source": [
    "tmp[tmp['len'] >= 26].shape"
   ]
  },
  {
   "cell_type": "code",
   "execution_count": 110,
   "metadata": {},
   "outputs": [],
   "source": [
    "short_posts = tmp[tmp['len'] == 6]\n",
    "mid_posts = tmp[tmp['len'] == 16]\n",
    "long_posts = tmp[tmp['len'] == 26]"
   ]
  },
  {
   "cell_type": "code",
   "execution_count": 114,
   "metadata": {},
   "outputs": [
    {
     "data": {
      "text/plain": [
       "(6124, 9)"
      ]
     },
     "execution_count": 114,
     "metadata": {},
     "output_type": "execute_result"
    }
   ],
   "source": [
    "long_posts.shape"
   ]
  },
  {
   "cell_type": "code",
   "execution_count": 115,
   "metadata": {},
   "outputs": [
    {
     "name": "stderr",
     "output_type": "stream",
     "text": [
      "/u/jai/miniconda3/envs/venv37/lib/python3.7/site-packages/ipykernel_launcher.py:1: SettingWithCopyWarning: \n",
      "A value is trying to be set on a copy of a slice from a DataFrame.\n",
      "Try using .loc[row_indexer,col_indexer] = value instead\n",
      "\n",
      "See the caveats in the documentation: https://pandas.pydata.org/pandas-docs/stable/user_guide/indexing.html#returning-a-view-versus-a-copy\n",
      "  \"\"\"Entry point for launching an IPython kernel.\n",
      "/u/jai/miniconda3/envs/venv37/lib/python3.7/site-packages/ipykernel_launcher.py:2: SettingWithCopyWarning: \n",
      "A value is trying to be set on a copy of a slice from a DataFrame.\n",
      "Try using .loc[row_indexer,col_indexer] = value instead\n",
      "\n",
      "See the caveats in the documentation: https://pandas.pydata.org/pandas-docs/stable/user_guide/indexing.html#returning-a-view-versus-a-copy\n",
      "  \n",
      "/u/jai/miniconda3/envs/venv37/lib/python3.7/site-packages/ipykernel_launcher.py:3: SettingWithCopyWarning: \n",
      "A value is trying to be set on a copy of a slice from a DataFrame.\n",
      "Try using .loc[row_indexer,col_indexer] = value instead\n",
      "\n",
      "See the caveats in the documentation: https://pandas.pydata.org/pandas-docs/stable/user_guide/indexing.html#returning-a-view-versus-a-copy\n",
      "  This is separate from the ipykernel package so we can avoid doing imports until\n"
     ]
    }
   ],
   "source": [
    "short_posts['body_mask'] = short_posts.apply(lambda x: re.sub(x['rel_marker'][0], \"[MASK]\", x['body'].lower()), axis=1)\n",
    "mid_posts['body_mask'] = mid_posts.apply(lambda x: re.sub(x['rel_marker'][0], \"[MASK]\", x['body'].lower()), axis=1)\n",
    "long_posts['body_mask'] = long_posts.apply(lambda x: re.sub(x['rel_marker'][0], \"[MASK]\", x['body'].lower()), axis=1)\n"
   ]
  },
  {
   "cell_type": "code",
   "execution_count": 63,
   "metadata": {},
   "outputs": [],
   "source": [
    "valence_model = Serialization.load_obj('valence_model')\n",
    "arousal_model = Serialization.load_obj('arousal_model')\n",
    "dominance_model = Serialization.load_obj('dominance_model')"
   ]
  },
  {
   "cell_type": "code",
   "execution_count": 65,
   "metadata": {},
   "outputs": [],
   "source": [
    "def infer_emotion_value(post, regressor_v, regressor_a, regressor_d):\n",
    "    try:\n",
    "        embeddings = model.encode(post, show_progress_bar=False)\n",
    "        v_predictions = regressor_v.predict(embeddings)\n",
    "        a_predictions = regressor_a.predict(embeddings)\n",
    "        d_predictions = regressor_d.predict(embeddings)\n",
    "        assert(len(v_predictions) == len(embeddings))\n",
    "        assert type(np.mean(v_predictions)) == np.float64\n",
    "        return v_predictions, a_predictions, d_predictions\n",
    "        # return [np.mean(v_predictions), np.mean(a_predictions), np.mean(d_predictions)]\n",
    "    except Exception as e:\n",
    "        print(e)\n",
    "        return [np.nan, np.nan, np.nan]"
   ]
  },
  {
   "cell_type": "code",
   "execution_count": 116,
   "metadata": {},
   "outputs": [],
   "source": [
    "short_posts.to_csv(\"short_posts.csv\")\n",
    "mid_posts.to_csv(\"mid_posts.csv\")\n",
    "long_posts.to_csv(\"long_posts.csv\")"
   ]
  },
  {
   "cell_type": "code",
   "execution_count": 117,
   "metadata": {},
   "outputs": [
    {
     "data": {
      "text/html": [
       "<div>\n",
       "<style scoped>\n",
       "    .dataframe tbody tr th:only-of-type {\n",
       "        vertical-align: middle;\n",
       "    }\n",
       "\n",
       "    .dataframe tbody tr th {\n",
       "        vertical-align: top;\n",
       "    }\n",
       "\n",
       "    .dataframe thead th {\n",
       "        text-align: right;\n",
       "    }\n",
       "</style>\n",
       "<table border=\"1\" class=\"dataframe\">\n",
       "  <thead>\n",
       "    <tr style=\"text-align: right;\">\n",
       "      <th></th>\n",
       "      <th>index</th>\n",
       "      <th>author</th>\n",
       "      <th>subreddit</th>\n",
       "      <th>id</th>\n",
       "      <th>body</th>\n",
       "      <th>rel_marker</th>\n",
       "      <th>one_marker</th>\n",
       "      <th>marker_category</th>\n",
       "      <th>len</th>\n",
       "      <th>body_mask</th>\n",
       "    </tr>\n",
       "  </thead>\n",
       "  <tbody>\n",
       "    <tr>\n",
       "      <th>65</th>\n",
       "      <td>20</td>\n",
       "      <td>eegod</td>\n",
       "      <td>formula1</td>\n",
       "      <td>cggwbqs</td>\n",
       "      <td>Like [Bobby Jones] LINK In two different occas...</td>\n",
       "      <td>[like]</td>\n",
       "      <td>True</td>\n",
       "      <td>positive_affect_verbs</td>\n",
       "      <td>26</td>\n",
       "      <td>[MASK] [bobby jones] link in two different occ...</td>\n",
       "    </tr>\n",
       "    <tr>\n",
       "      <th>573</th>\n",
       "      <td>214</td>\n",
       "      <td>colinshoemaker</td>\n",
       "      <td>Scotch</td>\n",
       "      <td>cggwbzr</td>\n",
       "      <td>there is also a vastly overlooked and really r...</td>\n",
       "      <td>[really]</td>\n",
       "      <td>True</td>\n",
       "      <td>emphatic</td>\n",
       "      <td>26</td>\n",
       "      <td>there is also a vastly overlooked and [MASK] r...</td>\n",
       "    </tr>\n",
       "    <tr>\n",
       "      <th>705</th>\n",
       "      <td>288</td>\n",
       "      <td>Vernacules</td>\n",
       "      <td>leagueoflegends</td>\n",
       "      <td>cggwc3d</td>\n",
       "      <td>I've been on all ends of meta-breaking and alt...</td>\n",
       "      <td>[terrible]</td>\n",
       "      <td>True</td>\n",
       "      <td>negative_affect_adjective</td>\n",
       "      <td>26</td>\n",
       "      <td>i've been on all ends of meta-breaking and alt...</td>\n",
       "    </tr>\n",
       "    <tr>\n",
       "      <th>792</th>\n",
       "      <td>334</td>\n",
       "      <td>potato1</td>\n",
       "      <td>changemyview</td>\n",
       "      <td>cggwc5m</td>\n",
       "      <td>A lot of it is only because most births in the...</td>\n",
       "      <td>[most]</td>\n",
       "      <td>True</td>\n",
       "      <td>emphatic</td>\n",
       "      <td>26</td>\n",
       "      <td>a lot of it is only because [MASK] births in t...</td>\n",
       "    </tr>\n",
       "    <tr>\n",
       "      <th>894</th>\n",
       "      <td>368</td>\n",
       "      <td>rockjock29</td>\n",
       "      <td>fatpeoplestories</td>\n",
       "      <td>cggwc7b</td>\n",
       "      <td>I wish you (and Manda, Mike Robbie and the bro...</td>\n",
       "      <td>[wish]</td>\n",
       "      <td>True</td>\n",
       "      <td>positive_affect_verbs</td>\n",
       "      <td>26</td>\n",
       "      <td>i [MASK] you (and manda, mike robbie and the b...</td>\n",
       "    </tr>\n",
       "    <tr>\n",
       "      <th>...</th>\n",
       "      <td>...</td>\n",
       "      <td>...</td>\n",
       "      <td>...</td>\n",
       "      <td>...</td>\n",
       "      <td>...</td>\n",
       "      <td>...</td>\n",
       "      <td>...</td>\n",
       "      <td>...</td>\n",
       "      <td>...</td>\n",
       "      <td>...</td>\n",
       "    </tr>\n",
       "    <tr>\n",
       "      <th>1205197</th>\n",
       "      <td>499479</td>\n",
       "      <td>kurin</td>\n",
       "      <td>videos</td>\n",
       "      <td>cghewbe</td>\n",
       "      <td>No shit they live in Jersey, the city is going...</td>\n",
       "      <td>[like]</td>\n",
       "      <td>True</td>\n",
       "      <td>positive_affect_verbs</td>\n",
       "      <td>26</td>\n",
       "      <td>no shit they live in jersey, the city is going...</td>\n",
       "    </tr>\n",
       "    <tr>\n",
       "      <th>1205587</th>\n",
       "      <td>499634</td>\n",
       "      <td>ImpressiveDoggerel</td>\n",
       "      <td>television</td>\n",
       "      <td>cghewj7</td>\n",
       "      <td>That is just an incredible, incomprehensible a...</td>\n",
       "      <td>[just]</td>\n",
       "      <td>True</td>\n",
       "      <td>emphatic</td>\n",
       "      <td>26</td>\n",
       "      <td>that is [MASK] an incredible, incomprehensible...</td>\n",
       "    </tr>\n",
       "    <tr>\n",
       "      <th>1205836</th>\n",
       "      <td>499751</td>\n",
       "      <td>conor_lastowka</td>\n",
       "      <td>IAmA</td>\n",
       "      <td>cghewp2</td>\n",
       "      <td>I think we knew about four minutes in, our onl...</td>\n",
       "      <td>[fear]</td>\n",
       "      <td>True</td>\n",
       "      <td>negative_affect_verbs</td>\n",
       "      <td>26</td>\n",
       "      <td>i think we knew about four minutes in, our onl...</td>\n",
       "    </tr>\n",
       "    <tr>\n",
       "      <th>1205891</th>\n",
       "      <td>499776</td>\n",
       "      <td>btchmob</td>\n",
       "      <td>DotA2</td>\n",
       "      <td>cghewql</td>\n",
       "      <td>You know you don't need to ruin someone else's...</td>\n",
       "      <td>[just]</td>\n",
       "      <td>True</td>\n",
       "      <td>emphatic</td>\n",
       "      <td>26</td>\n",
       "      <td>you know you don't need to ruin someone else's...</td>\n",
       "    </tr>\n",
       "    <tr>\n",
       "      <th>1205955</th>\n",
       "      <td>499802</td>\n",
       "      <td>farkdog</td>\n",
       "      <td>politics</td>\n",
       "      <td>cghewrx</td>\n",
       "      <td>But as soon as the soldiers are no longer usef...</td>\n",
       "      <td>[just]</td>\n",
       "      <td>True</td>\n",
       "      <td>emphatic</td>\n",
       "      <td>26</td>\n",
       "      <td>but as soon as the soldiers are no longer usef...</td>\n",
       "    </tr>\n",
       "  </tbody>\n",
       "</table>\n",
       "<p>6124 rows × 10 columns</p>\n",
       "</div>"
      ],
      "text/plain": [
       "          index              author         subreddit       id  \\\n",
       "65           20               eegod          formula1  cggwbqs   \n",
       "573         214      colinshoemaker            Scotch  cggwbzr   \n",
       "705         288          Vernacules   leagueoflegends  cggwc3d   \n",
       "792         334             potato1      changemyview  cggwc5m   \n",
       "894         368          rockjock29  fatpeoplestories  cggwc7b   \n",
       "...         ...                 ...               ...      ...   \n",
       "1205197  499479               kurin            videos  cghewbe   \n",
       "1205587  499634  ImpressiveDoggerel        television  cghewj7   \n",
       "1205836  499751      conor_lastowka              IAmA  cghewp2   \n",
       "1205891  499776             btchmob             DotA2  cghewql   \n",
       "1205955  499802             farkdog          politics  cghewrx   \n",
       "\n",
       "                                                      body  rel_marker  \\\n",
       "65       Like [Bobby Jones] LINK In two different occas...      [like]   \n",
       "573      there is also a vastly overlooked and really r...    [really]   \n",
       "705      I've been on all ends of meta-breaking and alt...  [terrible]   \n",
       "792      A lot of it is only because most births in the...      [most]   \n",
       "894      I wish you (and Manda, Mike Robbie and the bro...      [wish]   \n",
       "...                                                    ...         ...   \n",
       "1205197  No shit they live in Jersey, the city is going...      [like]   \n",
       "1205587  That is just an incredible, incomprehensible a...      [just]   \n",
       "1205836  I think we knew about four minutes in, our onl...      [fear]   \n",
       "1205891  You know you don't need to ruin someone else's...      [just]   \n",
       "1205955  But as soon as the soldiers are no longer usef...      [just]   \n",
       "\n",
       "         one_marker            marker_category  len  \\\n",
       "65             True      positive_affect_verbs   26   \n",
       "573            True                   emphatic   26   \n",
       "705            True  negative_affect_adjective   26   \n",
       "792            True                   emphatic   26   \n",
       "894            True      positive_affect_verbs   26   \n",
       "...             ...                        ...  ...   \n",
       "1205197        True      positive_affect_verbs   26   \n",
       "1205587        True                   emphatic   26   \n",
       "1205836        True      negative_affect_verbs   26   \n",
       "1205891        True                   emphatic   26   \n",
       "1205955        True                   emphatic   26   \n",
       "\n",
       "                                                 body_mask  \n",
       "65       [MASK] [bobby jones] link in two different occ...  \n",
       "573      there is also a vastly overlooked and [MASK] r...  \n",
       "705      i've been on all ends of meta-breaking and alt...  \n",
       "792      a lot of it is only because [MASK] births in t...  \n",
       "894      i [MASK] you (and manda, mike robbie and the b...  \n",
       "...                                                    ...  \n",
       "1205197  no shit they live in jersey, the city is going...  \n",
       "1205587  that is [MASK] an incredible, incomprehensible...  \n",
       "1205836  i think we knew about four minutes in, our onl...  \n",
       "1205891  you know you don't need to ruin someone else's...  \n",
       "1205955  but as soon as the soldiers are no longer usef...  \n",
       "\n",
       "[6124 rows x 10 columns]"
      ]
     },
     "execution_count": 117,
     "metadata": {},
     "output_type": "execute_result"
    }
   ],
   "source": [
    "long_posts"
   ]
  },
  {
   "cell_type": "code",
   "execution_count": null,
   "metadata": {},
   "outputs": [],
   "source": [
    "short_posts[['valence', 'arousal', 'dominance']] = short_posts['body'].progress_apply(lambda x: infer_emotion_value(x, valence_model, arousal_model, dominance_model))"
   ]
  },
  {
   "cell_type": "code",
   "execution_count": 45,
   "metadata": {},
   "outputs": [],
   "source": [
    "tmp.to_csv(\"temporary_valence_comparison.csv\")"
   ]
  },
  {
   "cell_type": "code",
   "execution_count": 52,
   "metadata": {},
   "outputs": [
    {
     "data": {
      "text/html": [
       "<div>\n",
       "<style scoped>\n",
       "    .dataframe tbody tr th:only-of-type {\n",
       "        vertical-align: middle;\n",
       "    }\n",
       "\n",
       "    .dataframe tbody tr th {\n",
       "        vertical-align: top;\n",
       "    }\n",
       "\n",
       "    .dataframe thead th {\n",
       "        text-align: right;\n",
       "    }\n",
       "</style>\n",
       "<table border=\"1\" class=\"dataframe\">\n",
       "  <thead>\n",
       "    <tr style=\"text-align: right;\">\n",
       "      <th></th>\n",
       "      <th>body</th>\n",
       "    </tr>\n",
       "    <tr>\n",
       "      <th>subreddit</th>\n",
       "      <th></th>\n",
       "    </tr>\n",
       "  </thead>\n",
       "  <tbody>\n",
       "    <tr>\n",
       "      <th>100pushups</th>\n",
       "      <td>4</td>\n",
       "    </tr>\n",
       "    <tr>\n",
       "      <th>1022</th>\n",
       "      <td>4</td>\n",
       "    </tr>\n",
       "    <tr>\n",
       "      <th>1200isplenty</th>\n",
       "      <td>10</td>\n",
       "    </tr>\n",
       "    <tr>\n",
       "      <th>1911</th>\n",
       "      <td>32</td>\n",
       "    </tr>\n",
       "    <tr>\n",
       "      <th>195</th>\n",
       "      <td>32</td>\n",
       "    </tr>\n",
       "    <tr>\n",
       "      <th>...</th>\n",
       "      <td>...</td>\n",
       "    </tr>\n",
       "    <tr>\n",
       "      <th>zelda</th>\n",
       "      <td>128</td>\n",
       "    </tr>\n",
       "    <tr>\n",
       "      <th>zen</th>\n",
       "      <td>172</td>\n",
       "    </tr>\n",
       "    <tr>\n",
       "      <th>zombies</th>\n",
       "      <td>40</td>\n",
       "    </tr>\n",
       "    <tr>\n",
       "      <th>zoology</th>\n",
       "      <td>4</td>\n",
       "    </tr>\n",
       "    <tr>\n",
       "      <th>zyzz</th>\n",
       "      <td>6</td>\n",
       "    </tr>\n",
       "  </tbody>\n",
       "</table>\n",
       "<p>5735 rows × 1 columns</p>\n",
       "</div>"
      ],
      "text/plain": [
       "              body\n",
       "subreddit         \n",
       "100pushups       4\n",
       "1022             4\n",
       "1200isplenty    10\n",
       "1911            32\n",
       "195             32\n",
       "...            ...\n",
       "zelda          128\n",
       "zen            172\n",
       "zombies         40\n",
       "zoology          4\n",
       "zyzz             6\n",
       "\n",
       "[5735 rows x 1 columns]"
      ]
     },
     "execution_count": 52,
     "metadata": {},
     "output_type": "execute_result"
    }
   ],
   "source": [
    "x = tmp[['body', 'subreddit']].groupby(\"subreddit\").count()\n",
    "x.add(x, fill_value=0)"
   ]
  },
  {
   "cell_type": "code",
   "execution_count": 51,
   "metadata": {},
   "outputs": [
    {
     "data": {
      "text/html": [
       "<div>\n",
       "<style scoped>\n",
       "    .dataframe tbody tr th:only-of-type {\n",
       "        vertical-align: middle;\n",
       "    }\n",
       "\n",
       "    .dataframe tbody tr th {\n",
       "        vertical-align: top;\n",
       "    }\n",
       "\n",
       "    .dataframe thead th {\n",
       "        text-align: right;\n",
       "    }\n",
       "</style>\n",
       "<table border=\"1\" class=\"dataframe\">\n",
       "  <thead>\n",
       "    <tr style=\"text-align: right;\">\n",
       "      <th></th>\n",
       "      <th>body</th>\n",
       "    </tr>\n",
       "    <tr>\n",
       "      <th>subreddit</th>\n",
       "      <th></th>\n",
       "    </tr>\n",
       "  </thead>\n",
       "  <tbody>\n",
       "    <tr>\n",
       "      <th>100pushups</th>\n",
       "      <td>4</td>\n",
       "    </tr>\n",
       "    <tr>\n",
       "      <th>1022</th>\n",
       "      <td>4</td>\n",
       "    </tr>\n",
       "    <tr>\n",
       "      <th>1200isplenty</th>\n",
       "      <td>10</td>\n",
       "    </tr>\n",
       "    <tr>\n",
       "      <th>1911</th>\n",
       "      <td>32</td>\n",
       "    </tr>\n",
       "    <tr>\n",
       "      <th>195</th>\n",
       "      <td>32</td>\n",
       "    </tr>\n",
       "    <tr>\n",
       "      <th>...</th>\n",
       "      <td>...</td>\n",
       "    </tr>\n",
       "    <tr>\n",
       "      <th>zelda</th>\n",
       "      <td>128</td>\n",
       "    </tr>\n",
       "    <tr>\n",
       "      <th>zen</th>\n",
       "      <td>172</td>\n",
       "    </tr>\n",
       "    <tr>\n",
       "      <th>zombies</th>\n",
       "      <td>40</td>\n",
       "    </tr>\n",
       "    <tr>\n",
       "      <th>zoology</th>\n",
       "      <td>4</td>\n",
       "    </tr>\n",
       "    <tr>\n",
       "      <th>zyzz</th>\n",
       "      <td>6</td>\n",
       "    </tr>\n",
       "  </tbody>\n",
       "</table>\n",
       "<p>5735 rows × 1 columns</p>\n",
       "</div>"
      ],
      "text/plain": [
       "              body\n",
       "subreddit         \n",
       "100pushups       4\n",
       "1022             4\n",
       "1200isplenty    10\n",
       "1911            32\n",
       "195             32\n",
       "...            ...\n",
       "zelda          128\n",
       "zen            172\n",
       "zombies         40\n",
       "zoology          4\n",
       "zyzz             6\n",
       "\n",
       "[5735 rows x 1 columns]"
      ]
     },
     "execution_count": 51,
     "metadata": {},
     "output_type": "execute_result"
    }
   ],
   "source": [
    " + tmp[['body', 'subreddit']].groupby(\"subreddit\").count()"
   ]
  },
  {
   "cell_type": "code",
   "execution_count": 56,
   "metadata": {},
   "outputs": [
    {
     "name": "stderr",
     "output_type": "stream",
     "text": [
      "  0%|          | 0/3 [00:00<?, ?it/s]"
     ]
    },
    {
     "name": "stdout",
     "output_type": "stream",
     "text": [
      "/ais/hal9000/datasets/reddit/stance_analysis/2014_04_files/aa\n"
     ]
    },
    {
     "name": "stderr",
     "output_type": "stream",
     "text": [
      " 33%|███▎      | 1/3 [00:10<00:21, 10.99s/it]"
     ]
    },
    {
     "name": "stdout",
     "output_type": "stream",
     "text": [
      "/ais/hal9000/datasets/reddit/stance_analysis/2014_04_files/ab\n"
     ]
    },
    {
     "name": "stderr",
     "output_type": "stream",
     "text": [
      " 67%|██████▋   | 2/3 [00:21<00:10, 10.79s/it]"
     ]
    },
    {
     "name": "stdout",
     "output_type": "stream",
     "text": [
      "/ais/hal9000/datasets/reddit/stance_analysis/2014_04_files/ac\n"
     ]
    },
    {
     "name": "stderr",
     "output_type": "stream",
     "text": [
      "100%|██████████| 3/3 [00:32<00:00, 10.84s/it]\n"
     ]
    }
   ],
   "source": [
    "total = None\n",
    "for dir_tup in files:\n",
    "    dir = dir_tup[0]\n",
    "    if not dir.endswith(\"files\"):\n",
    "        continue\n",
    "    sub_files = sorted(dir_tup[2])\n",
    "    for sub_file in tqdm(sub_files[:3]):\n",
    "        print(dir + \"/\" + sub_file)\n",
    "        df = pd.read_json(dir + \"/\" + sub_file, lines=True)\n",
    "        tmp = df[df['BF'] == 1][['body', 'subreddit']]\n",
    "        agg = tmp.groupby(\"subreddit\").count()\n",
    "        if total is None:\n",
    "            total = agg\n",
    "        else:\n",
    "            total = total.add(agg, fill_value=0)\n",
    "    break\n",
    "\n"
   ]
  },
  {
   "cell_type": "code",
   "execution_count": 59,
   "metadata": {},
   "outputs": [
    {
     "data": {
      "text/html": [
       "<div>\n",
       "<style scoped>\n",
       "    .dataframe tbody tr th:only-of-type {\n",
       "        vertical-align: middle;\n",
       "    }\n",
       "\n",
       "    .dataframe tbody tr th {\n",
       "        vertical-align: top;\n",
       "    }\n",
       "\n",
       "    .dataframe thead th {\n",
       "        text-align: right;\n",
       "    }\n",
       "</style>\n",
       "<table border=\"1\" class=\"dataframe\">\n",
       "  <thead>\n",
       "    <tr style=\"text-align: right;\">\n",
       "      <th></th>\n",
       "      <th>body</th>\n",
       "    </tr>\n",
       "    <tr>\n",
       "      <th>subreddit</th>\n",
       "      <th></th>\n",
       "    </tr>\n",
       "  </thead>\n",
       "  <tbody>\n",
       "    <tr>\n",
       "      <th>100pushups</th>\n",
       "      <td>2.0</td>\n",
       "    </tr>\n",
       "    <tr>\n",
       "      <th>1022</th>\n",
       "      <td>20.0</td>\n",
       "    </tr>\n",
       "    <tr>\n",
       "      <th>1200isplenty</th>\n",
       "      <td>27.0</td>\n",
       "    </tr>\n",
       "    <tr>\n",
       "      <th>1911</th>\n",
       "      <td>34.0</td>\n",
       "    </tr>\n",
       "    <tr>\n",
       "      <th>195</th>\n",
       "      <td>8.0</td>\n",
       "    </tr>\n",
       "    <tr>\n",
       "      <th>...</th>\n",
       "      <td>...</td>\n",
       "    </tr>\n",
       "    <tr>\n",
       "      <th>zelda</th>\n",
       "      <td>341.0</td>\n",
       "    </tr>\n",
       "    <tr>\n",
       "      <th>zen</th>\n",
       "      <td>461.0</td>\n",
       "    </tr>\n",
       "    <tr>\n",
       "      <th>zerocarb</th>\n",
       "      <td>3.0</td>\n",
       "    </tr>\n",
       "    <tr>\n",
       "      <th>zombies</th>\n",
       "      <td>73.0</td>\n",
       "    </tr>\n",
       "    <tr>\n",
       "      <th>zyzz</th>\n",
       "      <td>7.0</td>\n",
       "    </tr>\n",
       "  </tbody>\n",
       "</table>\n",
       "<p>6358 rows × 1 columns</p>\n",
       "</div>"
      ],
      "text/plain": [
       "               body\n",
       "subreddit          \n",
       "100pushups      2.0\n",
       "1022           20.0\n",
       "1200isplenty   27.0\n",
       "1911           34.0\n",
       "195             8.0\n",
       "...             ...\n",
       "zelda         341.0\n",
       "zen           461.0\n",
       "zerocarb        3.0\n",
       "zombies        73.0\n",
       "zyzz            7.0\n",
       "\n",
       "[6358 rows x 1 columns]"
      ]
     },
     "execution_count": 59,
     "metadata": {},
     "output_type": "execute_result"
    }
   ],
   "source": [
    "total"
   ]
  },
  {
   "cell_type": "code",
   "execution_count": null,
   "metadata": {},
   "outputs": [],
   "source": []
  }
 ],
 "metadata": {
  "kernelspec": {
   "display_name": "Python 3.7.9 ('venv37')",
   "language": "python",
   "name": "python3"
  },
  "language_info": {
   "codemirror_mode": {
    "name": "ipython",
    "version": 3
   },
   "file_extension": ".py",
   "mimetype": "text/x-python",
   "name": "python",
   "nbconvert_exporter": "python",
   "pygments_lexer": "ipython3",
   "version": "3.7.9"
  },
  "orig_nbformat": 4,
  "vscode": {
   "interpreter": {
    "hash": "3da9994af9e3093f34be5556416449be7c3908df46ffc29ccdba7bd3fd3a7b92"
   }
  }
 },
 "nbformat": 4,
 "nbformat_minor": 2
}
